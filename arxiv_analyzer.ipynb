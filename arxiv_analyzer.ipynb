{
 "cells": [
  {
   "cell_type": "code",
   "execution_count": 1,
   "id": "7fa14517",
   "metadata": {},
   "outputs": [
    {
     "name": "stdout",
     "output_type": "stream",
     "text": [
      "Requirement already satisfied: arxiv in /home/alatus/anaconda3/envs/10_days_AI/lib/python3.8/site-packages (1.4.2)\r\n",
      "Requirement already satisfied: feedparser in /home/alatus/anaconda3/envs/10_days_AI/lib/python3.8/site-packages (from arxiv) (6.0.10)\r\n",
      "Requirement already satisfied: sgmllib3k in /home/alatus/anaconda3/envs/10_days_AI/lib/python3.8/site-packages (from feedparser->arxiv) (1.0.0)\r\n"
     ]
    }
   ],
   "source": [
    "!pip install arxiv"
   ]
  },
  {
   "cell_type": "code",
   "execution_count": 2,
   "id": "0fe9f84e",
   "metadata": {},
   "outputs": [],
   "source": [
    "import arxiv\n",
    "import pandas as pd"
   ]
  },
  {
   "cell_type": "code",
   "execution_count": 3,
   "id": "ead6ca64",
   "metadata": {},
   "outputs": [],
   "source": [
    "keyphrases = ['\"image synthesis\"', 'deepfake', 'deepfake?', '\"deep-fake\"', '\"voice cloning\"', 'fake AND voice']\n",
    "#keyphrases = []\n",
    "#voice conversion\n",
    "\n",
    "\n",
    "\n",
    "#deepfake\"\n",
    "#'\"deep fake\"'\n",
    "#'\"fake video\"'\n",
    "#'\"video forgery\"'\n",
    "#'\"image generation\" \"face\"'"
   ]
  },
  {
   "cell_type": "code",
   "execution_count": 8,
   "id": "bbbf74b7",
   "metadata": {},
   "outputs": [
    {
     "data": {
      "application/vnd.jupyter.widget-view+json": {
       "model_id": "1c0c660ab65c4c5e8a3daa29f5521d97",
       "version_major": 2,
       "version_minor": 0
      },
      "text/plain": [
       "  0%|          | 0/6 [00:00<?, ?it/s]"
      ]
     },
     "metadata": {},
     "output_type": "display_data"
    },
    {
     "data": {
      "application/vnd.jupyter.widget-view+json": {
       "model_id": "b9cc59f486344dcab45b862e4c0e958f",
       "version_major": 2,
       "version_minor": 0
      },
      "text/plain": [
       "0it [00:00, ?it/s]"
      ]
     },
     "metadata": {},
     "output_type": "display_data"
    },
    {
     "data": {
      "application/vnd.jupyter.widget-view+json": {
       "model_id": "f9892563625c4b8eb107caea6f86ceb7",
       "version_major": 2,
       "version_minor": 0
      },
      "text/plain": [
       "0it [00:00, ?it/s]"
      ]
     },
     "metadata": {},
     "output_type": "display_data"
    },
    {
     "data": {
      "application/vnd.jupyter.widget-view+json": {
       "model_id": "07717e67c6774c7ca7508779b6c03905",
       "version_major": 2,
       "version_minor": 0
      },
      "text/plain": [
       "0it [00:00, ?it/s]"
      ]
     },
     "metadata": {},
     "output_type": "display_data"
    },
    {
     "data": {
      "application/vnd.jupyter.widget-view+json": {
       "model_id": "f7e3d5325af542d19627bb924f120c01",
       "version_major": 2,
       "version_minor": 0
      },
      "text/plain": [
       "0it [00:00, ?it/s]"
      ]
     },
     "metadata": {},
     "output_type": "display_data"
    },
    {
     "data": {
      "application/vnd.jupyter.widget-view+json": {
       "model_id": "f54518505fd746c9a3d0d21b475bbee4",
       "version_major": 2,
       "version_minor": 0
      },
      "text/plain": [
       "0it [00:00, ?it/s]"
      ]
     },
     "metadata": {},
     "output_type": "display_data"
    },
    {
     "data": {
      "application/vnd.jupyter.widget-view+json": {
       "model_id": "e823445974444558b9cf609bf4ad37ce",
       "version_major": 2,
       "version_minor": 0
      },
      "text/plain": [
       "0it [00:00, ?it/s]"
      ]
     },
     "metadata": {},
     "output_type": "display_data"
    },
    {
     "data": {
      "text/html": [
       "<div>\n",
       "<style scoped>\n",
       "    .dataframe tbody tr th:only-of-type {\n",
       "        vertical-align: middle;\n",
       "    }\n",
       "\n",
       "    .dataframe tbody tr th {\n",
       "        vertical-align: top;\n",
       "    }\n",
       "\n",
       "    .dataframe thead th {\n",
       "        text-align: right;\n",
       "    }\n",
       "</style>\n",
       "<table border=\"1\" class=\"dataframe\">\n",
       "  <thead>\n",
       "    <tr style=\"text-align: right;\">\n",
       "      <th></th>\n",
       "      <th>url</th>\n",
       "      <th>title</th>\n",
       "      <th>primary_category</th>\n",
       "      <th>categories</th>\n",
       "      <th>abstract</th>\n",
       "    </tr>\n",
       "    <tr>\n",
       "      <th>published</th>\n",
       "      <th></th>\n",
       "      <th></th>\n",
       "      <th></th>\n",
       "      <th></th>\n",
       "      <th></th>\n",
       "    </tr>\n",
       "  </thead>\n",
       "  <tbody>\n",
       "    <tr>\n",
       "      <th>2022-09-13 17:47:39+00:00</th>\n",
       "      <td>http://arxiv.org/abs/2209.06192v1</td>\n",
       "      <td>StoryDALL-E: Adapting Pretrained Text-to-Image...</td>\n",
       "      <td>cs.CV</td>\n",
       "      <td>[cs.CV, cs.AI, cs.CL]</td>\n",
       "      <td>Recent advances in text-to-image synthesis hav...</td>\n",
       "    </tr>\n",
       "    <tr>\n",
       "      <th>2022-09-09 12:42:00+00:00</th>\n",
       "      <td>http://arxiv.org/abs/2209.04275v1</td>\n",
       "      <td>Temporally Adjustable Longitudinal Fluid-Atten...</td>\n",
       "      <td>eess.IV</td>\n",
       "      <td>[eess.IV, cs.CV, physics.med-ph]</td>\n",
       "      <td>Multiple Sclerosis (MS) is a chronic progressi...</td>\n",
       "    </tr>\n",
       "    <tr>\n",
       "      <th>2022-09-09 10:17:49+00:00</th>\n",
       "      <td>http://arxiv.org/abs/2209.04223v1</td>\n",
       "      <td>Pathology Synthesis of 3D Consistent Cardiac M...</td>\n",
       "      <td>eess.IV</td>\n",
       "      <td>[eess.IV, cs.CV]</td>\n",
       "      <td>We propose a method for synthesizing cardiac M...</td>\n",
       "    </tr>\n",
       "    <tr>\n",
       "      <th>2022-09-09 08:44:06+00:00</th>\n",
       "      <td>http://arxiv.org/abs/2209.04183v1</td>\n",
       "      <td>Generative Deformable Radiance Fields for Dise...</td>\n",
       "      <td>cs.CV</td>\n",
       "      <td>[cs.CV]</td>\n",
       "      <td>3D-aware generative models have demonstrated t...</td>\n",
       "    </tr>\n",
       "    <tr>\n",
       "      <th>2022-09-06 14:37:01+00:00</th>\n",
       "      <td>http://arxiv.org/abs/2209.02536v1</td>\n",
       "      <td>Semantic Image Synthesis with Semantically Cou...</td>\n",
       "      <td>cs.CV</td>\n",
       "      <td>[cs.CV, cs.AI]</td>\n",
       "      <td>Semantic image synthesis enables control over ...</td>\n",
       "    </tr>\n",
       "    <tr>\n",
       "      <th>...</th>\n",
       "      <td>...</td>\n",
       "      <td>...</td>\n",
       "      <td>...</td>\n",
       "      <td>...</td>\n",
       "      <td>...</td>\n",
       "    </tr>\n",
       "    <tr>\n",
       "      <th>2019-05-29 15:28:35+00:00</th>\n",
       "      <td>http://arxiv.org/abs/1905.12531v1</td>\n",
       "      <td>Measuring the Effectiveness of Voice Conversio...</td>\n",
       "      <td>eess.AS</td>\n",
       "      <td>[eess.AS]</td>\n",
       "      <td>This paper evaluates the effectiveness of a Cy...</td>\n",
       "    </tr>\n",
       "    <tr>\n",
       "      <th>2019-04-13 20:51:26+00:00</th>\n",
       "      <td>http://arxiv.org/abs/1904.06591v1</td>\n",
       "      <td>Towards Vulnerability Analysis of Voice-Driven...</td>\n",
       "      <td>cs.CR</td>\n",
       "      <td>[cs.CR, cs.SD, eess.AS, 92C55, I.2.1; I.5.4]</td>\n",
       "      <td>Fake audio detection is expected to become an ...</td>\n",
       "    </tr>\n",
       "    <tr>\n",
       "      <th>2018-04-23 13:54:47+00:00</th>\n",
       "      <td>http://arxiv.org/abs/1804.08438v2</td>\n",
       "      <td>A Spoofing Benchmark for the 2018 Voice Conver...</td>\n",
       "      <td>eess.AS</td>\n",
       "      <td>[eess.AS, cs.CL, cs.SD, stat.ML]</td>\n",
       "      <td>Voice conversion (VC) aims at conversion of sp...</td>\n",
       "    </tr>\n",
       "    <tr>\n",
       "      <th>2017-12-09 01:37:34+00:00</th>\n",
       "      <td>http://arxiv.org/abs/1712.03327v3</td>\n",
       "      <td>The Insecurity of Home Digital Voice Assistant...</td>\n",
       "      <td>cs.CR</td>\n",
       "      <td>[cs.CR]</td>\n",
       "      <td>Home Digital Voice Assistants (HDVAs) are gett...</td>\n",
       "    </tr>\n",
       "    <tr>\n",
       "      <th>2009-12-21 19:30:04+00:00</th>\n",
       "      <td>http://arxiv.org/abs/0912.4241v1</td>\n",
       "      <td>Dynamic routing based on call quality</td>\n",
       "      <td>cs.NI</td>\n",
       "      <td>[cs.NI]</td>\n",
       "      <td>The telephony over IP (ToIP) is becoming a new...</td>\n",
       "    </tr>\n",
       "  </tbody>\n",
       "</table>\n",
       "<p>1106 rows × 5 columns</p>\n",
       "</div>"
      ],
      "text/plain": [
       "                                                         url  \\\n",
       "published                                                      \n",
       "2022-09-13 17:47:39+00:00  http://arxiv.org/abs/2209.06192v1   \n",
       "2022-09-09 12:42:00+00:00  http://arxiv.org/abs/2209.04275v1   \n",
       "2022-09-09 10:17:49+00:00  http://arxiv.org/abs/2209.04223v1   \n",
       "2022-09-09 08:44:06+00:00  http://arxiv.org/abs/2209.04183v1   \n",
       "2022-09-06 14:37:01+00:00  http://arxiv.org/abs/2209.02536v1   \n",
       "...                                                      ...   \n",
       "2019-05-29 15:28:35+00:00  http://arxiv.org/abs/1905.12531v1   \n",
       "2019-04-13 20:51:26+00:00  http://arxiv.org/abs/1904.06591v1   \n",
       "2018-04-23 13:54:47+00:00  http://arxiv.org/abs/1804.08438v2   \n",
       "2017-12-09 01:37:34+00:00  http://arxiv.org/abs/1712.03327v3   \n",
       "2009-12-21 19:30:04+00:00   http://arxiv.org/abs/0912.4241v1   \n",
       "\n",
       "                                                                       title  \\\n",
       "published                                                                      \n",
       "2022-09-13 17:47:39+00:00  StoryDALL-E: Adapting Pretrained Text-to-Image...   \n",
       "2022-09-09 12:42:00+00:00  Temporally Adjustable Longitudinal Fluid-Atten...   \n",
       "2022-09-09 10:17:49+00:00  Pathology Synthesis of 3D Consistent Cardiac M...   \n",
       "2022-09-09 08:44:06+00:00  Generative Deformable Radiance Fields for Dise...   \n",
       "2022-09-06 14:37:01+00:00  Semantic Image Synthesis with Semantically Cou...   \n",
       "...                                                                      ...   \n",
       "2019-05-29 15:28:35+00:00  Measuring the Effectiveness of Voice Conversio...   \n",
       "2019-04-13 20:51:26+00:00  Towards Vulnerability Analysis of Voice-Driven...   \n",
       "2018-04-23 13:54:47+00:00  A Spoofing Benchmark for the 2018 Voice Conver...   \n",
       "2017-12-09 01:37:34+00:00  The Insecurity of Home Digital Voice Assistant...   \n",
       "2009-12-21 19:30:04+00:00              Dynamic routing based on call quality   \n",
       "\n",
       "                          primary_category  \\\n",
       "published                                    \n",
       "2022-09-13 17:47:39+00:00            cs.CV   \n",
       "2022-09-09 12:42:00+00:00          eess.IV   \n",
       "2022-09-09 10:17:49+00:00          eess.IV   \n",
       "2022-09-09 08:44:06+00:00            cs.CV   \n",
       "2022-09-06 14:37:01+00:00            cs.CV   \n",
       "...                                    ...   \n",
       "2019-05-29 15:28:35+00:00          eess.AS   \n",
       "2019-04-13 20:51:26+00:00            cs.CR   \n",
       "2018-04-23 13:54:47+00:00          eess.AS   \n",
       "2017-12-09 01:37:34+00:00            cs.CR   \n",
       "2009-12-21 19:30:04+00:00            cs.NI   \n",
       "\n",
       "                                                             categories  \\\n",
       "published                                                                 \n",
       "2022-09-13 17:47:39+00:00                         [cs.CV, cs.AI, cs.CL]   \n",
       "2022-09-09 12:42:00+00:00              [eess.IV, cs.CV, physics.med-ph]   \n",
       "2022-09-09 10:17:49+00:00                              [eess.IV, cs.CV]   \n",
       "2022-09-09 08:44:06+00:00                                       [cs.CV]   \n",
       "2022-09-06 14:37:01+00:00                                [cs.CV, cs.AI]   \n",
       "...                                                                 ...   \n",
       "2019-05-29 15:28:35+00:00                                     [eess.AS]   \n",
       "2019-04-13 20:51:26+00:00  [cs.CR, cs.SD, eess.AS, 92C55, I.2.1; I.5.4]   \n",
       "2018-04-23 13:54:47+00:00              [eess.AS, cs.CL, cs.SD, stat.ML]   \n",
       "2017-12-09 01:37:34+00:00                                       [cs.CR]   \n",
       "2009-12-21 19:30:04+00:00                                       [cs.NI]   \n",
       "\n",
       "                                                                    abstract  \n",
       "published                                                                     \n",
       "2022-09-13 17:47:39+00:00  Recent advances in text-to-image synthesis hav...  \n",
       "2022-09-09 12:42:00+00:00  Multiple Sclerosis (MS) is a chronic progressi...  \n",
       "2022-09-09 10:17:49+00:00  We propose a method for synthesizing cardiac M...  \n",
       "2022-09-09 08:44:06+00:00  3D-aware generative models have demonstrated t...  \n",
       "2022-09-06 14:37:01+00:00  Semantic image synthesis enables control over ...  \n",
       "...                                                                      ...  \n",
       "2019-05-29 15:28:35+00:00  This paper evaluates the effectiveness of a Cy...  \n",
       "2019-04-13 20:51:26+00:00  Fake audio detection is expected to become an ...  \n",
       "2018-04-23 13:54:47+00:00  Voice conversion (VC) aims at conversion of sp...  \n",
       "2017-12-09 01:37:34+00:00  Home Digital Voice Assistants (HDVAs) are gett...  \n",
       "2009-12-21 19:30:04+00:00  The telephony over IP (ToIP) is becoming a new...  \n",
       "\n",
       "[1106 rows x 5 columns]"
      ]
     },
     "execution_count": 8,
     "metadata": {},
     "output_type": "execute_result"
    }
   ],
   "source": [
    "from ast import literal_eval\n",
    "from tqdm.notebook import tqdm\n",
    "\n",
    "def do_search(keyphrase):\n",
    "    \n",
    "    search = arxiv.Search(\n",
    "      query = keyphrase,\n",
    "      #id_list: List[str] = [],\n",
    "      max_results = 10000,\n",
    "      sort_by = arxiv.SortCriterion.SubmittedDate,\n",
    "      #sort_by: SortCriterion = SortCriterion.Relevanvce,\n",
    "      sort_order = arxiv.SortOrder.Descending)\n",
    "    \n",
    "    return search\n",
    "\n",
    "def parse_search_to_df(search):\n",
    "    \n",
    "    results = []\n",
    "  \n",
    "    for raw_result in tqdm(search.results()):\n",
    "        parsed_result = {}\n",
    "        parsed_result[\"published\"] = raw_result.published\n",
    "        parsed_result[\"url\"] = raw_result.entry_id\n",
    "        parsed_result[\"title\"] = raw_result.title\n",
    "        parsed_result[\"primary_category\"] = raw_result.primary_category\n",
    "        parsed_result[\"categories\"] = raw_result.categories\n",
    "        parsed_result[\"abstract\"] = raw_result.summary\n",
    "        results.append(parsed_result)\n",
    "    \n",
    "    local_result_df = pd.DataFrame(results)\n",
    "    if results:\n",
    "        local_result_df[\"published\"] = pd.to_datetime(local_result_df[\"published\"])\n",
    "        local_result_df.set_index(\"published\", inplace=True)\n",
    "        local_result_df[\"categories\"] = local_result_df[\"categories\"].astype(str)\n",
    "    \n",
    "    return local_result_df\n",
    "\n",
    "def do_keyphrase_list(keyphrases):\n",
    "    \n",
    "    for keyphrase in tqdm(keyphrases):\n",
    "        if \"local_result_df\" in locals():\n",
    "            tmp_df = parse_search_to_df(do_search(keyphrase))\n",
    "            local_result_df = pd.concat([local_result_df,tmp_df])#, ignore_index=True)\n",
    "            local_result_df.drop_duplicates(inplace=True)\n",
    "        else:\n",
    "            local_result_df = parse_search_to_df(do_search(keyphrase))\n",
    "\n",
    "    local_result_df[\"categories\"] = local_result_df[\"categories\"].apply(lambda x: literal_eval(str(x)))\n",
    "    return local_result_df\n",
    "\n",
    "result_df = do_keyphrase_list(keyphrases)\n",
    "result_df\n",
    "\n",
    "\n"
   ]
  },
  {
   "cell_type": "code",
   "execution_count": 9,
   "id": "1c4fb144",
   "metadata": {},
   "outputs": [
    {
     "name": "stdout",
     "output_type": "stream",
     "text": [
      "Total number of papers 1106\n"
     ]
    }
   ],
   "source": [
    "print(\"Total number of papers\",len(result_df))"
   ]
  },
  {
   "cell_type": "code",
   "execution_count": 10,
   "id": "882b4177",
   "metadata": {},
   "outputs": [
    {
     "data": {
      "text/plain": [
       "<AxesSubplot:xlabel='published'>"
      ]
     },
     "execution_count": 10,
     "metadata": {},
     "output_type": "execute_result"
    },
    {
     "data": {
      "image/png": "[encoded data removed]",
      "text/plain": [
       "<Figure size 432x288 with 1 Axes>"
      ]
     },
     "metadata": {
      "needs_background": "light"
     },
     "output_type": "display_data"
    }
   ],
   "source": [
    "result_df[\"url\"].resample(\"1M\").count().plot()"
   ]
  },
  {
   "cell_type": "code",
   "execution_count": null,
   "id": "6ab45560",
   "metadata": {},
   "outputs": [],
   "source": [
    "#filter categories"
   ]
  },
  {
   "cell_type": "code",
   "execution_count": null,
   "id": "27a19e95",
   "metadata": {},
   "outputs": [],
   "source": [
    "result_df.primary_category.value_counts()"
   ]
  },
  {
   "cell_type": "code",
   "execution_count": 44,
   "id": "99ce4984",
   "metadata": {},
   "outputs": [
    {
     "name": "stdout",
     "output_type": "stream",
     "text": [
      "We present \\textbf{FakeET}-- an eye-tracking database to understand human\n",
      "visual perception of \\emph{deepfake} videos. Given that the principal purpose\n",
      "of deepfakes is to deceive human observers, FakeET is designed to understand\n",
      "and evaluate the ease with which viewers can detect synthetic video artifacts.\n",
      "FakeET contains viewing patterns compiled from 40 users via the \\emph{Tobii}\n",
      "desktop eye-tracker for 811 videos from the \\textit{Google Deepfake} dataset,\n",
      "with a minimum of two viewings per video. Additionally, EEG responses acquired\n",
      "via the \\emph{Emotiv} sensor are also available. The compiled data confirms (a)\n",
      "distinct eye movement characteristics for \\emph{real} vs \\emph{fake} videos;\n",
      "(b) utility of the eye-track saliency maps for spatial forgery localization and\n",
      "detection, and (c) Error Related Negativity (ERN) triggers in the EEG\n",
      "responses, and the ability of the \\emph{raw} EEG signal to distinguish between\n",
      "\\emph{real} and \\emph{fake} videos. \n",
      "\n",
      "\n",
      "In this work, we describe a new deep learning based method that can\n",
      "effectively distinguish AI-generated fake videos (referred to as {\\em DeepFake}\n",
      "videos hereafter) from real videos. Our method is based on the observations\n",
      "that current DeepFake algorithm can only generate images of limited\n",
      "resolutions, which need to be further warped to match the original faces in the\n",
      "source video. Such transforms leave distinctive artifacts in the resulting\n",
      "DeepFake videos, and we show that they can be effectively captured by\n",
      "convolutional neural networks (CNNs). Compared to previous methods which use a\n",
      "large amount of real and DeepFake generated images to train CNN classifier, our\n",
      "method does not need DeepFake generated images as negative training examples\n",
      "since we target the artifacts in affine face warping as the distinctive feature\n",
      "to distinguish real and fake images. The advantages of our method are two-fold:\n",
      "(1) Such artifacts can be simulated directly using simple image processing\n",
      "operations on a image to make it as negative example. Since training a DeepFake\n",
      "model to generate negative examples is time-consuming and resource-demanding,\n",
      "our method saves a plenty of time and resources in training data collection;\n",
      "(2) Since such artifacts are general existed in DeepFake videos from different\n",
      "sources, our method is more robust compared to others. Our method is evaluated\n",
      "on two sets of DeepFake video datasets for its effectiveness in practice. \n",
      "\n",
      "\n"
     ]
    }
   ],
   "source": [
    "for abst in result_df[\"abstract\"]:\n",
    "    print(abst,\"\\n\\n\")"
   ]
  },
  {
   "cell_type": "code",
   "execution_count": 14,
   "id": "2b6e4af2",
   "metadata": {},
   "outputs": [
    {
     "name": "stdout",
     "output_type": "stream",
     "text": [
      "Contrast resolution beyond the limits of conventional cone-beam CT (CBCT)\n",
      "systems is essential to high-quality imaging of the brain. We present a deep\n",
      "learning reconstruction method (dubbed DL-Recon) that integrates physically\n",
      "principled reconstruction models with DL-based image synthesis based on the\n",
      "statistical uncertainty in the synthesis image. A synthesis network was\n",
      "developed to generate a synthesized CBCT image (DL-Synthesis) from an\n",
      "uncorrected filtered back-projection (FBP) image. To improve generalizability\n",
      "(including accurate representation of lesions not seen in training), voxel-wise\n",
      "epistemic uncertainty of DL-Synthesis was computed using a Bayesian inference\n",
      "technique (Monte-Carlo dropout). In regions of high uncertainty, the DL-Recon\n",
      "method incorporates information from a physics-based reconstruction model and\n",
      "artifact-corrected projection data. Two forms of the DL-Recon method are\n",
      "proposed: (i) image-domain fusion of DL-Synthesis and FBP (DL-FBP) weighted by\n",
      "DL uncertainty; and (ii) a model-based iterative image reconstruction (MBIR)\n",
      "optimization using DL-Synthesis to compute a spatially varying regularization\n",
      "term based on DL uncertainty (DL-MBIR). The error in DL-Synthesis images was\n",
      "correlated with the uncertainty in the synthesis estimate. Compared to FBP and\n",
      "PWLS, the DL-Recon methods (both DL-FBP and DL-MBIR) showed ~50% reduction in\n",
      "noise (at matched spatial resolution) and ~40-70% improvement in image\n",
      "uniformity. Conventional DL-Synthesis alone exhibited ~10-60% under-estimation\n",
      "of lesion contrast and ~5-40% reduction in lesion segmentation accuracy (Dice\n",
      "coefficient) in simulated and real brain lesions, suggesting a lack of\n",
      "reliability / generalizability for structures unseen in the training data.\n",
      "DL-FBP and DL-MBIR improved the accuracy of reconstruction by directly\n",
      "incorporating information from the measurements in regions of high uncertainty. \n",
      "\n",
      "\n",
      "This chapter reviews recent developments of generative adversarial networks\n",
      "(GAN)-based methods for medical and biomedical image synthesis tasks. These\n",
      "methods are classified into conditional GAN and Cycle-GAN according to the\n",
      "network architecture designs. For each category, a literature survey is given,\n",
      "which covers discussions of the network architecture designs, highlights\n",
      "important contributions and identifies specific challenges. \n",
      "\n",
      "\n",
      "With the growing technology of photon-counting detectors (PCD), spectral CT\n",
      "is a widely concerned topic which has the potential of material\n",
      "differentiation. However, due to some non-ideal factors such as cross talk and\n",
      "pulse pile-up of the detectors, direct reconstruction from detected spectrum\n",
      "without any corrections will get a wrong result. Conventional methods try to\n",
      "model these factors using calibration and make corrections accordingly, but\n",
      "depend on the preciseness of the model. To solve this problem, in this paper,\n",
      "we proposed a novel deep learning-based monochromatic image synthesis method\n",
      "working in sinogram domain. Different from previous deep learning-based methods\n",
      "aimed at this problem, we designed a novel network architecture according to\n",
      "the physical model of cross talk, and it can solve this problem better in an\n",
      "ingenious way. Our method was tested on a cone-beam CT (CBCT) system equipped\n",
      "with a PCD. After using FDK algorithm on the corrected projection, we got quite\n",
      "more accurate results with less noise, which showed the feasibility of\n",
      "monochromatic image synthesis by our method. \n",
      "\n",
      "\n",
      "This paper reviewed the deep learning-based studies for medical imaging\n",
      "synthesis and its clinical application. Specifically, we summarized the recent\n",
      "developments of deep learning-based methods in inter- and intra-modality image\n",
      "synthesis by listing and highlighting the proposed methods, study designs and\n",
      "reported performances with related clinical applications on representative\n",
      "studies. The challenges among the reviewed studies were summarized in the\n",
      "discussion part. \n",
      "\n",
      "\n",
      "Purpose: To assess whether a generative adversarial network (GAN) could\n",
      "synthesize realistic optical coherence tomography (OCT) images that\n",
      "satisfactorily serve as the educational images for retinal specialists and the\n",
      "training datasets for the classification of various retinal disorders using\n",
      "deep learning (DL). Methods: The GANs architecture was adopted to synthesis\n",
      "high-resolution OCT images training on a publicly available OCT dataset\n",
      "including urgent referrals (choroidal neovascularization and diabetic macular\n",
      "edema) and non-urgent referrals (normal and drusen). 400 real and synthetic OCT\n",
      "images were evaluated by 2 retinal specialists to assess image quality. We\n",
      "further trained 2 DL models on either real or synthetic datasets and compared\n",
      "the performance of urgent vs nonurgent referrals diagnosis tested on a local\n",
      "(1000 images from the public dataset) and clinical validation dataset (278\n",
      "images from Shanghai Shibei Hospital). Results: The image quality of real vs\n",
      "synthetic OCT images was similar as assessed by 2 retinal specialists. The\n",
      "accuracy of discrimination as real vs synthetic OCT images was 59.50% for\n",
      "retinal specialist 1 and 53.67% for retinal specialist 2. For the local\n",
      "dataset, the DL model trained on real (DL_Model_R) and synthetic OCT images\n",
      "(DL_Model_S) had an area under the curve (AUC) of 0.99, and 0.98 respectively.\n",
      "For the clinical dataset, the AUC was 0.94 for DL_Model_R, 0.90 for DL_Model_S.\n",
      "Conclusions: The GAN-synthetic OCT images can be used by clinicians for\n",
      "educational purposes and developing DL algorithms. Translational Relevance: The\n",
      "medical image synthesis based on GANs is promising in human and machine to\n",
      "fulfill clinical tasks. \n",
      "\n",
      "\n",
      "Computed tomography (CT) is a widely used imaging modality for medical\n",
      "diagnosis and treatment. In electroencephalography (EEG), CT imaging is\n",
      "necessary for co-registering with magnetic resonance imaging (MRI) and for\n",
      "creating more accurate head models for the brain electrical activity due to\n",
      "better representation of bone anatomy. Unfortunately, CT imaging exposes\n",
      "patients to potentially harmful sources of ionizing radiation. Image synthesis\n",
      "methods present a solution for avoiding extra radiation exposure. In this\n",
      "paper, we perform image synthesis to create a realistic, synthetic CT image\n",
      "from MRI of the same subject, and we present a comparison of different image\n",
      "synthesis techniques. Using a dataset of 30 paired MRI and CT image volumes,\n",
      "our results compare image synthesis using deep neural network regression,\n",
      "state-of-the-art adversarial deep learning, as well as atlas-based synthesis\n",
      "utilizing image registration. We also present a novel synthesis method that\n",
      "combines multi-atlas registration as a prior to deep learning algorithms, in\n",
      "which we perform a weighted addition of synthetic CT images, derived from\n",
      "atlases, to the output of a deep neural network to obtain a residual type of\n",
      "learning. In addition to evaluating the quality of the synthetic CT images, we\n",
      "also demonstrate that image synthesis methods allow for more accurate bone\n",
      "segmentation using the synthetic CT imaging than would otherwise be possible by\n",
      "segmenting the bone in the MRI directly. \n",
      "\n",
      "\n",
      "Since the advent of deep convolutional neural networks (DNNs), computer\n",
      "vision has seen an extremely rapid progress that has led to huge advances in\n",
      "medical imaging. This article does not aim to cover all aspects of the field\n",
      "but focuses on a particular topic, image-to-image translation. Although the\n",
      "topic may not sound familiar, it turns out that many seemingly irrelevant\n",
      "applications can be understood as instances of image-to-image translation. Such\n",
      "applications include (1) noise reduction, (2) super-resolution, (3) image\n",
      "synthesis, and (4) reconstruction. The same underlying principles and\n",
      "algorithms work for various tasks. Our aim is to introduce some of the key\n",
      "ideas on this topic from a uniform point of view. We introduce core ideas and\n",
      "jargon that are specific to image processing by use of DNNs. Having an\n",
      "intuitive grasp of the core ideas of and a knowledge of technical terms would\n",
      "be of great help to the reader for understanding the existing and future\n",
      "applications. Most of the recent applications which build on image-to-image\n",
      "translation are based on one of two fundamental architectures, called pix2pix\n",
      "and CycleGAN, depending on whether the available training data are paired or\n",
      "unpaired. We provide computer codes which implement these two architectures\n",
      "with various enhancements. Our codes are available online with use of the very\n",
      "permissive MIT license. We provide a hands-on tutorial for training a model for\n",
      "denoising based on our codes. We hope that this article, together with the\n",
      "codes, will provide both an overview and the details of the key algorithms, and\n",
      "that it will serve as a basis for the development of new applications. \n",
      "\n",
      "\n",
      "PURPOSE OF REVIEW: Despite the impressive results of recent artificial\n",
      "intelligence (AI) applications to general ophthalmology, comparatively less\n",
      "progress has been made toward solving problems in pediatric ophthalmology using\n",
      "similar techniques. This article discusses the unique needs of pediatric\n",
      "ophthalmology patients and how AI techniques can address these challenges,\n",
      "surveys recent applications of AI to pediatric ophthalmology, and discusses\n",
      "future directions in the field.\n",
      "  RECENT FINDINGS: The most significant advances involve the automated\n",
      "detection of retinopathy of prematurity (ROP), yielding results that rival\n",
      "experts. Machine learning (ML) has also been successfully applied to the\n",
      "classification of pediatric cataracts, prediction of post-operative\n",
      "complications following cataract surgery, detection of strabismus and\n",
      "refractive error, prediction of future high myopia, and diagnosis of reading\n",
      "disability via eye tracking. In addition, ML techniques have been used for the\n",
      "study of visual development, vessel segmentation in pediatric fundus images,\n",
      "and ophthalmic image synthesis.\n",
      "  SUMMARY: AI applications could significantly benefit clinical care for\n",
      "pediatric ophthalmology patients by optimizing disease detection and grading,\n",
      "broadening access to care, furthering scientific discovery, and improving\n",
      "clinical efficiency. These methods need to match or surpass physician\n",
      "performance in clinical trials before deployment with patients. Due to\n",
      "widespread use of closed-access data sets and software implementations, it is\n",
      "difficult to directly compare the performance of these approaches, and\n",
      "reproducibility is poor. Open-access data sets and software implementations\n",
      "could alleviate these issues, and encourage further AI applications to\n",
      "pediatric ophthalmology.\n",
      "  KEYWORDS: pediatric ophthalmology, machine learning, artificial intelligence,\n",
      "deep learning \n",
      "\n",
      "\n"
     ]
    }
   ],
   "source": [
    "for abst in result_df[result_df.primary_category==\"physics.med-ph\"][\"abstract\"]:\n",
    "    print(abst,\"\\n\\n\")"
   ]
  },
  {
   "cell_type": "code",
   "execution_count": null,
   "id": "1e2bff04",
   "metadata": {},
   "outputs": [],
   "source": [
    "#arima"
   ]
  },
  {
   "cell_type": "markdown",
   "id": "f4e5d138",
   "metadata": {},
   "source": [
    "- \"deepfake\"\n",
    "- '\"deep fake\"'\n",
    "- '\"fake video\"'\n",
    "- '\"video forgery\"'\n",
    "- '\"image generation\" \"face\"'\n",
    "\n",
    "?? \"video editing\"\n",
    "?? \"image inpainting\"\n",
    "\n",
    "ARXIV time bias!!!!!\n",
    "\n",
    "\n",
    "Arxiv: image synthesis kulcsszó CS-re szűrve jó lehet!\n",
    "\n",
    "\" használata harmadolja a találatokat\n",
    "\n",
    "\n",
    "https://arxiv.org/search/advanced?advanced=&terms-0-operator=AND&terms-0-term=image+synthesis&terms-0-field=all&classification-computer_science=y&classification-physics_archives=all&classification-include_cross_list=include&date-filter_by=all_dates&date-year=&date-from_date=&date-to_date=&date-date_type=submitted_date&abstracts=show&size=50&order=-announced_date_first\n",
    "\n"
   ]
  },
  {
   "cell_type": "markdown",
   "id": "f0e862d0",
   "metadata": {},
   "source": [
    "#!pip install pmdarima\n",
    "from pmdarima.arima import auto_arima\n",
    "import matplotlib.pyplot as plt\n",
    "\n",
    "publish_df = pd.to_datetime(publish_dates).to_frame().resample(\"1M\").count()\n",
    "\n",
    "#publish_df = publish_df[publish_df.index.year >= 2016]\n",
    "\n",
    "\n",
    "model = auto_arima(publish_df, start_p=0, start_q=0)\n",
    "#model.fit(df)\n",
    "\n",
    "def forecast_to_df(model, steps=10):\n",
    "    forecast, conf_int = model.predict(n_periods=steps, return_conf_int=True)\n",
    "    pred_df=pd.DataFrame()\n",
    "    pred_df[\"lower\"] = conf_int[:,0]\n",
    "    pred_df[\"upper\"] = conf_int[:,1]\n",
    "    pred_df[\"pred\"] = forecast.values\n",
    "    return pred_df\n",
    "\n",
    "STEPS = 60\n",
    "\n",
    "pred_df = forecast_to_df(model, steps=STEPS)\n",
    "\n",
    "print(model)\n",
    "print(publish_df.index[-1])\n",
    "\n",
    "pred_df.set_index(pd.date_range(start=publish_df.index[-1],periods=STEPS, freq=\"1M\"), inplace=True)\n",
    "fig, ax = plt.subplots(figsize=(22,7))\n",
    "ax.plot(publish_df[publish_df.index.year >= 2016],label='Monthly publication frequencies')\n",
    "ax.plot(pred_df, label=['Lower dound',\"Upper bound\",'Projection mean'])\n",
    "ax.fill_between(x=pred_df.index,y1=pred_df['lower'],y2=pred_df['upper'],alpha=0.3)\n",
    "ax.legend()\n",
    "plt.plot()"
   ]
  }
 ],
 "metadata": {
  "kernelspec": {
   "display_name": "Python 3 (ipykernel)",
   "language": "python",
   "name": "python3"
  },
  "language_info": {
   "codemirror_mode": {
    "name": "ipython",
    "version": 3
   },
   "file_extension": ".py",
   "mimetype": "text/x-python",
   "name": "python",
   "nbconvert_exporter": "python",
   "pygments_lexer": "ipython3",
   "version": "3.8.12"
  }
 },
 "nbformat": 4,
 "nbformat_minor": 5
}
