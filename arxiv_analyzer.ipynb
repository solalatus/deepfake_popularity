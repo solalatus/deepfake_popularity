{
 "cells": [
  {
   "cell_type": "code",
   "execution_count": 1,
   "id": "7fa14517",
   "metadata": {},
   "outputs": [
    {
     "name": "stdout",
     "output_type": "stream",
     "text": [
      "Requirement already satisfied: arxiv in /home/alatus/anaconda3/envs/10_days_AI/lib/python3.8/site-packages (1.4.2)\r\n",
      "Requirement already satisfied: feedparser in /home/alatus/anaconda3/envs/10_days_AI/lib/python3.8/site-packages (from arxiv) (6.0.10)\r\n",
      "Requirement already satisfied: sgmllib3k in /home/alatus/anaconda3/envs/10_days_AI/lib/python3.8/site-packages (from feedparser->arxiv) (1.0.0)\r\n"
     ]
    }
   ],
   "source": [
    "!pip install arxiv"
   ]
  },
  {
   "cell_type": "code",
   "execution_count": 2,
   "id": "0fe9f84e",
   "metadata": {},
   "outputs": [],
   "source": [
    "import arxiv\n",
    "import pandas as pd"
   ]
  },
  {
   "cell_type": "code",
   "execution_count": 3,
   "id": "ead6ca64",
   "metadata": {},
   "outputs": [],
   "source": [
    "keyphrases = ['deepfake', 'deepfake?', '\"deep-fake\"', '\"deep fake\"', '\"voice cloning\"', '\"voice conversion\"', 'fake AND voice', '\"image synthesis\"', '\"image generation\" AND \"face\"', '\"video forgery\"', '\"fake video\"']\n",
    "#keyphrases = []\n",
    "\n",
    "\n",
    "\n",
    "#?? \"video editing\"\n",
    "#?? \"image inpainting\"\n"
   ]
  },
  {
   "cell_type": "code",
   "execution_count": 4,
   "id": "bbbf74b7",
   "metadata": {},
   "outputs": [
    {
     "data": {
      "application/vnd.jupyter.widget-view+json": {
       "model_id": "ec99253d8baf4fb4894b243c6a4c9623",
       "version_major": 2,
       "version_minor": 0
      },
      "text/plain": [
       "  0%|          | 0/11 [00:00<?, ?it/s]"
      ]
     },
     "metadata": {},
     "output_type": "display_data"
    },
    {
     "data": {
      "application/vnd.jupyter.widget-view+json": {
       "model_id": "1242a04c9b2040bda91ed15fc58a70e0",
       "version_major": 2,
       "version_minor": 0
      },
      "text/plain": [
       "0it [00:00, ?it/s]"
      ]
     },
     "metadata": {},
     "output_type": "display_data"
    },
    {
     "data": {
      "application/vnd.jupyter.widget-view+json": {
       "model_id": "92d304bf2dbc4426a3800958fda10d10",
       "version_major": 2,
       "version_minor": 0
      },
      "text/plain": [
       "0it [00:00, ?it/s]"
      ]
     },
     "metadata": {},
     "output_type": "display_data"
    },
    {
     "data": {
      "application/vnd.jupyter.widget-view+json": {
       "model_id": "20cf4139b2b7451cbbf6bf5a06c4f21c",
       "version_major": 2,
       "version_minor": 0
      },
      "text/plain": [
       "0it [00:00, ?it/s]"
      ]
     },
     "metadata": {},
     "output_type": "display_data"
    },
    {
     "data": {
      "application/vnd.jupyter.widget-view+json": {
       "model_id": "56f49a7fafed421ab27c9ceaf98a26b1",
       "version_major": 2,
       "version_minor": 0
      },
      "text/plain": [
       "0it [00:00, ?it/s]"
      ]
     },
     "metadata": {},
     "output_type": "display_data"
    },
    {
     "data": {
      "application/vnd.jupyter.widget-view+json": {
       "model_id": "bf9330b871b0469ab6b0cbf5e9e5c994",
       "version_major": 2,
       "version_minor": 0
      },
      "text/plain": [
       "0it [00:00, ?it/s]"
      ]
     },
     "metadata": {},
     "output_type": "display_data"
    },
    {
     "data": {
      "application/vnd.jupyter.widget-view+json": {
       "model_id": "a199c02a757c4e51ab3f3c682c657726",
       "version_major": 2,
       "version_minor": 0
      },
      "text/plain": [
       "0it [00:00, ?it/s]"
      ]
     },
     "metadata": {},
     "output_type": "display_data"
    },
    {
     "data": {
      "application/vnd.jupyter.widget-view+json": {
       "model_id": "c3d1215323e84b749aece09a1fb64194",
       "version_major": 2,
       "version_minor": 0
      },
      "text/plain": [
       "0it [00:00, ?it/s]"
      ]
     },
     "metadata": {},
     "output_type": "display_data"
    },
    {
     "data": {
      "application/vnd.jupyter.widget-view+json": {
       "model_id": "3b6a821b89d94e16a832c0ee272c6020",
       "version_major": 2,
       "version_minor": 0
      },
      "text/plain": [
       "0it [00:00, ?it/s]"
      ]
     },
     "metadata": {},
     "output_type": "display_data"
    },
    {
     "data": {
      "application/vnd.jupyter.widget-view+json": {
       "model_id": "97d5807ccace48ce96e569c575af8cc9",
       "version_major": 2,
       "version_minor": 0
      },
      "text/plain": [
       "0it [00:00, ?it/s]"
      ]
     },
     "metadata": {},
     "output_type": "display_data"
    },
    {
     "data": {
      "application/vnd.jupyter.widget-view+json": {
       "model_id": "4b493e4ddf484f17801b2d06236eaf58",
       "version_major": 2,
       "version_minor": 0
      },
      "text/plain": [
       "0it [00:00, ?it/s]"
      ]
     },
     "metadata": {},
     "output_type": "display_data"
    },
    {
     "data": {
      "application/vnd.jupyter.widget-view+json": {
       "model_id": "fcc6daaccdde49359b7200962f47b12c",
       "version_major": 2,
       "version_minor": 0
      },
      "text/plain": [
       "0it [00:00, ?it/s]"
      ]
     },
     "metadata": {},
     "output_type": "display_data"
    },
    {
     "data": {
      "text/html": [
       "<div>\n",
       "<style scoped>\n",
       "    .dataframe tbody tr th:only-of-type {\n",
       "        vertical-align: middle;\n",
       "    }\n",
       "\n",
       "    .dataframe tbody tr th {\n",
       "        vertical-align: top;\n",
       "    }\n",
       "\n",
       "    .dataframe thead th {\n",
       "        text-align: right;\n",
       "    }\n",
       "</style>\n",
       "<table border=\"1\" class=\"dataframe\">\n",
       "  <thead>\n",
       "    <tr style=\"text-align: right;\">\n",
       "      <th></th>\n",
       "      <th>url</th>\n",
       "      <th>title</th>\n",
       "      <th>primary_category</th>\n",
       "      <th>categories</th>\n",
       "      <th>abstract</th>\n",
       "    </tr>\n",
       "    <tr>\n",
       "      <th>published</th>\n",
       "      <th></th>\n",
       "      <th></th>\n",
       "      <th></th>\n",
       "      <th></th>\n",
       "      <th></th>\n",
       "    </tr>\n",
       "  </thead>\n",
       "  <tbody>\n",
       "    <tr>\n",
       "      <th>2022-10-03 14:20:01+00:00</th>\n",
       "      <td>http://arxiv.org/abs/2210.00957v1</td>\n",
       "      <td>UnGANable: Defending Against GAN-based Face Ma...</td>\n",
       "      <td>cs.CR</td>\n",
       "      <td>[cs.CR, cs.CV, cs.LG]</td>\n",
       "      <td>Deepfakes pose severe threats of visual misinf...</td>\n",
       "    </tr>\n",
       "    <tr>\n",
       "      <th>2022-10-01 20:37:24+00:00</th>\n",
       "      <td>http://arxiv.org/abs/2210.00361v1</td>\n",
       "      <td>Evaluation of Pre-Trained CNN Models for Geogr...</td>\n",
       "      <td>cs.CV</td>\n",
       "      <td>[cs.CV]</td>\n",
       "      <td>Thanks to the remarkable advances in generativ...</td>\n",
       "    </tr>\n",
       "    <tr>\n",
       "      <th>2022-09-28 13:46:29+00:00</th>\n",
       "      <td>http://arxiv.org/abs/2209.14098v1</td>\n",
       "      <td>Deepfake audio detection by speaker verification</td>\n",
       "      <td>cs.SD</td>\n",
       "      <td>[cs.SD, cs.CV, eess.AS]</td>\n",
       "      <td>Thanks to recent advances in deep learning, so...</td>\n",
       "    </tr>\n",
       "    <tr>\n",
       "      <th>2022-09-28 02:46:04+00:00</th>\n",
       "      <td>http://arxiv.org/abs/2209.13792v1</td>\n",
       "      <td>A Machine Learning Approach for DeepFake Detec...</td>\n",
       "      <td>cs.CV</td>\n",
       "      <td>[cs.CV, I.4.7; I.5.0]</td>\n",
       "      <td>With the spread of DeepFake techniques, this t...</td>\n",
       "    </tr>\n",
       "    <tr>\n",
       "      <th>2022-09-27 10:15:46+00:00</th>\n",
       "      <td>http://arxiv.org/abs/2209.13289v1</td>\n",
       "      <td>When Handcrafted Features and Deep Features Me...</td>\n",
       "      <td>cs.CV</td>\n",
       "      <td>[cs.CV, cs.LG]</td>\n",
       "      <td>The accelerated growth in synthetic visual med...</td>\n",
       "    </tr>\n",
       "    <tr>\n",
       "      <th>...</th>\n",
       "      <td>...</td>\n",
       "      <td>...</td>\n",
       "      <td>...</td>\n",
       "      <td>...</td>\n",
       "      <td>...</td>\n",
       "    </tr>\n",
       "    <tr>\n",
       "      <th>2020-01-09 14:37:17+00:00</th>\n",
       "      <td>http://arxiv.org/abs/2001.03024v2</td>\n",
       "      <td>DeeperForensics-1.0: A Large-Scale Dataset for...</td>\n",
       "      <td>cs.CV</td>\n",
       "      <td>[cs.CV, cs.LG]</td>\n",
       "      <td>We present our on-going effort of constructing...</td>\n",
       "    </tr>\n",
       "    <tr>\n",
       "      <th>2019-06-21 18:29:57+00:00</th>\n",
       "      <td>http://arxiv.org/abs/1906.09288v1</td>\n",
       "      <td>Hiding Faces in Plain Sight: Disrupting AI Fac...</td>\n",
       "      <td>cs.CV</td>\n",
       "      <td>[cs.CV]</td>\n",
       "      <td>Recent years have seen fast development in syn...</td>\n",
       "    </tr>\n",
       "    <tr>\n",
       "      <th>2019-01-25 07:09:14+00:00</th>\n",
       "      <td>http://arxiv.org/abs/1901.08759v1</td>\n",
       "      <td>Misleading Metadata Detection on YouTube</td>\n",
       "      <td>cs.CL</td>\n",
       "      <td>[cs.CL, cs.CV, eess.IV]</td>\n",
       "      <td>YouTube is the leading social media platform f...</td>\n",
       "    </tr>\n",
       "    <tr>\n",
       "      <th>2018-03-26 19:25:02+00:00</th>\n",
       "      <td>http://arxiv.org/abs/1803.09803v2</td>\n",
       "      <td>Generating Talking Face Landmarks from Speech</td>\n",
       "      <td>cs.CV</td>\n",
       "      <td>[cs.CV]</td>\n",
       "      <td>The presence of a corresponding talking face h...</td>\n",
       "    </tr>\n",
       "    <tr>\n",
       "      <th>2018-03-24 23:12:44+00:00</th>\n",
       "      <td>http://arxiv.org/abs/1803.09179v1</td>\n",
       "      <td>FaceForensics: A Large-scale Video Dataset for...</td>\n",
       "      <td>cs.CV</td>\n",
       "      <td>[cs.CV]</td>\n",
       "      <td>With recent advances in computer vision and gr...</td>\n",
       "    </tr>\n",
       "  </tbody>\n",
       "</table>\n",
       "<p>1645 rows × 5 columns</p>\n",
       "</div>"
      ],
      "text/plain": [
       "                                                         url  \\\n",
       "published                                                      \n",
       "2022-10-03 14:20:01+00:00  http://arxiv.org/abs/2210.00957v1   \n",
       "2022-10-01 20:37:24+00:00  http://arxiv.org/abs/2210.00361v1   \n",
       "2022-09-28 13:46:29+00:00  http://arxiv.org/abs/2209.14098v1   \n",
       "2022-09-28 02:46:04+00:00  http://arxiv.org/abs/2209.13792v1   \n",
       "2022-09-27 10:15:46+00:00  http://arxiv.org/abs/2209.13289v1   \n",
       "...                                                      ...   \n",
       "2020-01-09 14:37:17+00:00  http://arxiv.org/abs/2001.03024v2   \n",
       "2019-06-21 18:29:57+00:00  http://arxiv.org/abs/1906.09288v1   \n",
       "2019-01-25 07:09:14+00:00  http://arxiv.org/abs/1901.08759v1   \n",
       "2018-03-26 19:25:02+00:00  http://arxiv.org/abs/1803.09803v2   \n",
       "2018-03-24 23:12:44+00:00  http://arxiv.org/abs/1803.09179v1   \n",
       "\n",
       "                                                                       title  \\\n",
       "published                                                                      \n",
       "2022-10-03 14:20:01+00:00  UnGANable: Defending Against GAN-based Face Ma...   \n",
       "2022-10-01 20:37:24+00:00  Evaluation of Pre-Trained CNN Models for Geogr...   \n",
       "2022-09-28 13:46:29+00:00   Deepfake audio detection by speaker verification   \n",
       "2022-09-28 02:46:04+00:00  A Machine Learning Approach for DeepFake Detec...   \n",
       "2022-09-27 10:15:46+00:00  When Handcrafted Features and Deep Features Me...   \n",
       "...                                                                      ...   \n",
       "2020-01-09 14:37:17+00:00  DeeperForensics-1.0: A Large-Scale Dataset for...   \n",
       "2019-06-21 18:29:57+00:00  Hiding Faces in Plain Sight: Disrupting AI Fac...   \n",
       "2019-01-25 07:09:14+00:00           Misleading Metadata Detection on YouTube   \n",
       "2018-03-26 19:25:02+00:00      Generating Talking Face Landmarks from Speech   \n",
       "2018-03-24 23:12:44+00:00  FaceForensics: A Large-scale Video Dataset for...   \n",
       "\n",
       "                          primary_category               categories  \\\n",
       "published                                                             \n",
       "2022-10-03 14:20:01+00:00            cs.CR    [cs.CR, cs.CV, cs.LG]   \n",
       "2022-10-01 20:37:24+00:00            cs.CV                  [cs.CV]   \n",
       "2022-09-28 13:46:29+00:00            cs.SD  [cs.SD, cs.CV, eess.AS]   \n",
       "2022-09-28 02:46:04+00:00            cs.CV    [cs.CV, I.4.7; I.5.0]   \n",
       "2022-09-27 10:15:46+00:00            cs.CV           [cs.CV, cs.LG]   \n",
       "...                                    ...                      ...   \n",
       "2020-01-09 14:37:17+00:00            cs.CV           [cs.CV, cs.LG]   \n",
       "2019-06-21 18:29:57+00:00            cs.CV                  [cs.CV]   \n",
       "2019-01-25 07:09:14+00:00            cs.CL  [cs.CL, cs.CV, eess.IV]   \n",
       "2018-03-26 19:25:02+00:00            cs.CV                  [cs.CV]   \n",
       "2018-03-24 23:12:44+00:00            cs.CV                  [cs.CV]   \n",
       "\n",
       "                                                                    abstract  \n",
       "published                                                                     \n",
       "2022-10-03 14:20:01+00:00  Deepfakes pose severe threats of visual misinf...  \n",
       "2022-10-01 20:37:24+00:00  Thanks to the remarkable advances in generativ...  \n",
       "2022-09-28 13:46:29+00:00  Thanks to recent advances in deep learning, so...  \n",
       "2022-09-28 02:46:04+00:00  With the spread of DeepFake techniques, this t...  \n",
       "2022-09-27 10:15:46+00:00  The accelerated growth in synthetic visual med...  \n",
       "...                                                                      ...  \n",
       "2020-01-09 14:37:17+00:00  We present our on-going effort of constructing...  \n",
       "2019-06-21 18:29:57+00:00  Recent years have seen fast development in syn...  \n",
       "2019-01-25 07:09:14+00:00  YouTube is the leading social media platform f...  \n",
       "2018-03-26 19:25:02+00:00  The presence of a corresponding talking face h...  \n",
       "2018-03-24 23:12:44+00:00  With recent advances in computer vision and gr...  \n",
       "\n",
       "[1645 rows x 5 columns]"
      ]
     },
     "execution_count": 4,
     "metadata": {},
     "output_type": "execute_result"
    }
   ],
   "source": [
    "from ast import literal_eval\n",
    "from tqdm.notebook import tqdm\n",
    "\n",
    "def do_search(keyphrase):\n",
    "    \n",
    "    search = arxiv.Search(\n",
    "      query = keyphrase,\n",
    "      #id_list: List[str] = [],\n",
    "      max_results = 10000,\n",
    "      sort_by = arxiv.SortCriterion.SubmittedDate,\n",
    "      #sort_by: SortCriterion = SortCriterion.Relevanvce,\n",
    "      sort_order = arxiv.SortOrder.Descending)\n",
    "    \n",
    "    return search\n",
    "\n",
    "def parse_search_to_df(search):\n",
    "    \n",
    "    results = []\n",
    "  \n",
    "    for raw_result in tqdm(search.results()):\n",
    "        parsed_result = {}\n",
    "        parsed_result[\"published\"] = raw_result.published\n",
    "        parsed_result[\"url\"] = raw_result.entry_id\n",
    "        parsed_result[\"title\"] = raw_result.title\n",
    "        parsed_result[\"primary_category\"] = raw_result.primary_category\n",
    "        parsed_result[\"categories\"] = raw_result.categories\n",
    "        parsed_result[\"abstract\"] = raw_result.summary\n",
    "        results.append(parsed_result)\n",
    "    \n",
    "    local_result_df = pd.DataFrame(results)\n",
    "    if results:\n",
    "        local_result_df[\"published\"] = pd.to_datetime(local_result_df[\"published\"])\n",
    "        local_result_df.set_index(\"published\", inplace=True)\n",
    "        local_result_df[\"categories\"] = local_result_df[\"categories\"].astype(str)\n",
    "    \n",
    "    return local_result_df\n",
    "\n",
    "def do_keyphrase_list(keyphrases):\n",
    "    \n",
    "    for keyphrase in tqdm(keyphrases):\n",
    "        if \"local_result_df\" in locals():\n",
    "            tmp_df = parse_search_to_df(do_search(keyphrase))\n",
    "            local_result_df = pd.concat([local_result_df,tmp_df])#, ignore_index=True)\n",
    "            local_result_df.drop_duplicates(inplace=True)\n",
    "        else:\n",
    "            local_result_df = parse_search_to_df(do_search(keyphrase))\n",
    "\n",
    "    local_result_df[\"categories\"] = local_result_df[\"categories\"].apply(lambda x: literal_eval(str(x)))\n",
    "    return local_result_df\n",
    "\n",
    "result_df = do_keyphrase_list(keyphrases)\n",
    "result_df\n",
    "\n",
    "\n"
   ]
  },
  {
   "cell_type": "code",
   "execution_count": 5,
   "id": "1c4fb144",
   "metadata": {},
   "outputs": [
    {
     "name": "stdout",
     "output_type": "stream",
     "text": [
      "Total number of papers 1645\n"
     ]
    }
   ],
   "source": [
    "print(\"Total number of papers\",len(result_df))"
   ]
  },
  {
   "cell_type": "code",
   "execution_count": 12,
   "id": "dd1c969e",
   "metadata": {},
   "outputs": [
    {
     "data": {
      "text/plain": [
       "35"
      ]
     },
     "execution_count": 12,
     "metadata": {},
     "output_type": "execute_result"
    }
   ],
   "source": [
    "len(result_df.primary_category.value_counts().index.unique())"
   ]
  },
  {
   "cell_type": "code",
   "execution_count": 9,
   "id": "19b5ab1a",
   "metadata": {},
   "outputs": [
    {
     "data": {
      "text/plain": [
       "Timestamp('1994-09-08 10:01:48+0000', tz='UTC')"
      ]
     },
     "execution_count": 9,
     "metadata": {},
     "output_type": "execute_result"
    }
   ],
   "source": [
    "result_df.index.min()"
   ]
  },
  {
   "cell_type": "code",
   "execution_count": 8,
   "id": "28f59163",
   "metadata": {},
   "outputs": [
    {
     "data": {
      "text/plain": [
       "Timestamp('2022-10-03 14:56:05+0000', tz='UTC')"
      ]
     },
     "execution_count": 8,
     "metadata": {},
     "output_type": "execute_result"
    }
   ],
   "source": [
    "result_df.index.max()"
   ]
  },
  {
   "cell_type": "code",
   "execution_count": null,
   "id": "882b4177",
   "metadata": {},
   "outputs": [],
   "source": [
    "result_df[\"url\"].resample(\"MS\").count().plot()"
   ]
  },
  {
   "cell_type": "code",
   "execution_count": null,
   "id": "61d16210",
   "metadata": {},
   "outputs": [],
   "source": [
    "import peakdetect\n",
    "import matplotlib.pyplot as plt\n",
    "\n",
    "resampled_df = result_df[result_df.index.to_series().gt(\"2017\")][\"url\"].resample(\"MS\").count()\n",
    "arxiv_peaks = peakdetect.peakdetect(resampled_df, resampled_df.index, lookahead=3, delta=10)\n",
    "\n",
    "ax = resampled_df.plot()\n",
    "\n",
    "locs, labels = plt.xticks()\n",
    "\n",
    "for peak in arxiv_peaks[0]:\n",
    "    print(peak)\n",
    "    ax.annotate(\"*\",xy=(peak[0],peak[1]), fontsize=30, color=\"red\")\n",
    "    \n",
    "\n",
    "plt.show()"
   ]
  },
  {
   "cell_type": "code",
   "execution_count": null,
   "id": "0eb0cd8c",
   "metadata": {},
   "outputs": [],
   "source": [
    "len(result_df[result_df.index.to_series().gt(\"2017\")][\"url\"].resample(\"MS\"))"
   ]
  },
  {
   "cell_type": "code",
   "execution_count": null,
   "id": "4b9af1d5",
   "metadata": {},
   "outputs": [],
   "source": [
    "result_df.resample(\"MS\").count().to_csv(\"arxiv_publications.csv\")"
   ]
  },
  {
   "cell_type": "code",
   "execution_count": null,
   "id": "6ab45560",
   "metadata": {},
   "outputs": [],
   "source": [
    "#filter categories"
   ]
  },
  {
   "cell_type": "code",
   "execution_count": null,
   "id": "27a19e95",
   "metadata": {},
   "outputs": [],
   "source": [
    "result_df.primary_category.value_counts()"
   ]
  },
  {
   "cell_type": "code",
   "execution_count": null,
   "id": "99ce4984",
   "metadata": {},
   "outputs": [],
   "source": [
    "for abst in result_df[\"abstract\"]:\n",
    "    print(abst,\"\\n\\n\")"
   ]
  },
  {
   "cell_type": "code",
   "execution_count": null,
   "id": "2b6e4af2",
   "metadata": {},
   "outputs": [],
   "source": [
    "for abst in result_df[result_df.primary_category==\"eess.IV\"][\"abstract\"]:\n",
    "    print(abst,\"\\n\\n\")"
   ]
  },
  {
   "cell_type": "code",
   "execution_count": null,
   "id": "1e2bff04",
   "metadata": {},
   "outputs": [],
   "source": [
    "#arima"
   ]
  },
  {
   "cell_type": "markdown",
   "id": "f4e5d138",
   "metadata": {},
   "source": [
    "- \"deepfake\"\n",
    "- '\"deep fake\"'\n",
    "- '\"fake video\"'\n",
    "- '\"video forgery\"'\n",
    "- '\"image generation\" \"face\"'\n",
    "\n",
    "?? \"video editing\"\n",
    "?? \"image inpainting\"\n",
    "\n",
    "ARXIV time bias!!!!!\n",
    "\n",
    "\n",
    "Arxiv: image synthesis kulcsszó CS-re szűrve jó lehet!\n",
    "\n",
    "\" használata harmadolja a találatokat\n",
    "\n",
    "\n",
    "https://arxiv.org/search/advanced?advanced=&terms-0-operator=AND&terms-0-term=image+synthesis&terms-0-field=all&classification-computer_science=y&classification-physics_archives=all&classification-include_cross_list=include&date-filter_by=all_dates&date-year=&date-from_date=&date-to_date=&date-date_type=submitted_date&abstracts=show&size=50&order=-announced_date_first\n",
    "\n"
   ]
  },
  {
   "cell_type": "markdown",
   "id": "f0e862d0",
   "metadata": {},
   "source": [
    "#!pip install pmdarima\n",
    "from pmdarima.arima import auto_arima\n",
    "import matplotlib.pyplot as plt\n",
    "\n",
    "publish_df = pd.to_datetime(publish_dates).to_frame().resample(\"MS\").count()\n",
    "\n",
    "#publish_df = publish_df[publish_df.index.year >= 2016]\n",
    "\n",
    "\n",
    "model = auto_arima(publish_df, start_p=0, start_q=0)\n",
    "#model.fit(df)\n",
    "\n",
    "def forecast_to_df(model, steps=10):\n",
    "    forecast, conf_int = model.predict(n_periods=steps, return_conf_int=True)\n",
    "    pred_df=pd.DataFrame()\n",
    "    pred_df[\"lower\"] = conf_int[:,0]\n",
    "    pred_df[\"upper\"] = conf_int[:,1]\n",
    "    pred_df[\"pred\"] = forecast.values\n",
    "    return pred_df\n",
    "\n",
    "STEPS = 60\n",
    "\n",
    "pred_df = forecast_to_df(model, steps=STEPS)\n",
    "\n",
    "print(model)\n",
    "print(publish_df.index[-1])\n",
    "\n",
    "pred_df.set_index(pd.date_range(start=publish_df.index[-1],periods=STEPS, freq=\"MS\"), inplace=True)\n",
    "fig, ax = plt.subplots(figsize=(22,7))\n",
    "ax.plot(publish_df[publish_df.index.year >= 2016],label='Monthly publication frequencies')\n",
    "ax.plot(pred_df, label=['Lower dound',\"Upper bound\",'Projection mean'])\n",
    "ax.fill_between(x=pred_df.index,y1=pred_df['lower'],y2=pred_df['upper'],alpha=0.3)\n",
    "ax.legend()\n",
    "plt.plot()"
   ]
  }
 ],
 "metadata": {
  "kernelspec": {
   "display_name": "Python 3 (ipykernel)",
   "language": "python",
   "name": "python3"
  },
  "language_info": {
   "codemirror_mode": {
    "name": "ipython",
    "version": 3
   },
   "file_extension": ".py",
   "mimetype": "text/x-python",
   "name": "python",
   "nbconvert_exporter": "python",
   "pygments_lexer": "ipython3",
   "version": "3.8.12"
  }
 },
 "nbformat": 4,
 "nbformat_minor": 5
}
