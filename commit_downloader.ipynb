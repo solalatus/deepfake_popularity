{
 "cells": [
  {
   "cell_type": "code",
   "execution_count": 1,
   "id": "7eb5c0ad",
   "metadata": {},
   "outputs": [
    {
     "name": "stdout",
     "output_type": "stream",
     "text": [
      "Requirement already satisfied: PyGithub in /home/alatus/anaconda3/envs/10_days_AI/lib/python3.8/site-packages (1.55)\n",
      "Requirement already satisfied: requests>=2.14.0 in /home/alatus/anaconda3/envs/10_days_AI/lib/python3.8/site-packages (from PyGithub) (2.26.0)\n",
      "Requirement already satisfied: pynacl>=1.4.0 in /home/alatus/anaconda3/envs/10_days_AI/lib/python3.8/site-packages (from PyGithub) (1.5.0)\n",
      "Requirement already satisfied: deprecated in /home/alatus/anaconda3/envs/10_days_AI/lib/python3.8/site-packages (from PyGithub) (1.2.13)\n",
      "Requirement already satisfied: pyjwt>=2.0 in /home/alatus/anaconda3/envs/10_days_AI/lib/python3.8/site-packages (from PyGithub) (2.1.0)\n",
      "Requirement already satisfied: cffi>=1.4.1 in /home/alatus/anaconda3/envs/10_days_AI/lib/python3.8/site-packages (from pynacl>=1.4.0->PyGithub) (1.14.6)\n",
      "Requirement already satisfied: pycparser in /home/alatus/anaconda3/envs/10_days_AI/lib/python3.8/site-packages (from cffi>=1.4.1->pynacl>=1.4.0->PyGithub) (2.21)\n",
      "Requirement already satisfied: charset-normalizer~=2.0.0 in /home/alatus/anaconda3/envs/10_days_AI/lib/python3.8/site-packages (from requests>=2.14.0->PyGithub) (2.0.4)\n",
      "Requirement already satisfied: certifi>=2017.4.17 in /home/alatus/anaconda3/envs/10_days_AI/lib/python3.8/site-packages (from requests>=2.14.0->PyGithub) (2021.10.8)\n",
      "Requirement already satisfied: idna<4,>=2.5 in /home/alatus/anaconda3/envs/10_days_AI/lib/python3.8/site-packages (from requests>=2.14.0->PyGithub) (3.3)\n",
      "Requirement already satisfied: urllib3<1.27,>=1.21.1 in /home/alatus/anaconda3/envs/10_days_AI/lib/python3.8/site-packages (from requests>=2.14.0->PyGithub) (1.26.7)\n",
      "Requirement already satisfied: wrapt<2,>=1.10 in /home/alatus/anaconda3/envs/10_days_AI/lib/python3.8/site-packages (from deprecated->PyGithub) (1.13.3)\n",
      "Requirement already satisfied: tqdm in /home/alatus/anaconda3/envs/10_days_AI/lib/python3.8/site-packages (4.64.1)\n"
     ]
    }
   ],
   "source": [
    "!pip install PyGithub\n",
    "!pip install tqdm"
   ]
  },
  {
   "cell_type": "code",
   "execution_count": 2,
   "id": "944abc35",
   "metadata": {},
   "outputs": [],
   "source": [
    "with open(\"token.txt\",\"r\") as fil:\n",
    "    TOKEN=fil.readline()"
   ]
  },
  {
   "cell_type": "code",
   "execution_count": 3,
   "id": "4c96f6eb",
   "metadata": {},
   "outputs": [],
   "source": [
    "import os\n",
    "import os.path\n",
    "\n",
    "if os.path.exists(\"repos.txt\"):\n",
    "    \n",
    "    with open(\"repos.txt\",\"r\") as fil:\n",
    "        repos=fil.readlines()\n",
    "\n",
    "    repos = [x.replace(\"\\n\",\"\") for x in repos]\n",
    "\n",
    "else:\n",
    "    print(\"No repo list exists, aborting\")\n",
    "    raise NotImplementedError"
   ]
  },
  {
   "cell_type": "code",
   "execution_count": 4,
   "id": "8f66db8e",
   "metadata": {},
   "outputs": [
    {
     "name": "stdout",
     "output_type": "stream",
     "text": [
      "Folder already exists\n"
     ]
    }
   ],
   "source": [
    "import os\n",
    "import os.path\n",
    "\n",
    "folder = \"repos\"\n",
    "\n",
    "if folder:\n",
    "    os.chdir(\".\")\n",
    "\n",
    "    if os.path.isdir(folder):\n",
    "        print(\"Folder already exists\")\n",
    "    else:\n",
    "        print(\"Creating folder\",folder)\n",
    "        os.mkdir(folder)\n"
   ]
  },
  {
   "cell_type": "code",
   "execution_count": 5,
   "id": "de5a7ffb",
   "metadata": {},
   "outputs": [
    {
     "name": "stdout",
     "output_type": "stream",
     "text": [
      "File not found, so not removing it\n"
     ]
    }
   ],
   "source": [
    "if os.path.exists(\"last_worked.txt\"):\n",
    "    \n",
    "    with open(\"last_worked.txt\",\"r\") as fil:\n",
    "        last_worked_on=fil.readline()\n",
    "    position = repos.index(last_worked_on)\n",
    "    \n",
    "    last_filename = last_worked_on.replace(\"/\",\"-\")+\".csv\"\n",
    "    try:\n",
    "        os.remove(folder+\"/\"+last_filename)\n",
    "    except:\n",
    "        print(\"File not found, so not removing it\")\n",
    "    repos = repos[position:]\n"
   ]
  },
  {
   "cell_type": "code",
   "execution_count": 6,
   "id": "201cbcf2",
   "metadata": {},
   "outputs": [],
   "source": [
    "from github import Github\n",
    "\n",
    "g = Github(TOKEN)\n"
   ]
  },
  {
   "cell_type": "code",
   "execution_count": 7,
   "id": "88f6759d",
   "metadata": {},
   "outputs": [],
   "source": [
    "import pandas as pd\n",
    "from tqdm.notebook import tqdm\n",
    "from github import GithubException\n",
    "\n",
    "\n",
    "def get_commits_by_repo_name(repo_name):\n",
    "\n",
    "    with open(\"last_worked.txt\",\"w\") as fil:\n",
    "        fil.write(repo_name)\n",
    "    \n",
    "    authors = []\n",
    "    dates = []\n",
    "    empties_count = 0\n",
    "\n",
    "    repo = g.get_repo(repo_name)\n",
    "    \n",
    "    commits = repo.get_commits()\n",
    "    try:\n",
    "        \n",
    "        for commit in tqdm(commits, desc=\"Commits progress\",total=commits.totalCount, position=1, leave=False):\n",
    "            authors.append(commit.commit.raw_data[\"author\"][\"name\"])\n",
    "            dates.append(commit.commit.raw_data[\"author\"][\"date\"])\n",
    "    except GithubException as err:\n",
    "        if err.data[\"message\"] == \"Git Repository is empty.\":\n",
    "            print(\"Found an empty repo.\")\n",
    "            empties_count+=1\n",
    "        else:\n",
    "            raise err\n",
    "    return authors, dates, empties_count\n",
    "\n",
    "def create_and_save_dataframe(authors, dates, repo_name, folder=\"\"):\n",
    "    if authors:\n",
    "        df = pd.DataFrame({\"commit_author\":authors, \"commit_date\": dates})\n",
    "        if folder:\n",
    "            folder=folder+\"/\"\n",
    "        df.to_csv(folder+repo_name.replace(\"/\",\"-\")+\".csv\")\n",
    "    return\n",
    "    \n"
   ]
  },
  {
   "cell_type": "code",
   "execution_count": null,
   "id": "3bc15361",
   "metadata": {},
   "outputs": [
    {
     "data": {
      "application/vnd.jupyter.widget-view+json": {
       "model_id": "b833b3c4f64e4e5f88c9f589b2edc63c",
       "version_major": 2,
       "version_minor": 0
      },
      "text/plain": [
       "Repos progress:   0%|          | 0/828 [00:00<?, ?it/s]"
      ]
     },
     "metadata": {},
     "output_type": "display_data"
    },
    {
     "data": {
      "application/vnd.jupyter.widget-view+json": {
       "model_id": "4529ba99f37248849fa8c02468b57950",
       "version_major": 2,
       "version_minor": 0
      },
      "text/plain": [
       "Commits progress:   0%|          | 0/1219 [00:00<?, ?it/s]"
      ]
     },
     "metadata": {},
     "output_type": "display_data"
    }
   ],
   "source": [
    "for repo_name in tqdm(list(repos), desc=\"Repos progress\"):\n",
    "    authors, dates, empties_count = get_commits_by_repo_name(repo_name)\n",
    "    create_and_save_dataframe(authors, dates, repo_name, folder)\n",
    "\n",
    "print(\"Total nuber of empty repos:\", empties_count)\n"
   ]
  }
 ],
 "metadata": {
  "kernelspec": {
   "display_name": "Python 3 (ipykernel)",
   "language": "python",
   "name": "python3"
  },
  "language_info": {
   "codemirror_mode": {
    "name": "ipython",
    "version": 3
   },
   "file_extension": ".py",
   "mimetype": "text/x-python",
   "name": "python",
   "nbconvert_exporter": "python",
   "pygments_lexer": "ipython3",
   "version": "3.8.12"
  }
 },
 "nbformat": 4,
 "nbformat_minor": 5
}
