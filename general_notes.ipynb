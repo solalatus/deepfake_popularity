{
 "cells": [
  {
   "cell_type": "markdown",
   "id": "d23612c7",
   "metadata": {},
   "source": [
    "Munkadefiníció:\n",
    "- megfigyelhető és biometrikusan azonosítható, emberről szóló szignálok hamisítása / munipulációja\n",
    "- perceptuális domain fontos, nem másodlagos megfigyelés, pl aláírás,...\n",
    "\n",
    "Határterületek:\n",
    "- image inpainting -> nem jó, mert csak elemeket változtat (???)\n",
    "- fotoretusálás -> ugyanaz a subject, más property, fene tudja ez mi... Nagyobb társadalmi kárt érzünk, ha az identitás sérül mintha egy property."
   ]
  },
  {
   "cell_type": "markdown",
   "id": "1e5429e9",
   "metadata": {},
   "source": [
    "# Leading repos\n",
    "\n",
    "Megnézni a repókat\n",
    "\n",
    "\n",
    "And there is https://faceswap.dev/#content\n",
    "\n",
    "https://github.com/iperov/DeepFaceLab\n",
    "\n",
    "SimSwap"
   ]
  },
  {
   "cell_type": "markdown",
   "id": "ea861b8a",
   "metadata": {},
   "source": [
    "# Evaluation\n",
    "\n",
    "https://paperswithcode.com/sota/face-swapping-on-faceforensics\n",
    "\n",
    "ID retrieval \n",
    "\n",
    "evaluation metric comes from here: https://arxiv.org/pdf/1912.13457.pdf\n",
    "\n",
    "verification comes from here: https://arxiv.org/pdf/1704.06729.pdf\n",
    "\n",
    "\n",
    "https://www.unite.ai/a-new-and-simpler-deepfake-method-that-outperforms-prior-approaches/\n",
    "\n",
    "\"ID retrieval accuracy\n",
    "is used to estimate whether the iden-\n",
    "tity of the swapped face is consistent with the source face. We\n",
    "adopt  three  face  recognition  models  including  CosFace  [51],\n",
    "[52],  ArcFace2  [7],  [53]  and  SphereFace  [6],  [54]  for  the\n",
    "evaluation.  And  identity  retrieving  [3]  is  performed  in  the\n",
    "corresponding test set.\n",
    "As  shown  in  Table  I,  our  method  obtains  the  highest\n",
    "accuracy. The validated performance in ID retrieval accuracy\n",
    "means  that  our  method  maintains  identity  consistency  and\n",
    "guarantees robustness in identity transferring. It indicates that\n",
    "the  use  of  the  identity  compound  embedding  contributes  to\n",
    "identity consistency in face swapping.\"\n",
    "https://docplayer.net/229668454-Paste-you-into-game-towards-expression-and-identity-consistency-face-swapping.html"
   ]
  },
  {
   "cell_type": "markdown",
   "id": "6947b10f",
   "metadata": {},
   "source": [
    "# Hype fitting\n",
    "\n",
    "https://www.researchgate.net/publication/279250733_Simulating_Hype_Cycle_Curves_with_Mathematical_Functions_Some_Examples_of_High-Tech_Trends_in_Japan\n",
    "\n",
    "https://www.linkedin.com/pulse/unhyping-hype-cycle-five-secrets-building-attention-any-voiovich/"
   ]
  },
  {
   "cell_type": "markdown",
   "id": "68078cfe",
   "metadata": {},
   "source": [
    "### How to measure conditional generation performace?\n",
    "\n",
    "https://link.springer.com/article/10.1007/s11263-020-01424-w"
   ]
  },
  {
   "cell_type": "markdown",
   "id": "1ab9a0ac",
   "metadata": {},
   "source": [
    "# Illustrative material\n",
    "\n",
    "Nvidia video meeting\n",
    "https://youtu.be/lj8qofm4n4o\n",
    "\n",
    "Months comment\n",
    "https://youtu.be/NiJeB2NJy1A"
   ]
  },
  {
   "cell_type": "markdown",
   "id": "b48ab527",
   "metadata": {},
   "source": [
    "# OpenSource vs. centralization\n",
    "\n",
    "https://www.youtube.com/watch?v=xbxe-x6wvRw"
   ]
  },
  {
   "cell_type": "markdown",
   "id": "528883ea",
   "metadata": {},
   "source": [
    "Granger causality for time series:\n",
    "https://github.com/dgwozdz/HN_SO_analysis"
   ]
  },
  {
   "cell_type": "markdown",
   "id": "f4e5d138",
   "metadata": {},
   "source": [
    "\n",
    "https://arxiv.org/abs/1503.00843 old survey\n",
    "\n",
    "have to filter for astro\n",
    "\n",
    "\n",
    "ARXIV time bias!!!!!\n",
    "\n",
    "Elsevier?\n",
    "\n",
    "Google Books?\n",
    "https://books.google.com/ngrams/graph?content=image+inpainting&year_start=1970&year_end=2019&corpus=26&smoothing=3#\n",
    "\n",
    "\n",
    "Demarkálni image-re mindenképp, de leginkább videora, kézi szerkesztés kizárásával, \"deep\" technológia kötelező?\n",
    "Ha igen, az hasznos, mert arxiv elég jó mérőke. Korábbiaknál nem.\n",
    "\n",
    "https://techcrunch.com/2022/08/24/deepfakes-for-all-uncensored-ai-art-model-prompts-ethics-questions/?guccounter=1&guce_referrer=aHR0cHM6Ly93d3cuZ29vZ2xlLmNvbS8&guce_referrer_sig=AQAAAL_N0KPgrPTatZ5yioVgO4h53FEHQX0TXCTbM5MqiaFIjjDI6zfsbVDkotjkbRiTEOzgd7xaNe4sU_Qs1gvjpRG2tAZXmeIJlVD_y13huUzWRGeVzqwO2PD_1mSdl3ZoDSgIq2-8xW7awBjk0jJqtDpPQj7ZuBL21ISToI0kptNF\n",
    "\n",
    "Stable diffusiont említeni kell!\n",
    "\n",
    "https://www.louisbouchard.ai/imageworthoneword/\n",
    "\n",
    "https://www.youtube.com/watch?v=nVhmFski3vg\n",
    "\n",
    "\n",
    "Computer vision cycles:\n",
    "https://books.google.com/ngrams/graph?content=computer+vision&year_start=1970&year_end=2019&corpus=26&smoothing=3&direct_url=t1%3B%2Ccomputer%20vision%3B%2Cc0#t1%3B%2Ccomputer%20vision%3B%2Cc0\n",
    "\n",
    "\n",
    "Irodalom előbb reagál mint a populáris keresés:\n",
    "https://books.google.com/ngrams/graph?content=deepfake&year_start=2013&year_end=2019&corpus=26&smoothing=3#\n",
    "https://trends.google.com/trends/explore?date=2013-01-01%202019-01-01&q=deepfake\n",
    "\n",
    "2018-ban robban be a köztudatba:\n",
    "https://en.wikipedia.org/wiki/Deepfake (sok 2018-as dátum)\n",
    "\n",
    "Utána is jól követhető a Google Trends és a wiki párhuzamossága\n",
    "\n",
    "\n",
    "Innen összeszedni esetleg a commit gyakoriságot?\n",
    "https://github.com/topics/deepfakes rekurzíve...\n",
    "\n",
    "\n",
    "Check papers with code!!\n",
    "\n",
    "\n",
    "Read: https://paperswithcode.com/paper/deepfake-definitions-performance-metrics-and !!!!!!\n",
    "\n",
    "\n",
    "\n",
    "2017-es coining ok.\n",
    "\n",
    "\n",
    "3 alap technológia: \n",
    "- photo editing\n",
    "- rendering\n",
    "- generative modeling\n",
    "\n",
    "\n",
    "\n",
    "Arxiv: image synthesis kulcsszó CS-re szűrve jó lehet!\n",
    "\n",
    "\" használata harmadolja a találatokat\n",
    "\n",
    "\n",
    "https://arxiv.org/search/advanced?advanced=&terms-0-operator=AND&terms-0-term=image+synthesis&terms-0-field=all&classification-computer_science=y&classification-physics_archives=all&classification-include_cross_list=include&date-filter_by=all_dates&date-year=&date-from_date=&date-to_date=&date-date_type=submitted_date&abstracts=show&size=50&order=-announced_date_first\n",
    "\n",
    "\n",
    "diffusion models for deppfake:\n",
    "https://youtu.be/_Y1-KlTEmwk"
   ]
  },
  {
   "cell_type": "markdown",
   "id": "a6600ef8",
   "metadata": {},
   "source": [
    "**SURVEY!!!!!!!**\n",
    "\n",
    "https://arxiv.org/abs/2208.10913"
   ]
  },
  {
   "cell_type": "code",
   "execution_count": null,
   "id": "51b7fb5e",
   "metadata": {},
   "outputs": [],
   "source": []
  },
  {
   "cell_type": "markdown",
   "id": "bfeaab76",
   "metadata": {},
   "source": [
    "Github scrape:\n",
    "\n",
    "https://github.com/search?p=1&q=deepfake&type=Repositories\n"
   ]
  },
  {
   "cell_type": "markdown",
   "id": "e23f228a",
   "metadata": {},
   "source": [
    "!!!!!!!!!!!!!!!!!!!!!!!\n",
    "Filter\n",
    "\n",
    "https://github.com/xnbox/DeepfakeHTTP#how-does-it-work\n",
    "\n",
    "!!!!!!!!!\n",
    "Forks?????"
   ]
  },
  {
   "cell_type": "markdown",
   "id": "0744ee5b",
   "metadata": {},
   "source": [
    "Google: use Pytrends!!!!\n",
    "\n",
    "https://lazarinastoy.com/the-ultimate-guide-to-pytrends-google-trends-api-with-python/"
   ]
  }
 ],
 "metadata": {
  "kernelspec": {
   "display_name": "Python 3 (ipykernel)",
   "language": "python",
   "name": "python3"
  },
  "language_info": {
   "codemirror_mode": {
    "name": "ipython",
    "version": 3
   },
   "file_extension": ".py",
   "mimetype": "text/x-python",
   "name": "python",
   "nbconvert_exporter": "python",
   "pygments_lexer": "ipython3",
   "version": "3.8.12"
  }
 },
 "nbformat": 4,
 "nbformat_minor": 5
}
