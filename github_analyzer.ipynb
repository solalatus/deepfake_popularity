{
 "cells": [
  {
   "cell_type": "code",
   "execution_count": 1,
   "id": "f50249be",
   "metadata": {},
   "outputs": [],
   "source": [
    "import pandas as pd"
   ]
  },
  {
   "cell_type": "code",
   "execution_count": 2,
   "id": "8baeb7d9",
   "metadata": {},
   "outputs": [],
   "source": [
    "folder = \"repos\"\n",
    "\n",
    "with open(\"repos.txt\") as fil:\n",
    "    all_repos=fil.readlines()"
   ]
  },
  {
   "cell_type": "code",
   "execution_count": 3,
   "id": "c5954bc8",
   "metadata": {},
   "outputs": [],
   "source": [
    "original_repos = [x.replace(\"\\n\",\"\") for x in all_repos]\n",
    "all_repos = [x.replace(\"\\n\",\"\").replace(\"/\",\"-\") for x in all_repos]\n"
   ]
  },
  {
   "cell_type": "code",
   "execution_count": 4,
   "id": "600af630",
   "metadata": {},
   "outputs": [],
   "source": [
    "import os\n",
    "BASE_DIR = os.getcwd()\n"
   ]
  },
  {
   "cell_type": "code",
   "execution_count": 5,
   "id": "1f43b5aa",
   "metadata": {},
   "outputs": [],
   "source": [
    "repo_data = {}"
   ]
  },
  {
   "cell_type": "code",
   "execution_count": 6,
   "id": "e35edcc2",
   "metadata": {},
   "outputs": [
    {
     "data": {
      "text/html": [
       "<div>\n",
       "<style scoped>\n",
       "    .dataframe tbody tr th:only-of-type {\n",
       "        vertical-align: middle;\n",
       "    }\n",
       "\n",
       "    .dataframe tbody tr th {\n",
       "        vertical-align: top;\n",
       "    }\n",
       "\n",
       "    .dataframe thead th {\n",
       "        text-align: right;\n",
       "    }\n",
       "</style>\n",
       "<table border=\"1\" class=\"dataframe\">\n",
       "  <thead>\n",
       "    <tr style=\"text-align: right;\">\n",
       "      <th></th>\n",
       "      <th>commit_author</th>\n",
       "      <th>commit_date</th>\n",
       "    </tr>\n",
       "  </thead>\n",
       "  <tbody>\n",
       "    <tr>\n",
       "      <th>0</th>\n",
       "      <td>simminu</td>\n",
       "      <td>2021-10-05T08:02:27Z</td>\n",
       "    </tr>\n",
       "    <tr>\n",
       "      <th>1</th>\n",
       "      <td>simminu</td>\n",
       "      <td>2021-10-05T08:02:05Z</td>\n",
       "    </tr>\n",
       "    <tr>\n",
       "      <th>2</th>\n",
       "      <td>simminu</td>\n",
       "      <td>2021-10-05T07:57:46Z</td>\n",
       "    </tr>\n",
       "    <tr>\n",
       "      <th>3</th>\n",
       "      <td>simminu</td>\n",
       "      <td>2021-10-05T07:51:17Z</td>\n",
       "    </tr>\n",
       "    <tr>\n",
       "      <th>4</th>\n",
       "      <td>simminu</td>\n",
       "      <td>2021-10-05T07:44:54Z</td>\n",
       "    </tr>\n",
       "    <tr>\n",
       "      <th>5</th>\n",
       "      <td>simminu</td>\n",
       "      <td>2021-10-01T12:06:38Z</td>\n",
       "    </tr>\n",
       "    <tr>\n",
       "      <th>6</th>\n",
       "      <td>simminu</td>\n",
       "      <td>2021-09-23T06:03:48Z</td>\n",
       "    </tr>\n",
       "    <tr>\n",
       "      <th>7</th>\n",
       "      <td>simminu</td>\n",
       "      <td>2021-09-22T17:50:25Z</td>\n",
       "    </tr>\n",
       "    <tr>\n",
       "      <th>8</th>\n",
       "      <td>simminu</td>\n",
       "      <td>2021-09-22T17:48:44Z</td>\n",
       "    </tr>\n",
       "    <tr>\n",
       "      <th>9</th>\n",
       "      <td>simminu</td>\n",
       "      <td>2021-09-22T17:46:13Z</td>\n",
       "    </tr>\n",
       "    <tr>\n",
       "      <th>10</th>\n",
       "      <td>simminu</td>\n",
       "      <td>2021-09-22T17:45:31Z</td>\n",
       "    </tr>\n",
       "    <tr>\n",
       "      <th>11</th>\n",
       "      <td>simminu</td>\n",
       "      <td>2021-09-22T13:28:57Z</td>\n",
       "    </tr>\n",
       "    <tr>\n",
       "      <th>12</th>\n",
       "      <td>simminu</td>\n",
       "      <td>2021-08-12T02:51:53Z</td>\n",
       "    </tr>\n",
       "    <tr>\n",
       "      <th>13</th>\n",
       "      <td>simminu</td>\n",
       "      <td>2021-08-12T02:51:38Z</td>\n",
       "    </tr>\n",
       "    <tr>\n",
       "      <th>14</th>\n",
       "      <td>simminu</td>\n",
       "      <td>2021-08-12T02:44:58Z</td>\n",
       "    </tr>\n",
       "    <tr>\n",
       "      <th>15</th>\n",
       "      <td>simminu</td>\n",
       "      <td>2021-08-12T02:43:51Z</td>\n",
       "    </tr>\n",
       "    <tr>\n",
       "      <th>16</th>\n",
       "      <td>simminu</td>\n",
       "      <td>2021-08-12T02:43:02Z</td>\n",
       "    </tr>\n",
       "  </tbody>\n",
       "</table>\n",
       "</div>"
      ],
      "text/plain": [
       "   commit_author           commit_date\n",
       "0        simminu  2021-10-05T08:02:27Z\n",
       "1        simminu  2021-10-05T08:02:05Z\n",
       "2        simminu  2021-10-05T07:57:46Z\n",
       "3        simminu  2021-10-05T07:51:17Z\n",
       "4        simminu  2021-10-05T07:44:54Z\n",
       "5        simminu  2021-10-01T12:06:38Z\n",
       "6        simminu  2021-09-23T06:03:48Z\n",
       "7        simminu  2021-09-22T17:50:25Z\n",
       "8        simminu  2021-09-22T17:48:44Z\n",
       "9        simminu  2021-09-22T17:46:13Z\n",
       "10       simminu  2021-09-22T17:45:31Z\n",
       "11       simminu  2021-09-22T13:28:57Z\n",
       "12       simminu  2021-08-12T02:51:53Z\n",
       "13       simminu  2021-08-12T02:51:38Z\n",
       "14       simminu  2021-08-12T02:44:58Z\n",
       "15       simminu  2021-08-12T02:43:51Z\n",
       "16       simminu  2021-08-12T02:43:02Z"
      ]
     },
     "execution_count": 6,
     "metadata": {},
     "output_type": "execute_result"
    }
   ],
   "source": [
    "\n",
    "filename=BASE_DIR+\"/\"+folder+\"/\"+all_repos[0]+\".csv\"\n",
    "df = pd.read_csv(filename)\n",
    "\n",
    "repo_data[original_repos[0]]=[len(df),df.iloc[-1].commit_date]\n",
    "\n",
    "df = df.drop(df.columns[0], axis=1)\n",
    "df\n"
   ]
  },
  {
   "cell_type": "code",
   "execution_count": 7,
   "id": "8a302aa8",
   "metadata": {},
   "outputs": [],
   "source": [
    "from os.path import exists\n",
    "\n",
    "for i,repo in enumerate(all_repos[1:]):\n",
    "    filename=BASE_DIR+\"/\"+folder+\"/\"+repo+\".csv\"\n",
    "    if exists(filename):\n",
    "        tmp_df = pd.read_csv(filename)\n",
    "        tmp_df = tmp_df.drop(tmp_df.columns[0], axis=1)\n",
    "        df = pd.concat([df,tmp_df] )\n",
    "        repo_data[original_repos[i+1]]=[len(tmp_df),tmp_df.iloc[-1].commit_date]\n",
    "\n",
    "\n"
   ]
  },
  {
   "cell_type": "code",
   "execution_count": 8,
   "id": "a7111754",
   "metadata": {},
   "outputs": [],
   "source": [
    "df[\"commit_date\"] = pd.to_datetime(df[\"commit_date\"]) "
   ]
  },
  {
   "cell_type": "code",
   "execution_count": 9,
   "id": "01624912",
   "metadata": {},
   "outputs": [
    {
     "data": {
      "text/html": [
       "<div>\n",
       "<style scoped>\n",
       "    .dataframe tbody tr th:only-of-type {\n",
       "        vertical-align: middle;\n",
       "    }\n",
       "\n",
       "    .dataframe tbody tr th {\n",
       "        vertical-align: top;\n",
       "    }\n",
       "\n",
       "    .dataframe thead th {\n",
       "        text-align: right;\n",
       "    }\n",
       "</style>\n",
       "<table border=\"1\" class=\"dataframe\">\n",
       "  <thead>\n",
       "    <tr style=\"text-align: right;\">\n",
       "      <th></th>\n",
       "      <th>commits</th>\n",
       "    </tr>\n",
       "    <tr>\n",
       "      <th>commit_date</th>\n",
       "      <th></th>\n",
       "    </tr>\n",
       "  </thead>\n",
       "  <tbody>\n",
       "    <tr>\n",
       "      <th>2021-10-05 08:02:27+00:00</th>\n",
       "      <td>simminu</td>\n",
       "    </tr>\n",
       "    <tr>\n",
       "      <th>2021-10-05 08:02:05+00:00</th>\n",
       "      <td>simminu</td>\n",
       "    </tr>\n",
       "    <tr>\n",
       "      <th>2021-10-05 07:57:46+00:00</th>\n",
       "      <td>simminu</td>\n",
       "    </tr>\n",
       "    <tr>\n",
       "      <th>2021-10-05 07:51:17+00:00</th>\n",
       "      <td>simminu</td>\n",
       "    </tr>\n",
       "    <tr>\n",
       "      <th>2021-10-05 07:44:54+00:00</th>\n",
       "      <td>simminu</td>\n",
       "    </tr>\n",
       "  </tbody>\n",
       "</table>\n",
       "</div>"
      ],
      "text/plain": [
       "                           commits\n",
       "commit_date                       \n",
       "2021-10-05 08:02:27+00:00  simminu\n",
       "2021-10-05 08:02:05+00:00  simminu\n",
       "2021-10-05 07:57:46+00:00  simminu\n",
       "2021-10-05 07:51:17+00:00  simminu\n",
       "2021-10-05 07:44:54+00:00  simminu"
      ]
     },
     "execution_count": 9,
     "metadata": {},
     "output_type": "execute_result"
    }
   ],
   "source": [
    "df = df.set_index(\"commit_date\")\n",
    "df = df.rename(columns={\"commit_author\":\"commits\"})\n",
    "df.head()"
   ]
  },
  {
   "cell_type": "code",
   "execution_count": 10,
   "id": "a0b333b6",
   "metadata": {},
   "outputs": [
    {
     "data": {
      "image/png": "[encoded data removed]",
      "text/plain": [
       "<Figure size 1332x756 with 1 Axes>"
      ]
     },
     "metadata": {
      "needs_background": "light"
     },
     "output_type": "display_data"
    }
   ],
   "source": [
    "import matplotlib.pyplot as plt\n",
    "from datetime import datetime\n",
    "\n",
    "resampled = df.resample(\"MS\").count()\n",
    "\n",
    "\n",
    "ax = resampled.plot(kind=\"bar\")\n",
    "locs, labels=plt.xticks()\n",
    "\n",
    "ax.set_xticks(locs,[datetime.strftime(x,\"%Y-%m\") for x in list(resampled.index)])\n",
    "\n",
    "fig = plt.gcf()\n",
    "fig.set_size_inches(18.5, 10.5)\n",
    "plt.show()"
   ]
  },
  {
   "cell_type": "code",
   "execution_count": 11,
   "id": "c3543af7",
   "metadata": {},
   "outputs": [
    {
     "data": {
      "image/png": "[encoded data removed]",
      "text/plain": [
       "<Figure size 1332x756 with 1 Axes>"
      ]
     },
     "metadata": {
      "needs_background": "light"
     },
     "output_type": "display_data"
    }
   ],
   "source": [
    "\n",
    "ax = resampled.plot()\n",
    "locs, labels=plt.xticks()\n",
    "\n",
    "#ax.set_xticks(locs,[datetime.strftime(x,\"%Y-%m\") for x in list(resampled.index)])\n",
    "\n",
    "fig = plt.gcf()\n",
    "fig.set_size_inches(18.5, 10.5)\n",
    "plt.show()"
   ]
  },
  {
   "cell_type": "code",
   "execution_count": 12,
   "id": "57f90578",
   "metadata": {},
   "outputs": [
    {
     "data": {
      "text/html": [
       "<div>\n",
       "<style scoped>\n",
       "    .dataframe tbody tr th:only-of-type {\n",
       "        vertical-align: middle;\n",
       "    }\n",
       "\n",
       "    .dataframe tbody tr th {\n",
       "        vertical-align: top;\n",
       "    }\n",
       "\n",
       "    .dataframe thead th {\n",
       "        text-align: right;\n",
       "    }\n",
       "</style>\n",
       "<table border=\"1\" class=\"dataframe\">\n",
       "  <thead>\n",
       "    <tr style=\"text-align: right;\">\n",
       "      <th></th>\n",
       "      <th>commit_count</th>\n",
       "      <th>first_commit_date</th>\n",
       "    </tr>\n",
       "  </thead>\n",
       "  <tbody>\n",
       "    <tr>\n",
       "      <th>simsimee/Faceswap_and_Deepfake_Detection</th>\n",
       "      <td>17</td>\n",
       "      <td>2021-08-12 02:43:02+00:00</td>\n",
       "    </tr>\n",
       "    <tr>\n",
       "      <th>carlosdamirand/Deepfake</th>\n",
       "      <td>3</td>\n",
       "      <td>2020-11-28 16:36:03+00:00</td>\n",
       "    </tr>\n",
       "    <tr>\n",
       "      <th>manncodes/Deepfake-of-Elon-Tweets</th>\n",
       "      <td>31</td>\n",
       "      <td>2020-07-02 14:20:28+00:00</td>\n",
       "    </tr>\n",
       "    <tr>\n",
       "      <th>pamintandrei/deepfakedetection_challange_kaggle</th>\n",
       "      <td>1</td>\n",
       "      <td>2020-10-13 13:04:01+00:00</td>\n",
       "    </tr>\n",
       "    <tr>\n",
       "      <th>alexhaislip/Deepfake_creation</th>\n",
       "      <td>2</td>\n",
       "      <td>2021-07-15 03:44:28+00:00</td>\n",
       "    </tr>\n",
       "    <tr>\n",
       "      <th>...</th>\n",
       "      <td>...</td>\n",
       "      <td>...</td>\n",
       "    </tr>\n",
       "    <tr>\n",
       "      <th>jnheo1216/Deepfake_Classification</th>\n",
       "      <td>1</td>\n",
       "      <td>2020-11-17 02:23:41+00:00</td>\n",
       "    </tr>\n",
       "    <tr>\n",
       "      <th>saleh1312/DeepFake</th>\n",
       "      <td>5</td>\n",
       "      <td>2021-01-27 08:17:28+00:00</td>\n",
       "    </tr>\n",
       "    <tr>\n",
       "      <th>cuihaoleo/kaggle-dfdc</th>\n",
       "      <td>4</td>\n",
       "      <td>2020-04-28 23:04:38+00:00</td>\n",
       "    </tr>\n",
       "    <tr>\n",
       "      <th>StefosGeo/deepfake</th>\n",
       "      <td>1</td>\n",
       "      <td>2020-04-22 17:43:27+00:00</td>\n",
       "    </tr>\n",
       "    <tr>\n",
       "      <th>dormantoptimus/deepfakedemo</th>\n",
       "      <td>1</td>\n",
       "      <td>2018-10-27 05:37:12+00:00</td>\n",
       "    </tr>\n",
       "  </tbody>\n",
       "</table>\n",
       "<p>605 rows × 2 columns</p>\n",
       "</div>"
      ],
      "text/plain": [
       "                                                 commit_count  \\\n",
       "simsimee/Faceswap_and_Deepfake_Detection                   17   \n",
       "carlosdamirand/Deepfake                                     3   \n",
       "manncodes/Deepfake-of-Elon-Tweets                          31   \n",
       "pamintandrei/deepfakedetection_challange_kaggle             1   \n",
       "alexhaislip/Deepfake_creation                               2   \n",
       "...                                                       ...   \n",
       "jnheo1216/Deepfake_Classification                           1   \n",
       "saleh1312/DeepFake                                          5   \n",
       "cuihaoleo/kaggle-dfdc                                       4   \n",
       "StefosGeo/deepfake                                          1   \n",
       "dormantoptimus/deepfakedemo                                 1   \n",
       "\n",
       "                                                        first_commit_date  \n",
       "simsimee/Faceswap_and_Deepfake_Detection        2021-08-12 02:43:02+00:00  \n",
       "carlosdamirand/Deepfake                         2020-11-28 16:36:03+00:00  \n",
       "manncodes/Deepfake-of-Elon-Tweets               2020-07-02 14:20:28+00:00  \n",
       "pamintandrei/deepfakedetection_challange_kaggle 2020-10-13 13:04:01+00:00  \n",
       "alexhaislip/Deepfake_creation                   2021-07-15 03:44:28+00:00  \n",
       "...                                                                   ...  \n",
       "jnheo1216/Deepfake_Classification               2020-11-17 02:23:41+00:00  \n",
       "saleh1312/DeepFake                              2021-01-27 08:17:28+00:00  \n",
       "cuihaoleo/kaggle-dfdc                           2020-04-28 23:04:38+00:00  \n",
       "StefosGeo/deepfake                              2020-04-22 17:43:27+00:00  \n",
       "dormantoptimus/deepfakedemo                     2018-10-27 05:37:12+00:00  \n",
       "\n",
       "[605 rows x 2 columns]"
      ]
     },
     "execution_count": 12,
     "metadata": {},
     "output_type": "execute_result"
    }
   ],
   "source": [
    "repodata_df = pd.DataFrame.from_dict(repo_data, orient=\"index\")\n",
    "repodata_df.rename(columns={0:\"commit_count\",1:\"first_commit_date\"}, inplace=True)\n",
    "repodata_df[\"first_commit_date\"]=pd.to_datetime(repodata_df[\"first_commit_date\"])\n",
    "\n",
    "repodata_df\n"
   ]
  },
  {
   "cell_type": "code",
   "execution_count": 13,
   "id": "e36fc515",
   "metadata": {},
   "outputs": [
    {
     "data": {
      "image/png": "[encoded data removed]",
      "text/plain": [
       "<Figure size 432x288 with 1 Axes>"
      ]
     },
     "metadata": {
      "needs_background": "light"
     },
     "output_type": "display_data"
    }
   ],
   "source": [
    "repodata_df.commit_count.hist(bins=[5,10,20,30,40,50,100,500,1000])\n",
    "plt.title(\"Total number of commits per repo \\n Bins [5,10,20,30,40,50,100,500,1000]\")\n",
    "plt.show()"
   ]
  },
  {
   "cell_type": "code",
   "execution_count": 14,
   "id": "dd4c0dcc",
   "metadata": {},
   "outputs": [
    {
     "data": {
      "text/html": [
       "<div>\n",
       "<style scoped>\n",
       "    .dataframe tbody tr th:only-of-type {\n",
       "        vertical-align: middle;\n",
       "    }\n",
       "\n",
       "    .dataframe tbody tr th {\n",
       "        vertical-align: top;\n",
       "    }\n",
       "\n",
       "    .dataframe thead th {\n",
       "        text-align: right;\n",
       "    }\n",
       "</style>\n",
       "<table border=\"1\" class=\"dataframe\">\n",
       "  <thead>\n",
       "    <tr style=\"text-align: right;\">\n",
       "      <th></th>\n",
       "      <th>commit_count</th>\n",
       "      <th>first_commit_date</th>\n",
       "    </tr>\n",
       "  </thead>\n",
       "  <tbody>\n",
       "    <tr>\n",
       "      <th>samq-research/deepfakes-faceswap</th>\n",
       "      <td>1562</td>\n",
       "      <td>2017-12-15 11:47:32+00:00</td>\n",
       "    </tr>\n",
       "    <tr>\n",
       "      <th>Joannaever/deepfakes</th>\n",
       "      <td>1411</td>\n",
       "      <td>2017-12-15 11:47:32+00:00</td>\n",
       "    </tr>\n",
       "    <tr>\n",
       "      <th>sgg423/deepfakes</th>\n",
       "      <td>1309</td>\n",
       "      <td>2018-06-04 13:10:00+00:00</td>\n",
       "    </tr>\n",
       "    <tr>\n",
       "      <th>ekohendratno/deepfakes-faceswap</th>\n",
       "      <td>1306</td>\n",
       "      <td>2017-12-15 11:47:32+00:00</td>\n",
       "    </tr>\n",
       "    <tr>\n",
       "      <th>yfsin/deepfake_pro</th>\n",
       "      <td>985</td>\n",
       "      <td>2018-06-04 13:10:00+00:00</td>\n",
       "    </tr>\n",
       "    <tr>\n",
       "      <th>Musa2077/DeepFaceLab</th>\n",
       "      <td>973</td>\n",
       "      <td>2018-06-04 13:10:00+00:00</td>\n",
       "    </tr>\n",
       "    <tr>\n",
       "      <th>IHA114/deepfakes</th>\n",
       "      <td>632</td>\n",
       "      <td>2017-12-15 11:47:32+00:00</td>\n",
       "    </tr>\n",
       "    <tr>\n",
       "      <th>xnbox/DeepfakeHTTP</th>\n",
       "      <td>524</td>\n",
       "      <td>2021-08-21 08:41:49+00:00</td>\n",
       "    </tr>\n",
       "    <tr>\n",
       "      <th>98wubin/deepfakes_faceswap_test</th>\n",
       "      <td>511</td>\n",
       "      <td>2017-12-15 11:47:32+00:00</td>\n",
       "    </tr>\n",
       "    <tr>\n",
       "      <th>cfosco/deepfake_detection</th>\n",
       "      <td>447</td>\n",
       "      <td>2019-12-03 03:43:11+00:00</td>\n",
       "    </tr>\n",
       "    <tr>\n",
       "      <th>IQTLabs/FakeFinder</th>\n",
       "      <td>411</td>\n",
       "      <td>2021-01-07 17:34:27+00:00</td>\n",
       "    </tr>\n",
       "    <tr>\n",
       "      <th>qAp/kgl_deepfake</th>\n",
       "      <td>323</td>\n",
       "      <td>2020-01-05 03:55:09+00:00</td>\n",
       "    </tr>\n",
       "    <tr>\n",
       "      <th>iperov/DeepFaceLive</th>\n",
       "      <td>293</td>\n",
       "      <td>2021-04-12 18:52:47+00:00</td>\n",
       "    </tr>\n",
       "    <tr>\n",
       "      <th>Kyle-DiGiorno/Challen_Audio_Deepfake</th>\n",
       "      <td>273</td>\n",
       "      <td>2010-10-06 16:00:53+00:00</td>\n",
       "    </tr>\n",
       "    <tr>\n",
       "      <th>MLeonardi12/deepfakes</th>\n",
       "      <td>227</td>\n",
       "      <td>2015-11-11 14:22:11+00:00</td>\n",
       "    </tr>\n",
       "  </tbody>\n",
       "</table>\n",
       "</div>"
      ],
      "text/plain": [
       "                                      commit_count         first_commit_date\n",
       "samq-research/deepfakes-faceswap              1562 2017-12-15 11:47:32+00:00\n",
       "Joannaever/deepfakes                          1411 2017-12-15 11:47:32+00:00\n",
       "sgg423/deepfakes                              1309 2018-06-04 13:10:00+00:00\n",
       "ekohendratno/deepfakes-faceswap               1306 2017-12-15 11:47:32+00:00\n",
       "yfsin/deepfake_pro                             985 2018-06-04 13:10:00+00:00\n",
       "Musa2077/DeepFaceLab                           973 2018-06-04 13:10:00+00:00\n",
       "IHA114/deepfakes                               632 2017-12-15 11:47:32+00:00\n",
       "xnbox/DeepfakeHTTP                             524 2021-08-21 08:41:49+00:00\n",
       "98wubin/deepfakes_faceswap_test                511 2017-12-15 11:47:32+00:00\n",
       "cfosco/deepfake_detection                      447 2019-12-03 03:43:11+00:00\n",
       "IQTLabs/FakeFinder                             411 2021-01-07 17:34:27+00:00\n",
       "qAp/kgl_deepfake                               323 2020-01-05 03:55:09+00:00\n",
       "iperov/DeepFaceLive                            293 2021-04-12 18:52:47+00:00\n",
       "Kyle-DiGiorno/Challen_Audio_Deepfake           273 2010-10-06 16:00:53+00:00\n",
       "MLeonardi12/deepfakes                          227 2015-11-11 14:22:11+00:00"
      ]
     },
     "execution_count": 14,
     "metadata": {},
     "output_type": "execute_result"
    }
   ],
   "source": [
    "repodata_df.sort_values(by=\"commit_count\", ascending=False).head(15)"
   ]
  },
  {
   "cell_type": "code",
   "execution_count": 15,
   "id": "ed870731",
   "metadata": {},
   "outputs": [
    {
     "name": "stdout",
     "output_type": "stream",
     "text": [
      "Total number of repos processed: 605\n"
     ]
    }
   ],
   "source": [
    "print(\"Total number of repos processed:\",len(repodata_df))"
   ]
  }
 ],
 "metadata": {
  "kernelspec": {
   "display_name": "Python 3 (ipykernel)",
   "language": "python",
   "name": "python3"
  },
  "language_info": {
   "codemirror_mode": {
    "name": "ipython",
    "version": 3
   },
   "file_extension": ".py",
   "mimetype": "text/x-python",
   "name": "python",
   "nbconvert_exporter": "python",
   "pygments_lexer": "ipython3",
   "version": "3.8.12"
  }
 },
 "nbformat": 4,
 "nbformat_minor": 5
}
