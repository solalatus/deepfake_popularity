{
 "cells": [
  {
   "cell_type": "code",
   "execution_count": 1,
   "id": "1a1930a8",
   "metadata": {},
   "outputs": [],
   "source": [
    "import pandas as pd"
   ]
  },
  {
   "cell_type": "code",
   "execution_count": 2,
   "id": "f5e8d3c4",
   "metadata": {},
   "outputs": [],
   "source": [
    "folder = \"repos\"\n",
    "\n",
    "with open(\"repos.txt\") as fil:\n",
    "    all_repos=fil.readlines()"
   ]
  },
  {
   "cell_type": "code",
   "execution_count": 3,
   "id": "8d7c1f01",
   "metadata": {},
   "outputs": [],
   "source": [
    "all_repos = [x.replace(\"\\n\",\"\").replace(\"/\",\"-\") for x in all_repos]\n"
   ]
  },
  {
   "cell_type": "code",
   "execution_count": 4,
   "id": "bc0b45ca",
   "metadata": {},
   "outputs": [],
   "source": [
    "import os\n",
    "BASE_DIR = os.getcwd()\n"
   ]
  },
  {
   "cell_type": "code",
   "execution_count": 5,
   "id": "7f951687",
   "metadata": {},
   "outputs": [
    {
     "data": {
      "text/html": [
       "<div>\n",
       "<style scoped>\n",
       "    .dataframe tbody tr th:only-of-type {\n",
       "        vertical-align: middle;\n",
       "    }\n",
       "\n",
       "    .dataframe tbody tr th {\n",
       "        vertical-align: top;\n",
       "    }\n",
       "\n",
       "    .dataframe thead th {\n",
       "        text-align: right;\n",
       "    }\n",
       "</style>\n",
       "<table border=\"1\" class=\"dataframe\">\n",
       "  <thead>\n",
       "    <tr style=\"text-align: right;\">\n",
       "      <th></th>\n",
       "      <th>commit_author</th>\n",
       "      <th>commit_date</th>\n",
       "    </tr>\n",
       "  </thead>\n",
       "  <tbody>\n",
       "    <tr>\n",
       "      <th>0</th>\n",
       "      <td>simminu</td>\n",
       "      <td>2021-10-05T08:02:27Z</td>\n",
       "    </tr>\n",
       "    <tr>\n",
       "      <th>1</th>\n",
       "      <td>simminu</td>\n",
       "      <td>2021-10-05T08:02:05Z</td>\n",
       "    </tr>\n",
       "    <tr>\n",
       "      <th>2</th>\n",
       "      <td>simminu</td>\n",
       "      <td>2021-10-05T07:57:46Z</td>\n",
       "    </tr>\n",
       "    <tr>\n",
       "      <th>3</th>\n",
       "      <td>simminu</td>\n",
       "      <td>2021-10-05T07:51:17Z</td>\n",
       "    </tr>\n",
       "    <tr>\n",
       "      <th>4</th>\n",
       "      <td>simminu</td>\n",
       "      <td>2021-10-05T07:44:54Z</td>\n",
       "    </tr>\n",
       "    <tr>\n",
       "      <th>5</th>\n",
       "      <td>simminu</td>\n",
       "      <td>2021-10-01T12:06:38Z</td>\n",
       "    </tr>\n",
       "    <tr>\n",
       "      <th>6</th>\n",
       "      <td>simminu</td>\n",
       "      <td>2021-09-23T06:03:48Z</td>\n",
       "    </tr>\n",
       "    <tr>\n",
       "      <th>7</th>\n",
       "      <td>simminu</td>\n",
       "      <td>2021-09-22T17:50:25Z</td>\n",
       "    </tr>\n",
       "    <tr>\n",
       "      <th>8</th>\n",
       "      <td>simminu</td>\n",
       "      <td>2021-09-22T17:48:44Z</td>\n",
       "    </tr>\n",
       "    <tr>\n",
       "      <th>9</th>\n",
       "      <td>simminu</td>\n",
       "      <td>2021-09-22T17:46:13Z</td>\n",
       "    </tr>\n",
       "    <tr>\n",
       "      <th>10</th>\n",
       "      <td>simminu</td>\n",
       "      <td>2021-09-22T17:45:31Z</td>\n",
       "    </tr>\n",
       "    <tr>\n",
       "      <th>11</th>\n",
       "      <td>simminu</td>\n",
       "      <td>2021-09-22T13:28:57Z</td>\n",
       "    </tr>\n",
       "    <tr>\n",
       "      <th>12</th>\n",
       "      <td>simminu</td>\n",
       "      <td>2021-08-12T02:51:53Z</td>\n",
       "    </tr>\n",
       "    <tr>\n",
       "      <th>13</th>\n",
       "      <td>simminu</td>\n",
       "      <td>2021-08-12T02:51:38Z</td>\n",
       "    </tr>\n",
       "    <tr>\n",
       "      <th>14</th>\n",
       "      <td>simminu</td>\n",
       "      <td>2021-08-12T02:44:58Z</td>\n",
       "    </tr>\n",
       "    <tr>\n",
       "      <th>15</th>\n",
       "      <td>simminu</td>\n",
       "      <td>2021-08-12T02:43:51Z</td>\n",
       "    </tr>\n",
       "    <tr>\n",
       "      <th>16</th>\n",
       "      <td>simminu</td>\n",
       "      <td>2021-08-12T02:43:02Z</td>\n",
       "    </tr>\n",
       "  </tbody>\n",
       "</table>\n",
       "</div>"
      ],
      "text/plain": [
       "   commit_author           commit_date\n",
       "0        simminu  2021-10-05T08:02:27Z\n",
       "1        simminu  2021-10-05T08:02:05Z\n",
       "2        simminu  2021-10-05T07:57:46Z\n",
       "3        simminu  2021-10-05T07:51:17Z\n",
       "4        simminu  2021-10-05T07:44:54Z\n",
       "5        simminu  2021-10-01T12:06:38Z\n",
       "6        simminu  2021-09-23T06:03:48Z\n",
       "7        simminu  2021-09-22T17:50:25Z\n",
       "8        simminu  2021-09-22T17:48:44Z\n",
       "9        simminu  2021-09-22T17:46:13Z\n",
       "10       simminu  2021-09-22T17:45:31Z\n",
       "11       simminu  2021-09-22T13:28:57Z\n",
       "12       simminu  2021-08-12T02:51:53Z\n",
       "13       simminu  2021-08-12T02:51:38Z\n",
       "14       simminu  2021-08-12T02:44:58Z\n",
       "15       simminu  2021-08-12T02:43:51Z\n",
       "16       simminu  2021-08-12T02:43:02Z"
      ]
     },
     "execution_count": 5,
     "metadata": {},
     "output_type": "execute_result"
    }
   ],
   "source": [
    "\n",
    "filename=BASE_DIR+\"/\"+folder+\"/\"+all_repos[0]+\".csv\"\n",
    "df = pd.read_csv(filename)\n",
    "\n",
    "df = df.drop(df.columns[0], axis=1)\n",
    "df\n"
   ]
  },
  {
   "cell_type": "code",
   "execution_count": 6,
   "id": "424a5102",
   "metadata": {},
   "outputs": [],
   "source": [
    "from os.path import exists\n",
    "\n",
    "for repo in all_repos[1:]:\n",
    "    filename=BASE_DIR+\"/\"+folder+\"/\"+repo+\".csv\"\n",
    "    if exists(filename):\n",
    "        tmp_df = pd.read_csv(filename)\n",
    "        tmp_df = tmp_df.drop(tmp_df.columns[0], axis=1)\n",
    "        df = pd.concat([df,tmp_df] )\n",
    "\n"
   ]
  },
  {
   "cell_type": "code",
   "execution_count": 7,
   "id": "c0ea9793",
   "metadata": {},
   "outputs": [],
   "source": [
    "df[\"commit_date\"] = pd.to_datetime(df[\"commit_date\"]) "
   ]
  },
  {
   "cell_type": "code",
   "execution_count": 8,
   "id": "ba34e33b",
   "metadata": {},
   "outputs": [
    {
     "data": {
      "text/html": [
       "<div>\n",
       "<style scoped>\n",
       "    .dataframe tbody tr th:only-of-type {\n",
       "        vertical-align: middle;\n",
       "    }\n",
       "\n",
       "    .dataframe tbody tr th {\n",
       "        vertical-align: top;\n",
       "    }\n",
       "\n",
       "    .dataframe thead th {\n",
       "        text-align: right;\n",
       "    }\n",
       "</style>\n",
       "<table border=\"1\" class=\"dataframe\">\n",
       "  <thead>\n",
       "    <tr style=\"text-align: right;\">\n",
       "      <th></th>\n",
       "      <th>commits</th>\n",
       "    </tr>\n",
       "    <tr>\n",
       "      <th>commit_date</th>\n",
       "      <th></th>\n",
       "    </tr>\n",
       "  </thead>\n",
       "  <tbody>\n",
       "    <tr>\n",
       "      <th>2021-10-05 08:02:27+00:00</th>\n",
       "      <td>simminu</td>\n",
       "    </tr>\n",
       "    <tr>\n",
       "      <th>2021-10-05 08:02:05+00:00</th>\n",
       "      <td>simminu</td>\n",
       "    </tr>\n",
       "    <tr>\n",
       "      <th>2021-10-05 07:57:46+00:00</th>\n",
       "      <td>simminu</td>\n",
       "    </tr>\n",
       "    <tr>\n",
       "      <th>2021-10-05 07:51:17+00:00</th>\n",
       "      <td>simminu</td>\n",
       "    </tr>\n",
       "    <tr>\n",
       "      <th>2021-10-05 07:44:54+00:00</th>\n",
       "      <td>simminu</td>\n",
       "    </tr>\n",
       "  </tbody>\n",
       "</table>\n",
       "</div>"
      ],
      "text/plain": [
       "                           commits\n",
       "commit_date                       \n",
       "2021-10-05 08:02:27+00:00  simminu\n",
       "2021-10-05 08:02:05+00:00  simminu\n",
       "2021-10-05 07:57:46+00:00  simminu\n",
       "2021-10-05 07:51:17+00:00  simminu\n",
       "2021-10-05 07:44:54+00:00  simminu"
      ]
     },
     "execution_count": 8,
     "metadata": {},
     "output_type": "execute_result"
    }
   ],
   "source": [
    "df = df.set_index(\"commit_date\")\n",
    "df = df.rename(columns={\"commit_author\":\"commits\"})\n",
    "df.head()"
   ]
  },
  {
   "cell_type": "code",
   "execution_count": 9,
   "id": "57ce1c16",
   "metadata": {},
   "outputs": [
    {
     "data": {
      "image/png": "[encoded data removed]",
      "text/plain": [
       "<Figure size 1332x756 with 1 Axes>"
      ]
     },
     "metadata": {
      "needs_background": "light"
     },
     "output_type": "display_data"
    }
   ],
   "source": [
    "import matplotlib.pyplot as plt\n",
    "from datetime import datetime\n",
    "\n",
    "resampled = df.resample(\"MS\").count()\n",
    "\n",
    "\n",
    "ax = resampled.plot(kind=\"bar\")\n",
    "locs, labels=plt.xticks()\n",
    "\n",
    "ax.set_xticks(locs,[datetime.strftime(x,\"%Y-%m\") for x in list(resampled.index)])\n",
    "\n",
    "fig = plt.gcf()\n",
    "fig.set_size_inches(18.5, 10.5)\n",
    "plt.show()"
   ]
  }
 ],
 "metadata": {
  "kernelspec": {
   "display_name": "Python 3 (ipykernel)",
   "language": "python",
   "name": "python3"
  },
  "language_info": {
   "codemirror_mode": {
    "name": "ipython",
    "version": 3
   },
   "file_extension": ".py",
   "mimetype": "text/x-python",
   "name": "python",
   "nbconvert_exporter": "python",
   "pygments_lexer": "ipython3",
   "version": "3.8.12"
  }
 },
 "nbformat": 4,
 "nbformat_minor": 5
}
