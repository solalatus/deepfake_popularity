{
 "cells": [
  {
   "cell_type": "code",
   "execution_count": 1,
   "id": "9bfc41ea",
   "metadata": {},
   "outputs": [],
   "source": [
    "import pandas as pd"
   ]
  },
  {
   "cell_type": "code",
   "execution_count": 2,
   "id": "3440fb85",
   "metadata": {},
   "outputs": [
    {
     "data": {
      "text/html": [
       "<div>\n",
       "<style scoped>\n",
       "    .dataframe tbody tr th:only-of-type {\n",
       "        vertical-align: middle;\n",
       "    }\n",
       "\n",
       "    .dataframe tbody tr th {\n",
       "        vertical-align: top;\n",
       "    }\n",
       "\n",
       "    .dataframe thead th {\n",
       "        text-align: right;\n",
       "    }\n",
       "</style>\n",
       "<table border=\"1\" class=\"dataframe\">\n",
       "  <thead>\n",
       "    <tr style=\"text-align: right;\">\n",
       "      <th></th>\n",
       "      <th>month</th>\n",
       "      <th>search_freq</th>\n",
       "    </tr>\n",
       "  </thead>\n",
       "  <tbody>\n",
       "    <tr>\n",
       "      <th>0</th>\n",
       "      <td>2004-01-01</td>\n",
       "      <td>0</td>\n",
       "    </tr>\n",
       "    <tr>\n",
       "      <th>1</th>\n",
       "      <td>2004-02-01</td>\n",
       "      <td>0</td>\n",
       "    </tr>\n",
       "    <tr>\n",
       "      <th>2</th>\n",
       "      <td>2004-03-01</td>\n",
       "      <td>0</td>\n",
       "    </tr>\n",
       "    <tr>\n",
       "      <th>3</th>\n",
       "      <td>2004-04-01</td>\n",
       "      <td>0</td>\n",
       "    </tr>\n",
       "    <tr>\n",
       "      <th>4</th>\n",
       "      <td>2004-05-01</td>\n",
       "      <td>0</td>\n",
       "    </tr>\n",
       "    <tr>\n",
       "      <th>...</th>\n",
       "      <td>...</td>\n",
       "      <td>...</td>\n",
       "    </tr>\n",
       "    <tr>\n",
       "      <th>220</th>\n",
       "      <td>2022-05-01</td>\n",
       "      <td>82</td>\n",
       "    </tr>\n",
       "    <tr>\n",
       "      <th>221</th>\n",
       "      <td>2022-06-01</td>\n",
       "      <td>78</td>\n",
       "    </tr>\n",
       "    <tr>\n",
       "      <th>222</th>\n",
       "      <td>2022-07-01</td>\n",
       "      <td>77</td>\n",
       "    </tr>\n",
       "    <tr>\n",
       "      <th>223</th>\n",
       "      <td>2022-08-01</td>\n",
       "      <td>77</td>\n",
       "    </tr>\n",
       "    <tr>\n",
       "      <th>224</th>\n",
       "      <td>2022-09-01</td>\n",
       "      <td>73</td>\n",
       "    </tr>\n",
       "  </tbody>\n",
       "</table>\n",
       "<p>225 rows × 2 columns</p>\n",
       "</div>"
      ],
      "text/plain": [
       "          month  search_freq\n",
       "0    2004-01-01            0\n",
       "1    2004-02-01            0\n",
       "2    2004-03-01            0\n",
       "3    2004-04-01            0\n",
       "4    2004-05-01            0\n",
       "..          ...          ...\n",
       "220  2022-05-01           82\n",
       "221  2022-06-01           78\n",
       "222  2022-07-01           77\n",
       "223  2022-08-01           77\n",
       "224  2022-09-01           73\n",
       "\n",
       "[225 rows x 2 columns]"
      ]
     },
     "execution_count": 2,
     "metadata": {},
     "output_type": "execute_result"
    }
   ],
   "source": [
    "df = pd.read_csv(\"google_trends.csv\")\n",
    "df"
   ]
  },
  {
   "cell_type": "code",
   "execution_count": 3,
   "id": "7200664e",
   "metadata": {},
   "outputs": [],
   "source": [
    "df[\"search_freq\"] = df.search_freq.astype(float)"
   ]
  },
  {
   "cell_type": "code",
   "execution_count": 4,
   "id": "06fa48ba",
   "metadata": {},
   "outputs": [],
   "source": [
    "df[\"month\"] = pd.to_datetime(df[\"month\"])"
   ]
  },
  {
   "cell_type": "code",
   "execution_count": 5,
   "id": "01bdde61",
   "metadata": {},
   "outputs": [],
   "source": [
    "df.set_index(\"month\", inplace=True)"
   ]
  },
  {
   "cell_type": "code",
   "execution_count": 36,
   "id": "5d71d1f5",
   "metadata": {},
   "outputs": [
    {
     "data": {
      "text/plain": [
       "[[[numpy.datetime64('2018-02-01T00:00:00.000000000'), 49.0],\n",
       "  [numpy.datetime64('2019-01-01T00:00:00.000000000'), 28.0],\n",
       "  [numpy.datetime64('2019-10-01T00:00:00.000000000'), 59.0],\n",
       "  [numpy.datetime64('2020-08-01T00:00:00.000000000'), 71.0],\n",
       "  [numpy.datetime64('2021-03-01T00:00:00.000000000'), 100.0],\n",
       "  [numpy.datetime64('2021-11-01T00:00:00.000000000'), 78.0],\n",
       "  [numpy.datetime64('2022-05-01T00:00:00.000000000'), 82.0]],\n",
       " [[numpy.datetime64('2005-08-01T00:00:00.000000000'), 0.0],\n",
       "  [numpy.datetime64('2018-06-01T00:00:00.000000000'), 15.0],\n",
       "  [numpy.datetime64('2019-04-01T00:00:00.000000000'), 20.0],\n",
       "  [numpy.datetime64('2020-03-01T00:00:00.000000000'), 39.0],\n",
       "  [numpy.datetime64('2020-11-01T00:00:00.000000000'), 63.0],\n",
       "  [numpy.datetime64('2021-06-01T00:00:00.000000000'), 66.0],\n",
       "  [numpy.datetime64('2022-03-01T00:00:00.000000000'), 71.0]]]"
      ]
     },
     "execution_count": 36,
     "metadata": {},
     "output_type": "execute_result"
    }
   ],
   "source": [
    "import peakdetect\n",
    "\n",
    "google_peaks = peakdetect.peakdetect(df.search_freq.values, df.index, lookahead=3)#, delta=4)\n",
    "google_peaks"
   ]
  },
  {
   "cell_type": "code",
   "execution_count": null,
   "id": "8e1b9f99",
   "metadata": {},
   "outputs": [],
   "source": []
  },
  {
   "cell_type": "code",
   "execution_count": 37,
   "id": "abc259e2",
   "metadata": {
    "scrolled": true
   },
   "outputs": [
    {
     "data": {
      "image/png": "[encoded data removed]",
      "text/plain": [
       "<Figure size 720x432 with 1 Axes>"
      ]
     },
     "metadata": {
      "needs_background": "light"
     },
     "output_type": "display_data"
    }
   ],
   "source": [
    "import matplotlib.pyplot as plt\n",
    "\n",
    "ax = df[df.index>\"2017\"].plot()\n",
    "\n",
    "for peak in google_peaks[0]:\n",
    "    ax.annotate(\"*\"+str(peak[0])[:7],xy=(peak[0],peak[1]), fontsize=12, color=\"red\")\n",
    "\n",
    "ax.set_title(\"Worldwide Google search frequency for the term deepfake\")\n",
    "ax.legend([\"Search frequency\"], loc='upper left')\n",
    "ax.set_xlabel(\"Time\")\n",
    "ax.set_ylabel(\"Interest over time - % of maximum\")\n",
    "plt.gcf().set_size_inches(10, 6)\n",
    "plt.show()"
   ]
  },
  {
   "cell_type": "markdown",
   "id": "27924325",
   "metadata": {},
   "source": [
    "2018-02-01 https://variety.com/2018/digital/news/reddit-twitter-deepfake-ban-1202690627/\n",
    "\n",
    "2019-01-01\n",
    "\n",
    "2019-10-01 https://ai.facebook.com/blog/deepfake-detection-challenge/\n",
    "\n",
    "2020-08-01 https://www.cnet.com/science/mit-releases-deepfake-video-of-nixon-announcing-nasa-apollo-11-disaster/\n",
    "           https://www.theverge.com/2020/7/27/21339898/deepfake-audio-voice-clone-scam-attempt-nisos\n",
    "           \n",
    "2021-03-01 https://edition.cnn.com/videos/business/2021/03/02/tom-cruise-tiktok-deepfake-orig.cnn-business\n",
    "           https://www.nytimes.com/2021/03/14/us/raffaela-spone-victory-vipers-deepfake.html\n",
    "\n",
    "2021-11-01\n",
    "\n",
    "2022-05-01"
   ]
  },
  {
   "cell_type": "code",
   "execution_count": null,
   "id": "c018013e",
   "metadata": {},
   "outputs": [],
   "source": [
    "df[df.index.year >= 2018]"
   ]
  },
  {
   "cell_type": "code",
   "execution_count": null,
   "id": "10d2e870",
   "metadata": {},
   "outputs": [],
   "source": [
    "from statsmodels.tsa.holtwinters import ExponentialSmoothing\n",
    "\n",
    "model = ExponentialSmoothing(df[df.index.year >= 2018].search_freq).fit()\n",
    "forecast = model.forecast(10)\n",
    "forecast"
   ]
  },
  {
   "cell_type": "code",
   "execution_count": null,
   "id": "e1138371",
   "metadata": {},
   "outputs": [],
   "source": [
    "from statsmodels.tsa.arima.model import ARIMA\n",
    "\n",
    "model = ARIMA(df[df.index.year >= 2018].search_freq, order=(12,1,1)).fit()\n",
    "forecast = model.forecast(24)\n",
    "forecast.plot()"
   ]
  },
  {
   "cell_type": "code",
   "execution_count": null,
   "id": "f0d346b8",
   "metadata": {},
   "outputs": [],
   "source": [
    "#!pip install pmdarima\n",
    "from pmdarima.arima import auto_arima\n",
    "import matplotlib.pyplot as plt\n",
    "\n",
    "model = auto_arima(df[df.index.year >= 2018], start_p=0, start_q=0)\n",
    "#model.fit(df)\n",
    "\n",
    "def forecast_to_df(model, steps=32):\n",
    "    forecast, conf_int = model.predict(n_periods=steps, return_conf_int=True)\n",
    "    pred_df=pd.DataFrame()\n",
    "    pred_df[\"lower\"] = conf_int[:,0]\n",
    "    pred_df[\"upper\"] = conf_int[:,1]\n",
    "    pred_df[\"pred\"] = forecast.values\n",
    "    return pred_df\n",
    "\n",
    "pred_df = forecast_to_df(model)\n",
    "\n",
    "print(model)\n",
    "\n",
    "# Plotting Predictions\n",
    "def plot_train_test_pred(train,test,pred_df):\n",
    "    fig,ax = plt.subplots(figsize=(12,7))\n",
    "    kws = dict(marker='o')\n",
    "    \n",
    "    ax.plot(train,label='Train',**kws)\n",
    "    #ax.plot(test,label='Test',**kws)\n",
    "    ax.plot(pred_df['pred'],label='Prediction',ls='--',linewidth=3)\n",
    "\n",
    "    ax.fill_between(x=pred_df.index,y1=pred_df['lower'],y2=pred_df['upper'],alpha=0.3)\n",
    "    ax.set_title('Model Validation', fontsize=22)\n",
    "    ax.legend(loc='upper left')\n",
    "    fig.tight_layout()\n",
    "    return fig,ax\n",
    "\n",
    "#plot_train_test_pred(df, None, pred_df)\n",
    "\n",
    "pred_df.pred.plot()"
   ]
  },
  {
   "cell_type": "code",
   "execution_count": null,
   "id": "40b0057c",
   "metadata": {},
   "outputs": [],
   "source": [
    "df.diff(1).plot()"
   ]
  },
  {
   "cell_type": "code",
   "execution_count": null,
   "id": "e091d0b4",
   "metadata": {},
   "outputs": [],
   "source": [
    "df.plot()"
   ]
  },
  {
   "cell_type": "code",
   "execution_count": null,
   "id": "0f70fc05",
   "metadata": {},
   "outputs": [],
   "source": [
    "df.describe()"
   ]
  },
  {
   "cell_type": "code",
   "execution_count": null,
   "id": "205be613",
   "metadata": {},
   "outputs": [],
   "source": []
  }
 ],
 "metadata": {
  "kernelspec": {
   "display_name": "Python 3 (ipykernel)",
   "language": "python",
   "name": "python3"
  },
  "language_info": {
   "codemirror_mode": {
    "name": "ipython",
    "version": 3
   },
   "file_extension": ".py",
   "mimetype": "text/x-python",
   "name": "python",
   "nbconvert_exporter": "python",
   "pygments_lexer": "ipython3",
   "version": "3.8.12"
  }
 },
 "nbformat": 4,
 "nbformat_minor": 5
}
