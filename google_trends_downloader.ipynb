{
 "cells": [
  {
   "cell_type": "code",
   "execution_count": 1,
   "id": "e98dd3e5",
   "metadata": {},
   "outputs": [
    {
     "name": "stdout",
     "output_type": "stream",
     "text": [
      "Requirement already satisfied: pytrends in /home/alatus/anaconda3/envs/10_days_AI/lib/python3.8/site-packages (4.8.0)\n",
      "Requirement already satisfied: lxml in /home/alatus/anaconda3/envs/10_days_AI/lib/python3.8/site-packages (from pytrends) (4.8.0)\n",
      "Requirement already satisfied: requests>=2.0 in /home/alatus/anaconda3/envs/10_days_AI/lib/python3.8/site-packages (from pytrends) (2.26.0)\n",
      "Requirement already satisfied: pandas>=0.25 in /home/alatus/anaconda3/envs/10_days_AI/lib/python3.8/site-packages (from pytrends) (1.3.4)\n",
      "Requirement already satisfied: python-dateutil>=2.7.3 in /home/alatus/anaconda3/envs/10_days_AI/lib/python3.8/site-packages (from pandas>=0.25->pytrends) (2.8.2)\n",
      "Requirement already satisfied: pytz>=2017.3 in /home/alatus/anaconda3/envs/10_days_AI/lib/python3.8/site-packages (from pandas>=0.25->pytrends) (2021.3)\n",
      "Requirement already satisfied: numpy>=1.17.3 in /home/alatus/anaconda3/envs/10_days_AI/lib/python3.8/site-packages (from pandas>=0.25->pytrends) (1.21.2)\n",
      "Requirement already satisfied: six>=1.5 in /home/alatus/anaconda3/envs/10_days_AI/lib/python3.8/site-packages (from python-dateutil>=2.7.3->pandas>=0.25->pytrends) (1.16.0)\n",
      "Requirement already satisfied: charset-normalizer~=2.0.0 in /home/alatus/anaconda3/envs/10_days_AI/lib/python3.8/site-packages (from requests>=2.0->pytrends) (2.0.4)\n",
      "Requirement already satisfied: certifi>=2017.4.17 in /home/alatus/anaconda3/envs/10_days_AI/lib/python3.8/site-packages (from requests>=2.0->pytrends) (2021.10.8)\n",
      "Requirement already satisfied: urllib3<1.27,>=1.21.1 in /home/alatus/anaconda3/envs/10_days_AI/lib/python3.8/site-packages (from requests>=2.0->pytrends) (1.26.7)\n",
      "Requirement already satisfied: idna<4,>=2.5 in /home/alatus/anaconda3/envs/10_days_AI/lib/python3.8/site-packages (from requests>=2.0->pytrends) (3.3)\n"
     ]
    }
   ],
   "source": [
    "!pip install pytrends"
   ]
  },
  {
   "cell_type": "code",
   "execution_count": 2,
   "id": "7d3db4db",
   "metadata": {},
   "outputs": [],
   "source": [
    "from pytrends.request import TrendReq\n",
    "\n",
    "pytrends = TrendReq(hl='en-US', tz=0)"
   ]
  },
  {
   "cell_type": "code",
   "execution_count": 3,
   "id": "04af8968",
   "metadata": {},
   "outputs": [],
   "source": [
    "keyword_list = [\"deepfake\"]\n",
    "pytrends.build_payload(keyword_list, cat=0, timeframe='all', geo='', gprop='')"
   ]
  },
  {
   "cell_type": "code",
   "execution_count": 4,
   "id": "777fa8fe",
   "metadata": {},
   "outputs": [],
   "source": [
    "result_df = pytrends.interest_over_time()"
   ]
  },
  {
   "cell_type": "code",
   "execution_count": 5,
   "id": "f52631fa",
   "metadata": {},
   "outputs": [
    {
     "data": {
      "text/html": [
       "<div>\n",
       "<style scoped>\n",
       "    .dataframe tbody tr th:only-of-type {\n",
       "        vertical-align: middle;\n",
       "    }\n",
       "\n",
       "    .dataframe tbody tr th {\n",
       "        vertical-align: top;\n",
       "    }\n",
       "\n",
       "    .dataframe thead th {\n",
       "        text-align: right;\n",
       "    }\n",
       "</style>\n",
       "<table border=\"1\" class=\"dataframe\">\n",
       "  <thead>\n",
       "    <tr style=\"text-align: right;\">\n",
       "      <th></th>\n",
       "      <th>deepfake</th>\n",
       "      <th>isPartial</th>\n",
       "    </tr>\n",
       "    <tr>\n",
       "      <th>date</th>\n",
       "      <th></th>\n",
       "      <th></th>\n",
       "    </tr>\n",
       "  </thead>\n",
       "  <tbody>\n",
       "    <tr>\n",
       "      <th>2004-01-01</th>\n",
       "      <td>0</td>\n",
       "      <td>False</td>\n",
       "    </tr>\n",
       "    <tr>\n",
       "      <th>2004-02-01</th>\n",
       "      <td>0</td>\n",
       "      <td>False</td>\n",
       "    </tr>\n",
       "    <tr>\n",
       "      <th>2004-03-01</th>\n",
       "      <td>0</td>\n",
       "      <td>False</td>\n",
       "    </tr>\n",
       "    <tr>\n",
       "      <th>2004-04-01</th>\n",
       "      <td>0</td>\n",
       "      <td>False</td>\n",
       "    </tr>\n",
       "    <tr>\n",
       "      <th>2004-05-01</th>\n",
       "      <td>0</td>\n",
       "      <td>False</td>\n",
       "    </tr>\n",
       "    <tr>\n",
       "      <th>...</th>\n",
       "      <td>...</td>\n",
       "      <td>...</td>\n",
       "    </tr>\n",
       "    <tr>\n",
       "      <th>2022-05-01</th>\n",
       "      <td>82</td>\n",
       "      <td>False</td>\n",
       "    </tr>\n",
       "    <tr>\n",
       "      <th>2022-06-01</th>\n",
       "      <td>78</td>\n",
       "      <td>False</td>\n",
       "    </tr>\n",
       "    <tr>\n",
       "      <th>2022-07-01</th>\n",
       "      <td>77</td>\n",
       "      <td>False</td>\n",
       "    </tr>\n",
       "    <tr>\n",
       "      <th>2022-08-01</th>\n",
       "      <td>77</td>\n",
       "      <td>False</td>\n",
       "    </tr>\n",
       "    <tr>\n",
       "      <th>2022-09-01</th>\n",
       "      <td>73</td>\n",
       "      <td>True</td>\n",
       "    </tr>\n",
       "  </tbody>\n",
       "</table>\n",
       "<p>225 rows × 2 columns</p>\n",
       "</div>"
      ],
      "text/plain": [
       "            deepfake  isPartial\n",
       "date                           \n",
       "2004-01-01         0      False\n",
       "2004-02-01         0      False\n",
       "2004-03-01         0      False\n",
       "2004-04-01         0      False\n",
       "2004-05-01         0      False\n",
       "...              ...        ...\n",
       "2022-05-01        82      False\n",
       "2022-06-01        78      False\n",
       "2022-07-01        77      False\n",
       "2022-08-01        77      False\n",
       "2022-09-01        73       True\n",
       "\n",
       "[225 rows x 2 columns]"
      ]
     },
     "execution_count": 5,
     "metadata": {},
     "output_type": "execute_result"
    }
   ],
   "source": [
    "result_df"
   ]
  },
  {
   "cell_type": "code",
   "execution_count": 6,
   "id": "0b758181",
   "metadata": {},
   "outputs": [],
   "source": [
    "result_df=result_df.drop(columns=[\"isPartial\"])"
   ]
  },
  {
   "cell_type": "code",
   "execution_count": 7,
   "id": "46f947f8",
   "metadata": {},
   "outputs": [],
   "source": [
    "result_df.columns = [\"search_freq\"]\n",
    "result_df.index.names = ['month']"
   ]
  },
  {
   "cell_type": "code",
   "execution_count": 10,
   "id": "a31c56c1",
   "metadata": {},
   "outputs": [
    {
     "data": {
      "text/html": [
       "<div>\n",
       "<style scoped>\n",
       "    .dataframe tbody tr th:only-of-type {\n",
       "        vertical-align: middle;\n",
       "    }\n",
       "\n",
       "    .dataframe tbody tr th {\n",
       "        vertical-align: top;\n",
       "    }\n",
       "\n",
       "    .dataframe thead th {\n",
       "        text-align: right;\n",
       "    }\n",
       "</style>\n",
       "<table border=\"1\" class=\"dataframe\">\n",
       "  <thead>\n",
       "    <tr style=\"text-align: right;\">\n",
       "      <th></th>\n",
       "      <th>search_freq</th>\n",
       "    </tr>\n",
       "    <tr>\n",
       "      <th>month</th>\n",
       "      <th></th>\n",
       "    </tr>\n",
       "  </thead>\n",
       "  <tbody>\n",
       "    <tr>\n",
       "      <th>2004-01-01</th>\n",
       "      <td>0</td>\n",
       "    </tr>\n",
       "    <tr>\n",
       "      <th>2004-02-01</th>\n",
       "      <td>0</td>\n",
       "    </tr>\n",
       "    <tr>\n",
       "      <th>2004-03-01</th>\n",
       "      <td>0</td>\n",
       "    </tr>\n",
       "    <tr>\n",
       "      <th>2004-04-01</th>\n",
       "      <td>0</td>\n",
       "    </tr>\n",
       "    <tr>\n",
       "      <th>2004-05-01</th>\n",
       "      <td>0</td>\n",
       "    </tr>\n",
       "    <tr>\n",
       "      <th>...</th>\n",
       "      <td>...</td>\n",
       "    </tr>\n",
       "    <tr>\n",
       "      <th>2022-05-01</th>\n",
       "      <td>82</td>\n",
       "    </tr>\n",
       "    <tr>\n",
       "      <th>2022-06-01</th>\n",
       "      <td>78</td>\n",
       "    </tr>\n",
       "    <tr>\n",
       "      <th>2022-07-01</th>\n",
       "      <td>77</td>\n",
       "    </tr>\n",
       "    <tr>\n",
       "      <th>2022-08-01</th>\n",
       "      <td>77</td>\n",
       "    </tr>\n",
       "    <tr>\n",
       "      <th>2022-09-01</th>\n",
       "      <td>73</td>\n",
       "    </tr>\n",
       "  </tbody>\n",
       "</table>\n",
       "<p>225 rows × 1 columns</p>\n",
       "</div>"
      ],
      "text/plain": [
       "            search_freq\n",
       "month                  \n",
       "2004-01-01            0\n",
       "2004-02-01            0\n",
       "2004-03-01            0\n",
       "2004-04-01            0\n",
       "2004-05-01            0\n",
       "...                 ...\n",
       "2022-05-01           82\n",
       "2022-06-01           78\n",
       "2022-07-01           77\n",
       "2022-08-01           77\n",
       "2022-09-01           73\n",
       "\n",
       "[225 rows x 1 columns]"
      ]
     },
     "execution_count": 10,
     "metadata": {},
     "output_type": "execute_result"
    }
   ],
   "source": [
    "result_df"
   ]
  },
  {
   "cell_type": "code",
   "execution_count": 8,
   "id": "808f6bfd",
   "metadata": {},
   "outputs": [
    {
     "data": {
      "text/plain": [
       "<AxesSubplot:xlabel='month'>"
      ]
     },
     "execution_count": 8,
     "metadata": {},
     "output_type": "execute_result"
    },
    {
     "data": {
      "image/png": "[encoded data removed]",
      "text/plain": [
       "<Figure size 432x288 with 1 Axes>"
      ]
     },
     "metadata": {
      "needs_background": "light"
     },
     "output_type": "display_data"
    }
   ],
   "source": [
    "result_df.search_freq.plot()"
   ]
  },
  {
   "cell_type": "code",
   "execution_count": 9,
   "id": "0fb1675c",
   "metadata": {},
   "outputs": [],
   "source": [
    "result_df.to_csv(\"google_trends.csv\")"
   ]
  }
 ],
 "metadata": {
  "kernelspec": {
   "display_name": "Python 3 (ipykernel)",
   "language": "python",
   "name": "python3"
  },
  "language_info": {
   "codemirror_mode": {
    "name": "ipython",
    "version": 3
   },
   "file_extension": ".py",
   "mimetype": "text/x-python",
   "name": "python",
   "nbconvert_exporter": "python",
   "pygments_lexer": "ipython3",
   "version": "3.8.12"
  }
 },
 "nbformat": 4,
 "nbformat_minor": 5
}
