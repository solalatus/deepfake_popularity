{
 "cells": [
  {
   "cell_type": "code",
   "execution_count": 1,
   "id": "16b774e8",
   "metadata": {},
   "outputs": [
    {
     "name": "stdout",
     "output_type": "stream",
     "text": [
      "Requirement already satisfied: paperswithcode-client in /home/alatus/anaconda3/envs/10_days_AI/lib/python3.8/site-packages (0.3.1)\n",
      "Requirement already satisfied: typer==0.3.2 in /home/alatus/anaconda3/envs/10_days_AI/lib/python3.8/site-packages (from paperswithcode-client) (0.3.2)\n",
      "Requirement already satisfied: tea-console==0.0.6 in /home/alatus/anaconda3/envs/10_days_AI/lib/python3.8/site-packages (from paperswithcode-client) (0.0.6)\n",
      "Requirement already satisfied: tea-client==0.0.7 in /home/alatus/anaconda3/envs/10_days_AI/lib/python3.8/site-packages (from paperswithcode-client) (0.0.7)\n",
      "Requirement already satisfied: tea~=0.1.2 in /home/alatus/anaconda3/envs/10_days_AI/lib/python3.8/site-packages (from tea-client==0.0.7->paperswithcode-client) (0.1.4)\n",
      "Requirement already satisfied: pydantic~=1.6.1 in /home/alatus/anaconda3/envs/10_days_AI/lib/python3.8/site-packages (from tea-client==0.0.7->paperswithcode-client) (1.6.2)\n",
      "Requirement already satisfied: httpx[http2]~=0.14.2 in /home/alatus/anaconda3/envs/10_days_AI/lib/python3.8/site-packages (from tea-client==0.0.7->paperswithcode-client) (0.14.3)\n",
      "Requirement already satisfied: pytz~=2021.1 in /home/alatus/anaconda3/envs/10_days_AI/lib/python3.8/site-packages (from tea-console==0.0.6->paperswithcode-client) (2021.3)\n",
      "Requirement already satisfied: tzlocal~=2.1 in /home/alatus/anaconda3/envs/10_days_AI/lib/python3.8/site-packages (from tea-console==0.0.6->paperswithcode-client) (2.1)\n",
      "Requirement already satisfied: rich~=9.11.0 in /home/alatus/anaconda3/envs/10_days_AI/lib/python3.8/site-packages (from tea-console==0.0.6->paperswithcode-client) (9.11.1)\n",
      "Requirement already satisfied: click<7.2.0,>=7.1.1 in /home/alatus/anaconda3/envs/10_days_AI/lib/python3.8/site-packages (from typer==0.3.2->paperswithcode-client) (7.1.2)\n",
      "Requirement already satisfied: chardet==3.* in /home/alatus/anaconda3/envs/10_days_AI/lib/python3.8/site-packages (from httpx[http2]~=0.14.2->tea-client==0.0.7->paperswithcode-client) (3.0.4)\n",
      "Requirement already satisfied: rfc3986[idna2008]<2,>=1.3 in /home/alatus/anaconda3/envs/10_days_AI/lib/python3.8/site-packages (from httpx[http2]~=0.14.2->tea-client==0.0.7->paperswithcode-client) (1.5.0)\n",
      "Requirement already satisfied: certifi in /home/alatus/anaconda3/envs/10_days_AI/lib/python3.8/site-packages (from httpx[http2]~=0.14.2->tea-client==0.0.7->paperswithcode-client) (2022.9.14)\n",
      "Requirement already satisfied: httpcore==0.10.* in /home/alatus/anaconda3/envs/10_days_AI/lib/python3.8/site-packages (from httpx[http2]~=0.14.2->tea-client==0.0.7->paperswithcode-client) (0.10.2)\n",
      "Requirement already satisfied: sniffio in /home/alatus/anaconda3/envs/10_days_AI/lib/python3.8/site-packages (from httpx[http2]~=0.14.2->tea-client==0.0.7->paperswithcode-client) (1.3.0)\n",
      "Requirement already satisfied: h2==3.* in /home/alatus/anaconda3/envs/10_days_AI/lib/python3.8/site-packages (from httpx[http2]~=0.14.2->tea-client==0.0.7->paperswithcode-client) (3.2.0)\n",
      "Requirement already satisfied: hpack<4,>=3.0 in /home/alatus/anaconda3/envs/10_days_AI/lib/python3.8/site-packages (from h2==3.*->httpx[http2]~=0.14.2->tea-client==0.0.7->paperswithcode-client) (3.0.0)\n",
      "Requirement already satisfied: hyperframe<6,>=5.2.0 in /home/alatus/anaconda3/envs/10_days_AI/lib/python3.8/site-packages (from h2==3.*->httpx[http2]~=0.14.2->tea-client==0.0.7->paperswithcode-client) (5.2.0)\n",
      "Requirement already satisfied: h11<0.10,>=0.8 in /home/alatus/anaconda3/envs/10_days_AI/lib/python3.8/site-packages (from httpcore==0.10.*->httpx[http2]~=0.14.2->tea-client==0.0.7->paperswithcode-client) (0.9.0)\n",
      "Requirement already satisfied: idna in /home/alatus/anaconda3/envs/10_days_AI/lib/python3.8/site-packages (from rfc3986[idna2008]<2,>=1.3->httpx[http2]~=0.14.2->tea-client==0.0.7->paperswithcode-client) (3.4)\n",
      "Requirement already satisfied: pygments<3.0.0,>=2.6.0 in /home/alatus/anaconda3/envs/10_days_AI/lib/python3.8/site-packages (from rich~=9.11.0->tea-console==0.0.6->paperswithcode-client) (2.10.0)\n",
      "Requirement already satisfied: colorama<0.5.0,>=0.4.0 in /home/alatus/anaconda3/envs/10_days_AI/lib/python3.8/site-packages (from rich~=9.11.0->tea-console==0.0.6->paperswithcode-client) (0.4.5)\n",
      "Requirement already satisfied: typing-extensions<4.0.0,>=3.7.4 in /home/alatus/anaconda3/envs/10_days_AI/lib/python3.8/site-packages (from rich~=9.11.0->tea-console==0.0.6->paperswithcode-client) (3.10.0.2)\n",
      "Requirement already satisfied: commonmark<0.10.0,>=0.9.0 in /home/alatus/anaconda3/envs/10_days_AI/lib/python3.8/site-packages (from rich~=9.11.0->tea-console==0.0.6->paperswithcode-client) (0.9.1)\n",
      "Requirement already satisfied: psutil~=5.8.0 in /home/alatus/anaconda3/envs/10_days_AI/lib/python3.8/site-packages (from tea~=0.1.2->tea-client==0.0.7->paperswithcode-client) (5.8.0)\n"
     ]
    }
   ],
   "source": [
    "!pip install paperswithcode-client"
   ]
  },
  {
   "cell_type": "code",
   "execution_count": 2,
   "id": "0a6a9a87",
   "metadata": {},
   "outputs": [],
   "source": [
    "from paperswithcode import PapersWithCodeClient\n",
    "\n",
    "client = PapersWithCodeClient()\n"
   ]
  },
  {
   "cell_type": "code",
   "execution_count": 3,
   "id": "0c78b66b",
   "metadata": {},
   "outputs": [
    {
     "name": "stdout",
     "output_type": "stream",
     "text": [
      "id='adversarial' name='Adversarial'\n",
      "id='audio' name='Audio'\n",
      "id='computer-code' name='Computer Code'\n",
      "id='computer-vision' name='Computer Vision'\n",
      "id='graphs' name='Graphs'\n",
      "id='knowledge-base' name='Knowledge Base'\n",
      "id='medical' name='Medical'\n",
      "id='methodology' name='Methodology'\n",
      "id='miscellaneous' name='Miscellaneous'\n",
      "id='music' name='Music'\n",
      "id='natural-language-processing' name='Natural Language Processing'\n",
      "id='playing-games' name='Playing Games'\n",
      "id='reasoning' name='Reasoning'\n",
      "id='robots' name='Robots'\n",
      "id='speech' name='Speech'\n",
      "id='time-series' name='Time Series'\n"
     ]
    },
    {
     "data": {
      "text/plain": [
       "'computer-vision'"
      ]
     },
     "execution_count": 3,
     "metadata": {},
     "output_type": "execute_result"
    }
   ],
   "source": [
    "areas_result = client.area_list() \n",
    "areas = areas_result.results\n",
    "for area in areas:\n",
    "    print(area)\n",
    "    \n",
    "target_area = areas[3].id\n",
    "target_area"
   ]
  },
  {
   "cell_type": "code",
   "execution_count": 4,
   "id": "b257732d",
   "metadata": {},
   "outputs": [
    {
     "name": "stdout",
     "output_type": "stream",
     "text": [
      "Total number of tasks: 1036\n"
     ]
    }
   ],
   "source": [
    "task_results = []\n",
    "for i in range(5):\n",
    "    try:\n",
    "        task_results.extend(client.area_task_list(target_area, items_per_page=500, page=i+1).results)\n",
    "    except:\n",
    "        break\n",
    "\n",
    "print(\"Total number of tasks:\",len(task_results))  "
   ]
  },
  {
   "cell_type": "code",
   "execution_count": 5,
   "id": "93c9c002",
   "metadata": {},
   "outputs": [
    {
     "name": "stdout",
     "output_type": "stream",
     "text": [
      "Animated GIF Generation\n",
      "Unconditional Video Generation\n",
      "Text-to-Image Generation\n",
      "User Constrained Thumbnail Generation\n",
      "Video Generation\n",
      "ROI-based image generation\n",
      "Speaker-Specific Lip to Speech Synthesis\n",
      "Pose-Guided Image Generation\n",
      "Conditional Image Generation\n",
      "Lip to Speech Synthesis\n",
      "3D-Aware Image Synthesis\n",
      "Motion Synthesis\n",
      "3D Surface Generation\n",
      "Indoor Scene Synthesis\n",
      "Human action generation\n",
      "Bird View Synthesis\n",
      "Image Generation\n",
      "Text-to-Face Generation\n",
      "Face Generation\n",
      "Chinese Landscape Painting Generation\n",
      "Novel View Synthesis\n",
      "Grasp Generation\n",
      "Point Cloud Generation\n",
      "Layout-to-Image Generation\n",
      "Video-to-Video Synthesis\n",
      "Talking Face Generation\n",
      "3D Shape Generation\n",
      "Video Generation from a Single Image\n",
      "Referring expression generation\n",
      "Texture Synthesis\n",
      "Scene Generation\n",
      "Talking Head Generation\n",
      "Face Sketch Synthesis\n",
      "Action Generation\n",
      "House Generation\n",
      "\n",
      " Total number of tasks: 35\n"
     ]
    }
   ],
   "source": [
    "filtered_tasks = []\n",
    "\n",
    "match_words = [\"generation\", \"synthesis\"]\n",
    "filter_words = [\"fundus\", \"handwritten\", \"handwriting\", \"proposal\", \"graph\", \"Referring\"]\n",
    "\n",
    "for task in task_results:\n",
    "    if any(x in task.id for x in match_words) and all(x not in task.id for x in filter_words):\n",
    "        print(task.name)\n",
    "        filtered_tasks.append(task.id)\n",
    "\n",
    "print(\"\\n Total number of tasks:\", len(filtered_tasks))"
   ]
  },
  {
   "cell_type": "code",
   "execution_count": 6,
   "id": "ee3ae840",
   "metadata": {},
   "outputs": [
    {
     "name": "stdout",
     "output_type": "stream",
     "text": [
      "Working on animated-gif-generation\n",
      "Number of evaluations in this task 0\n",
      "Working on unconditional-video-generation\n",
      "Number of evaluations in this task 1\n",
      "Working on text-to-image-generation\n",
      "Number of evaluations in this task 8\n",
      "Working on user-constrained-thumbnail-generation\n",
      "Number of evaluations in this task 0\n",
      "Working on video-generation\n",
      "Number of evaluations in this task 10\n",
      "Working on roi-based-image-generation\n",
      "Number of evaluations in this task 0\n",
      "Working on speaker-specific-lip-to-speech-synthesis\n",
      "Number of evaluations in this task 7\n",
      "Working on pose-guided-image-generation\n",
      "Number of evaluations in this task 0\n",
      "Working on conditional-image-generation\n",
      "Number of evaluations in this task 9\n",
      "Working on lip-to-speech-synthesis\n",
      "Number of evaluations in this task 1\n",
      "Working on 3d-aware-image-synthesis\n",
      "Number of evaluations in this task 3\n",
      "Working on motion-synthesis\n",
      "Number of evaluations in this task 3\n",
      "Working on 3d-surface-generation\n",
      "Number of evaluations in this task 0\n",
      "Working on indoor-scene-synthesis\n",
      "Number of evaluations in this task 0\n",
      "Working on human-action-generation\n",
      "Number of evaluations in this task 4\n",
      "Working on bird-view-synthesis\n",
      "Number of evaluations in this task 0\n",
      "Working on image-generation\n",
      "Number of evaluations in this task 50\n",
      "Working on text-to-face-generation\n",
      "Number of evaluations in this task 0\n",
      "Working on face-generation\n",
      "Number of evaluations in this task 0\n",
      "Working on chinese-landscape-painting-generation\n",
      "Number of evaluations in this task 0\n",
      "Working on novel-view-synthesis\n",
      "Number of evaluations in this task 15\n",
      "Working on grasp-generation\n",
      "Number of evaluations in this task 0\n",
      "Working on point-cloud-generation\n",
      "Number of evaluations in this task 3\n",
      "Working on layout-to-image-generation\n",
      "Number of evaluations in this task 6\n",
      "Working on video-to-video-synthesis\n",
      "Number of evaluations in this task 2\n",
      "Working on talking-face-generation\n",
      "Number of evaluations in this task 1\n",
      "Working on 3d-shape-generation\n",
      "Number of evaluations in this task 0\n",
      "Working on video-generation-from-a-single-image\n",
      "Number of evaluations in this task 0\n",
      "Working on referring-expression-generation\n",
      "Number of evaluations in this task 0\n",
      "Working on texture-synthesis\n",
      "Number of evaluations in this task 0\n",
      "Working on scene-generation\n",
      "Number of evaluations in this task 3\n",
      "Working on talking-head-generation\n",
      "Number of evaluations in this task 7\n",
      "Working on face-sketch-synthesis\n",
      "Number of evaluations in this task 3\n",
      "Working on action-generation\n",
      "Number of evaluations in this task 0\n",
      "Working on house-generation\n",
      "Number of evaluations in this task 0\n"
     ]
    }
   ],
   "source": [
    "all_evaluation_tables = []\n",
    "\n",
    "for task in filtered_tasks:\n",
    "    print(\"Working on\", task)\n",
    "    evaluation_results = client.task_evaluation_list(task)\n",
    "    print(\"Number of evaluations in this task\", len(evaluation_results.results))\n",
    "    all_evaluation_tables.extend(evaluation_results.results)\n",
    "\n",
    "#all_evaluation_tables"
   ]
  },
  {
   "cell_type": "code",
   "execution_count": 7,
   "id": "75d0c490",
   "metadata": {},
   "outputs": [
    {
     "data": {
      "text/plain": [
       "136"
      ]
     },
     "execution_count": 7,
     "metadata": {},
     "output_type": "execute_result"
    }
   ],
   "source": [
    "len(all_evaluation_tables)"
   ]
  },
  {
   "cell_type": "code",
   "execution_count": 8,
   "id": "bc591931",
   "metadata": {
    "scrolled": true
   },
   "outputs": [
    {
     "name": "stdout",
     "output_type": "stream",
     "text": [
      "unconditional-video-generation-on-celebv-hq\n",
      "text-to-image-generation-on-lhqc\n",
      "text-to-image-generation-on-cub\n",
      "text-to-image-generation-on-oxford-102\n",
      "text-to-image-generation-on-coco-256-x-256\n",
      "text-to-image-generation-on-geneva-i-clevr\n",
      "text-to-image-generation-on-multi-modal\n",
      "text-to-image-generation-on-coco\n",
      "text-to-image-generation-on-geneva-codraw\n",
      "video-generation-on-trailerfaces\n",
      "video-generation-on-100doh\n",
      "video-generation-on-bair-robot-pushing\n",
      "video-generation-on-ucf-101-16-frames\n",
      "video-generation-on-kinetics-600-12-frames\n",
      "video-generation-on-ucf-101-16-frames-128x128\n",
      "video-generation-on-kth\n",
      "video-generation-on-ucf-101-16-frames-64x64\n",
      "video-generation-on-kinetics-600-48-frames\n",
      "video-generation-on-kinetics-600-12-frames-1\n",
      "speaker-specific-lip-to-speech-synthesis-on-1\n",
      "speaker-specific-lip-to-speech-synthesis-on\n",
      "speaker-specific-lip-to-speech-synthesis-on-5\n",
      "speaker-specific-lip-to-speech-synthesis-on-7\n",
      "speaker-specific-lip-to-speech-synthesis-on-6\n",
      "speaker-specific-lip-to-speech-synthesis-on-3\n",
      "speaker-specific-lip-to-speech-synthesis-on-4\n",
      "conditional-image-generation-on-cifar-10\n",
      "conditional-image-generation-on-imagenet64x64\n",
      "conditional-image-generation-on-coco-animals\n",
      "conditional-image-generation-on-imagenet-2\n",
      "conditional-image-generation-on-tiny-imagenet\n",
      "conditional-image-generation-on-imagenet\n",
      "conditional-image-generation-on-artbench-10\n",
      "conditional-image-generation-on-imagenet-1\n",
      "conditional-image-generation-on-cifar-100\n",
      "lip-to-speech-synthesis-on-lrw\n",
      "3d-aware-image-synthesis-on-celebamask-hq\n",
      "3d-aware-image-synthesis-on-ffhq-512-x-512\n",
      "3d-aware-image-synthesis-on-ffhq-256-x-256\n",
      "motion-synthesis-on-lafan1\n",
      "motion-synthesis-on-humanact12\n",
      "motion-synthesis-on-humanml3d\n",
      "human-action-generation-on-human3-6m\n",
      "human-action-generation-on-ntu-rgb-d-2d\n",
      "human-action-generation-on-ntu-rgb-d\n",
      "human-action-generation-on-ntu-rgb-d-120\n",
      "image-generation-on-imagenet-128x128\n",
      "image-generation-on-1078-people-3d-faces\n",
      "image-generation-on-lsun-bedroom-128-x-128\n",
      "image-generation-on-cityscapes-25k-256x512\n",
      "image-generation-on-lsun-horse-256-x-256\n",
      "image-generation-on-celeba-128x128\n",
      "image-generation-on-celeba-128-x-128\n",
      "image-generation-on-celeba-256x256\n",
      "image-generation-on-cat-256x256\n",
      "image-generation-on-imagenet-512x512\n",
      "image-generation-on-100doh\n",
      "image-generation-on-afhq-dog\n",
      "image-generation-on-lsun-churches-256-x-256\n",
      "image-generation-on-ffhq\n",
      "image-generation-on-oxford-102-flowers-1\n",
      "image-generation-on-ffhq-256-x-256\n",
      "image-generation-on-lsun-car-256-x-256\n",
      "image-generation-on-vln-ce\n",
      "image-generation-on-metfaces-u\n",
      "image-generation-on-pokemon-1024x1024\n",
      "image-generation-on-llvip\n",
      "image-generation-on-celeba-hq-64x64\n",
      "image-generation-on-ffhq-1024-x-1024\n",
      "image-generation-on-nasa-perseverance\n",
      "image-generation-on-lsun-bedroom-256-x-256\n",
      "image-generation-on-arkitscenes\n",
      "image-generation-on-imagenet-10-labeled-data\n",
      "image-generation-on-stanford-cars\n",
      "image-generation-on-clevr\n",
      "image-generation-on-satellite-landscapes-256\n",
      "image-generation-on-multi-dsprites\n",
      "image-generation-on-stacked-mnist\n",
      "image-generation-on-cityscapes-5k-256x512\n",
      "image-generation-on-stl-10\n",
      "image-generation-on-ade-indoor\n",
      "image-generation-on-oxford-102-flowers-256-x\n",
      "image-generation-on-vizdoom\n",
      "image-generation-on-objectsroom\n",
      "image-generation-on-imagenet-64x64\n",
      "image-generation-on-binarized-mnist\n",
      "image-generation-on-celeba-hq-256x256\n",
      "image-generation-on-afhqv2\n",
      "image-generation-on-gqn\n",
      "image-generation-on-replica\n",
      "image-generation-on-stanford-dogs\n",
      "image-generation-on-afhq-cat\n",
      "image-generation-on-fashion-mnist\n",
      "image-generation-on-imagenet-256x256\n",
      "image-generation-on-ffhq-u\n",
      "image-generation-on-celeba-hq-1024x1024\n",
      "novel-view-synthesis-on-mip-nerf-360\n",
      "novel-view-synthesis-on-acid\n",
      "novel-view-synthesis-on-10000-people-human\n",
      "novel-view-synthesis-on-kitti\n",
      "novel-view-synthesis-on-rtmv\n",
      "novel-view-synthesis-on-photoshape\n",
      "novel-view-synthesis-on-nerf\n",
      "novel-view-synthesis-on-llff\n",
      "novel-view-synthesis-on-kitti-novel-view\n",
      "novel-view-synthesis-on-sword\n",
      "novel-view-synthesis-on-realestate10k\n",
      "novel-view-synthesis-on-synthia-novel-view\n",
      "novel-view-synthesis-on-shapenet-chair\n",
      "novel-view-synthesis-on-shapenet-car\n",
      "novel-view-synthesis-on-dosovitskiy-chairs\n",
      "point-cloud-generation-on-shapenet-car\n",
      "point-cloud-generation-on-shapenet-chair\n",
      "point-cloud-generation-on-shapenet-airplane\n",
      "layout-to-image-generation-on-visual-genome-2\n",
      "layout-to-image-generation-on-visual-genome-4\n",
      "layout-to-image-generation-on-coco-stuff-4\n",
      "layout-to-image-generation-on-coco-stuff-3\n",
      "layout-to-image-generation-on-visual-genome-3\n",
      "layout-to-image-generation-on-coco-stuff-2\n",
      "video-to-video-synthesis-on-youtube-dancing\n",
      "video-to-video-synthesis-on-street-scene\n",
      "talking-face-generation-on-lrw\n",
      "scene-generation-on-replica\n",
      "scene-generation-on-avd\n",
      "scene-generation-on-vizdoom\n",
      "talking-head-generation-on-100-sleep-nights\n",
      "talking-head-generation-on-voxceleb1-32-shot\n",
      "talking-head-generation-on-voxceleb1-8-shot\n",
      "talking-head-generation-on-voxceleb2-32-shot\n",
      "talking-head-generation-on-voxceleb1-1-shot\n",
      "talking-head-generation-on-voxceleb2-8-shot\n",
      "talking-head-generation-on-voxceleb2-1-shot\n",
      "face-sketch-synthesis-on-cufsf\n",
      "face-sketch-synthesis-on-cufs\n",
      "face-sketch-synthesis-on-cuhk\n"
     ]
    }
   ],
   "source": [
    "for evaluation in all_evaluation_tables:\n",
    "    print(evaluation.id)"
   ]
  },
  {
   "cell_type": "code",
   "execution_count": 9,
   "id": "c2b8672f",
   "metadata": {},
   "outputs": [
    {
     "data": {
      "text/plain": [
       "EvaluationTable(id='unconditional-video-generation-on-celebv-hq', task='unconditional-video-generation', dataset='celebv-hq', description='', mirror_url=None)"
      ]
     },
     "execution_count": 9,
     "metadata": {},
     "output_type": "execute_result"
    }
   ],
   "source": [
    "all_evaluation_tables[0]"
   ]
  },
  {
   "cell_type": "code",
   "execution_count": 10,
   "id": "df7da915",
   "metadata": {},
   "outputs": [
    {
     "data": {
      "text/plain": [
       "[Metric(id='038b5c9a-d884-44c5-b9d8-1168880cf976', name='Inception score', description='', is_loss=False),\n",
       " Metric(id='ef083821-b8c5-4976-81c1-6b77ca26c7fe', name='FID', description='', is_loss=True),\n",
       " Metric(id='00380096-929b-4fba-b4d9-6a1d9535b31d', name='Intra-FID', description='', is_loss=True)]"
      ]
     },
     "execution_count": 10,
     "metadata": {},
     "output_type": "execute_result"
    }
   ],
   "source": [
    "task_evaluation_metrics_list = client.evaluation_metric_list(\"conditional-image-generation-on-cifar-10\").results\n",
    "task_evaluation_metrics_list"
   ]
  },
  {
   "cell_type": "code",
   "execution_count": 11,
   "id": "7636dcf9",
   "metadata": {},
   "outputs": [
    {
     "data": {
      "text/plain": [
       "[Result(id='4026f1aa-3635-4673-87d3-d89fa11ea206', best_rank=1, metrics={'Inception score': '10.51', 'FID': '2.26'}, methodology='StyleGAN2 + DiffAugment + D2D-CE', uses_additional_data=False, paper='rebooting-acgan-auxiliary-classifier-gans', best_metric='Inception score', evaluated_on='2021-11-01', external_source_url=None),\n",
       " Result(id='2a8cd006-b838-4270-84d7-be4e965d66df', best_rank=2, metrics={'Inception score': '10.21', 'FID': '3.6'}, methodology='MIX-MHingeGAN', uses_additional_data=False, paper='lessons-learned-from-the-training-of-gans-on', best_metric='Inception score', evaluated_on='2020-07-13', external_source_url=None),\n",
       " Result(id='276dd021-d5f0-453b-8b99-740866bf2e62', best_rank=2, metrics={'Inception score': '10.14', 'FID': '2.42'}, methodology='StyleGAN2-ADA', uses_additional_data=False, paper='training-generative-adversarial-networks-with-2', best_metric='Inception score', evaluated_on='2020-06-11', external_source_url=None),\n",
       " Result(id='ffe68933-98e3-4363-a37f-b75494c46c52', best_rank=4, metrics={'Inception score': '9.58', 'FID': '7.5'}, methodology='MHingeGAN', uses_additional_data=False, paper='cgans-with-multi-hinge-loss', best_metric='Inception score', evaluated_on='2019-12-09', external_source_url=None),\n",
       " Result(id='5815480c-bee6-4cc9-af41-066e68338e03', best_rank=None, metrics={'Inception score': '9.52', 'FID': '6.89'}, methodology='aw-BigGAN', uses_additional_data=False, paper='adaptive-weighted-discriminator-for-training', best_metric=None, evaluated_on='2020-12-05', external_source_url=None),\n",
       " Result(id='a9eab4cf-bd99-41af-b5e6-195e5cd789d6', best_rank=None, metrics={'Inception score': '9.22', 'FID': '14.73'}, methodology='BigGAN', uses_additional_data=False, paper='large-scale-gan-training-for-high-fidelity', best_metric=None, evaluated_on='2018-09-28', external_source_url=None),\n",
       " Result(id='708de11f-a0a4-498d-8f22-e4d00e60325f', best_rank=None, metrics={'Inception score': '9', 'FID': '8.03'}, methodology='aw-SN-GAN', uses_additional_data=False, paper='adaptive-weighted-discriminator-for-training', best_metric=None, evaluated_on='2020-12-05', external_source_url=None),\n",
       " Result(id='98ec43f5-05af-46c6-bd4c-48a0280fb669', best_rank=8, metrics={'Inception score': '8.87'}, methodology='Splitting GAN', uses_additional_data=False, paper='class-splitting-generative-adversarial', best_metric='Inception score', evaluated_on='2017-09-21', external_source_url=None),\n",
       " Result(id='3c676b46-7aec-4917-b265-8b2c88ac7899', best_rank=None, metrics={'Inception score': '8.67'}, methodology='WGAN-GP', uses_additional_data=False, paper='improved-training-of-wasserstein-gans', best_metric=None, evaluated_on='2017-03-31', external_source_url=None),\n",
       " Result(id='0c8d408b-53b2-47f5-b232-4b12947e0c27', best_rank=10, metrics={'Inception score': '8.62', 'FID': '17.5'}, methodology='Projection Discriminator', uses_additional_data=False, paper='cgans-with-projection-discriminator', best_metric='Inception score', evaluated_on='2018-02-15', external_source_url=None),\n",
       " Result(id='501c2386-1cd9-433d-862f-9c67ce75ed89', best_rank=11, metrics={'Inception score': '8.59'}, methodology='SGAN', uses_additional_data=False, paper='stacked-generative-adversarial-networks', best_metric='Inception score', evaluated_on='2016-12-13', external_source_url=None),\n",
       " Result(id='249cf3f9-56a0-4154-a3ee-2335132edbda', best_rank=None, metrics={'Inception score': '8.50', 'FID': '5.34'}, methodology='FQ-GAN', uses_additional_data=False, paper='feature-quantization-improves-gan-training', best_metric=None, evaluated_on='2020-04-05', external_source_url=None),\n",
       " Result(id='b306257b-c9ec-4332-ac0a-961468249142', best_rank=13, metrics={'Inception score': '8.25'}, methodology='AC-GAN', uses_additional_data=False, paper='conditional-image-synthesis-with-auxiliary', best_metric='Inception score', evaluated_on='2016-10-30', external_source_url=None),\n",
       " Result(id='311cc273-5a32-499c-84fd-1be3776292b1', best_rank=14, metrics={'Inception score': '8.09'}, methodology='Improved GAN', uses_additional_data=False, paper='improved-techniques-for-training-gans', best_metric='Inception score', evaluated_on='2016-06-10', external_source_url=None),\n",
       " Result(id='a5a7433c-8182-4096-bd6e-a1c1559d763e', best_rank=None, metrics={'Inception score': '7.5', 'FID': '36.77'}, methodology='ProdPoly no activation functions', uses_additional_data=False, paper='deep-polynomial-neural-networks', best_metric=None, evaluated_on='2020-06-20', external_source_url=None),\n",
       " Result(id='f16e7285-f39b-49a2-b871-2b90c2ef7ba2', best_rank=None, metrics={'Inception score': '7.17'}, methodology='LR-GAN', uses_additional_data=False, paper='lr-gan-layered-recursive-generative', best_metric=None, evaluated_on='2017-03-05', external_source_url=None),\n",
       " Result(id='80abf9f7-f36d-44fd-b76a-fab3c21f720e', best_rank=17, metrics={'Inception score': '7.07'}, methodology='EGAN-Ent-VI', uses_additional_data=False, paper='calibrating-energy-based-generative', best_metric='Inception score', evaluated_on='2017-02-06', external_source_url=None),\n",
       " Result(id='46ee1f07-1aff-46c1-8011-c5bae8736c0a', best_rank=None, metrics={'Inception score': '6.58'}, methodology='DCGAN', uses_additional_data=False, paper='unsupervised-representation-learning-with-1', best_metric=None, evaluated_on='2015-11-19', external_source_url=None),\n",
       " Result(id='8c98faf7-c187-4c52-932b-380ab02c908d', best_rank=19, metrics={'Inception score': '6.35'}, methodology='SteinGAN', uses_additional_data=False, paper='learning-to-draw-samples-with-application-to', best_metric='Inception score', evaluated_on='2016-11-06', external_source_url=None),\n",
       " Result(id='0c360ac7-a711-4a29-b602-c8a05c46a718', best_rank=None, metrics={'FID': '5.66', 'Intra-FID': '40.45'}, methodology='ADC-GAN', uses_additional_data=False, paper='cgans-with-auxiliary-discriminative', best_metric=None, evaluated_on='2021-07-21', external_source_url=None),\n",
       " Result(id='c61bc1bd-35fb-4cab-90c4-fe7c25a5ef7d', best_rank=None, metrics={'FID': '9.42'}, methodology='NDA', uses_additional_data=False, paper='negative-data-augmentation-1', best_metric=None, evaluated_on='2021-02-09', external_source_url=None),\n",
       " Result(id='65d91066-ec53-4d1f-a6c7-06f9b28e8dd1', best_rank=10, metrics={'FID': '10.30'}, methodology='ContraGAN', uses_additional_data=False, paper='contrastive-generative-adversarial-networks', best_metric='FID', evaluated_on='2020-06-23', external_source_url=None),\n",
       " Result(id='855ea44e-a425-4fa6-86ed-c4d9e3622236', best_rank=None, metrics={'FID': '11.67'}, methodology='CR-BigGAN', uses_additional_data=False, paper='consistency-regularization-for-generative-1', best_metric=None, evaluated_on='2019-10-26', external_source_url=None)]"
      ]
     },
     "execution_count": 11,
     "metadata": {},
     "output_type": "execute_result"
    }
   ],
   "source": [
    "cifar10_results = client.evaluation_result_list(evaluation_id=\"conditional-image-generation-on-cifar-10\").results\n",
    "cifar10_results"
   ]
  },
  {
   "cell_type": "code",
   "execution_count": 12,
   "id": "3c835c6b",
   "metadata": {},
   "outputs": [
    {
     "name": "stdout",
     "output_type": "stream",
     "text": [
      "2021-11-01 2.26\n",
      "2020-07-13 3.6\n",
      "2020-06-11 2.42\n",
      "2019-12-09 7.5\n",
      "2020-12-05 6.89\n",
      "2018-09-28 14.73\n",
      "2020-12-05 8.03\n",
      "2018-02-15 17.5\n",
      "2020-04-05 5.34\n",
      "2020-06-20 36.77\n",
      "2021-07-21 5.66\n",
      "2021-02-09 9.42\n",
      "2020-06-23 10.30\n",
      "2019-10-26 11.67\n"
     ]
    }
   ],
   "source": [
    "dates = []\n",
    "fids = []\n",
    "\n",
    "for result in cifar10_results:\n",
    "    if result.metrics.get(\"FID\"):\n",
    "        print(result.evaluated_on, result.metrics[\"FID\"])\n",
    "        dates.append(result.evaluated_on)\n",
    "        fids.append(result.metrics[\"FID\"])\n"
   ]
  },
  {
   "cell_type": "code",
   "execution_count": 13,
   "id": "4b5a664c",
   "metadata": {},
   "outputs": [
    {
     "data": {
      "text/html": [
       "<div>\n",
       "<style scoped>\n",
       "    .dataframe tbody tr th:only-of-type {\n",
       "        vertical-align: middle;\n",
       "    }\n",
       "\n",
       "    .dataframe tbody tr th {\n",
       "        vertical-align: top;\n",
       "    }\n",
       "\n",
       "    .dataframe thead th {\n",
       "        text-align: right;\n",
       "    }\n",
       "</style>\n",
       "<table border=\"1\" class=\"dataframe\">\n",
       "  <thead>\n",
       "    <tr style=\"text-align: right;\">\n",
       "      <th></th>\n",
       "      <th>fids</th>\n",
       "    </tr>\n",
       "    <tr>\n",
       "      <th>dates</th>\n",
       "      <th></th>\n",
       "    </tr>\n",
       "  </thead>\n",
       "  <tbody>\n",
       "    <tr>\n",
       "      <th>2018-02-15</th>\n",
       "      <td>17.50</td>\n",
       "    </tr>\n",
       "    <tr>\n",
       "      <th>2018-09-28</th>\n",
       "      <td>14.73</td>\n",
       "    </tr>\n",
       "    <tr>\n",
       "      <th>2019-10-26</th>\n",
       "      <td>11.67</td>\n",
       "    </tr>\n",
       "    <tr>\n",
       "      <th>2019-12-09</th>\n",
       "      <td>7.50</td>\n",
       "    </tr>\n",
       "    <tr>\n",
       "      <th>2020-04-05</th>\n",
       "      <td>5.34</td>\n",
       "    </tr>\n",
       "    <tr>\n",
       "      <th>2020-06-11</th>\n",
       "      <td>2.42</td>\n",
       "    </tr>\n",
       "    <tr>\n",
       "      <th>2020-06-20</th>\n",
       "      <td>36.77</td>\n",
       "    </tr>\n",
       "    <tr>\n",
       "      <th>2020-06-23</th>\n",
       "      <td>10.30</td>\n",
       "    </tr>\n",
       "    <tr>\n",
       "      <th>2020-07-13</th>\n",
       "      <td>3.60</td>\n",
       "    </tr>\n",
       "    <tr>\n",
       "      <th>2020-12-05</th>\n",
       "      <td>6.89</td>\n",
       "    </tr>\n",
       "    <tr>\n",
       "      <th>2020-12-05</th>\n",
       "      <td>8.03</td>\n",
       "    </tr>\n",
       "    <tr>\n",
       "      <th>2021-02-09</th>\n",
       "      <td>9.42</td>\n",
       "    </tr>\n",
       "    <tr>\n",
       "      <th>2021-07-21</th>\n",
       "      <td>5.66</td>\n",
       "    </tr>\n",
       "    <tr>\n",
       "      <th>2021-11-01</th>\n",
       "      <td>2.26</td>\n",
       "    </tr>\n",
       "  </tbody>\n",
       "</table>\n",
       "</div>"
      ],
      "text/plain": [
       "             fids\n",
       "dates            \n",
       "2018-02-15  17.50\n",
       "2018-09-28  14.73\n",
       "2019-10-26  11.67\n",
       "2019-12-09   7.50\n",
       "2020-04-05   5.34\n",
       "2020-06-11   2.42\n",
       "2020-06-20  36.77\n",
       "2020-06-23  10.30\n",
       "2020-07-13   3.60\n",
       "2020-12-05   6.89\n",
       "2020-12-05   8.03\n",
       "2021-02-09   9.42\n",
       "2021-07-21   5.66\n",
       "2021-11-01   2.26"
      ]
     },
     "execution_count": 13,
     "metadata": {},
     "output_type": "execute_result"
    }
   ],
   "source": [
    "import pandas as pd\n",
    "import matplotlib.pyplot as plt\n",
    "\n",
    "cifar10_df = pd.DataFrame({\"dates\":dates, \"fids\":fids})\n",
    "cifar10_df[\"fids\"] = cifar10_df[\"fids\"].astype(float)\n",
    "cifar10_df = cifar10_df.sort_values(by=\"dates\")\n",
    "cifar10_df = cifar10_df.set_index(\"dates\")\n",
    "cifar10_df"
   ]
  },
  {
   "cell_type": "code",
   "execution_count": 14,
   "id": "c5668cca",
   "metadata": {},
   "outputs": [
    {
     "data": {
      "image/png": "[encoded data removed]",
      "text/plain": [
       "<Figure size 720x720 with 1 Axes>"
      ]
     },
     "metadata": {
      "needs_background": "light"
     },
     "output_type": "display_data"
    }
   ],
   "source": [
    "fig, ax = plt.subplots()\n",
    "plt.gcf().set_size_inches(10, 10)\n",
    "ax.scatter(cifar10_df.index, cifar10_df.fids)\n",
    "plt.plot(cifar10_df.cummin(), color=\"orange\")\n",
    "ax.set_xlabel(\"Time\")\n",
    "ax.set_ylabel(\"FID score\")\n",
    "ax.set_title(\"Fréchet inception distance on CIFAR 10 dataset - conditional image generation\")\n",
    "\n",
    "plt.xticks(rotation = 45) \n",
    "plt.show()"
   ]
  },
  {
   "cell_type": "code",
   "execution_count": 15,
   "id": "5e3a2edf",
   "metadata": {},
   "outputs": [
    {
     "data": {
      "text/plain": [
       "[Result(id='47c2e8e0-b98d-45a6-8e9d-101e1d444b3d', best_rank=1, metrics={'FID': '2.63', 'Inception score': '159.72'}, methodology='ADM-G + EDS (ED-DPM, classifier_scale=0.4)', uses_additional_data=False, paper='entropy-driven-sampling-and-training-scheme', best_metric='FID', evaluated_on='2022-03-07', external_source_url=None),\n",
       " Result(id='8176ac4e-53ea-4ea0-8ca9-0ab134a6d2ff', best_rank=None, metrics={'FID': '2.68', 'Inception score': '169.24'}, methodology='ADM-G + EDS + ECT (ED-DPM, classifier_scale=0.6)', uses_additional_data=False, paper='entropy-driven-sampling-and-training-scheme', best_metric=None, evaluated_on='2022-03-07', external_source_url=None),\n",
       " Result(id='e044fa0f-e858-47de-b9f5-7027ad5774fb', best_rank=None, metrics={'FID': '2.97'}, methodology='ADM-G (classifier_scale=0.5)', uses_additional_data=False, paper='diffusion-models-beat-gans-on-image-synthesis', best_metric=None, evaluated_on='2021-05-11', external_source_url=None),\n",
       " Result(id='5d14cd37-9173-4749-9a46-6c0ddb95c5e1', best_rank=2, metrics={'FID': '5.7', 'Inception score': '124.5'}, methodology='BigGAN-deep', uses_additional_data=False, paper='large-scale-gan-training-for-high-fidelity', best_metric='FID', evaluated_on='2018-09-28', external_source_url=None),\n",
       " Result(id='c092648d-5cae-4109-a223-d75d1d42120a', best_rank=5, metrics={'FID': '6.53', 'Inception score': '262.85'}, methodology='Omni-INR-GAN', uses_additional_data=False, paper='omni-gan-on-the-secrets-of-cgans-and-beyond', best_metric='FID', evaluated_on='2020-11-26', external_source_url=None),\n",
       " Result(id='c38a5d26-ac6e-4957-8a12-193db7f0ccfb', best_rank=None, metrics={'FID': '6.66'}, methodology='CR-BigGAN', uses_additional_data=False, paper='consistency-regularization-for-generative-1', best_metric=None, evaluated_on='2019-10-26', external_source_url=None),\n",
       " Result(id='6e2935c9-1738-4d71-8b3c-4ca471df47ad', best_rank=7, metrics={'FID': '7.7', 'Inception score': '83.1'}, methodology='S3 GAN', uses_additional_data=False, paper='high-fidelity-image-generation-with-fewer', best_metric='FID', evaluated_on='2019-03-06', external_source_url=None),\n",
       " Result(id='d8ced2c7-e160-43db-848c-550e4545e76e', best_rank=None, metrics={'FID': '8.02', 'Inception score': '108.10'}, methodology='ADC-GAN', uses_additional_data=False, paper='cgans-with-auxiliary-discriminative', best_metric=None, evaluated_on='2021-07-21', external_source_url=None),\n",
       " Result(id='ea7f4431-c753-4f97-af4f-6b93e41eb044', best_rank=None, metrics={'FID': '8.206', 'Inception score': '96.299'}, methodology='ReACGAN', uses_additional_data=False, paper='rebooting-acgan-auxiliary-classifier-gans', best_metric=None, evaluated_on='2021-11-01', external_source_url=None),\n",
       " Result(id='09e308b9-b981-4541-aeab-0cb2c87a8c6f', best_rank=5, metrics={'FID': '8.30', 'Inception score': '190.94'}, methodology='Omni-GAN', uses_additional_data=False, paper='omni-gan-on-the-secrets-of-cgans-and-beyond', best_metric='FID', evaluated_on='2020-11-26', external_source_url=None),\n",
       " Result(id='635ef37e-e0a5-4768-8ee1-69e99af45769', best_rank=None, metrics={'FID': '8.7', 'Inception score': '98.8'}, methodology='BigGAN', uses_additional_data=False, paper='large-scale-gan-training-for-high-fidelity', best_metric=None, evaluated_on='2018-09-28', external_source_url=None),\n",
       " Result(id='cb8abfae-089d-4f71-9c19-50cea619643e', best_rank=None, metrics={'FID': '9.5', 'Inception score': '108.6'}, methodology='IC-GAN + DA', uses_additional_data=False, paper='instance-conditioned-gan', best_metric=None, evaluated_on='2021-09-10', external_source_url=None),\n",
       " Result(id='7f3520e1-f64a-4d52-8f55-a6a5c604b282', best_rank=7, metrics={'FID': '9.61', 'Inception score': '114.32'}, methodology='BigGAN + instance selection', uses_additional_data=False, paper='instance-selection-for-gans', best_metric='FID', evaluated_on='2020-07-30', external_source_url=None),\n",
       " Result(id='3e9696a6-fc7d-49a6-860d-f35ff5faa9cc', best_rank=None, metrics={'FID': '13.77', 'Inception score': '54.36'}, methodology='FQ-GAN', uses_additional_data=False, paper='feature-quantization-improves-gan-training', best_metric=None, evaluated_on='2020-04-05', external_source_url=None),\n",
       " Result(id='dd6a9824-b98c-4291-832e-aad7a96acfa5', best_rank=15, metrics={'FID': '14.80', 'Inception score': '58.75'}, methodology='HamGAN', uses_additional_data=False, paper='is-attention-better-than-matrix-decomposition-1', best_metric='FID', evaluated_on='2020-09-26', external_source_url=None),\n",
       " Result(id='ae7ed796-185d-4f0f-b8ea-d20c727f273d', best_rank=16, metrics={'FID': '15.94', 'Inception score': '57.22'}, methodology='Your Local GAN', uses_additional_data=False, paper='your-local-gan-designing-two-dimensional', best_metric='FID', evaluated_on='2019-11-27', external_source_url=None),\n",
       " Result(id='aa68232c-45d2-4f9b-a7ea-e44ea8dbec2d', best_rank=17, metrics={'FID': '18.65', 'Inception score': '52.52'}, methodology='SAGAN', uses_additional_data=False, paper='self-attention-generative-adversarial', best_metric='FID', evaluated_on='2018-05-21', external_source_url=None),\n",
       " Result(id='350f3f5c-d5c3-472e-8889-89be6ef4ad13', best_rank=None, metrics={'FID': '27.62', 'Inception score': '36.8'}, methodology='Projection Discriminator', uses_additional_data=False, paper='cgans-with-projection-discriminator', best_metric=None, evaluated_on='2018-02-15', external_source_url=None),\n",
       " Result(id='6e1cb156-da76-43ae-b47c-1f0d7da7697e', best_rank=10, metrics={'Inception score': '28.5'}, methodology='AC-GAN', uses_additional_data=False, paper='conditional-image-synthesis-with-auxiliary', best_metric='Inception score', evaluated_on='2016-10-30', external_source_url=None)]"
      ]
     },
     "execution_count": 15,
     "metadata": {},
     "output_type": "execute_result"
    }
   ],
   "source": [
    "imagenet_results = client.evaluation_result_list(evaluation_id=\"conditional-image-generation-on-imagenet\").results\n",
    "imagenet_results"
   ]
  },
  {
   "cell_type": "code",
   "execution_count": 16,
   "id": "7d5ef1ac",
   "metadata": {},
   "outputs": [
    {
     "name": "stdout",
     "output_type": "stream",
     "text": [
      "2022-03-07 2.63\n",
      "2022-03-07 2.68\n",
      "2021-05-11 2.97\n",
      "2018-09-28 5.7\n",
      "2020-11-26 6.53\n",
      "2019-10-26 6.66\n",
      "2019-03-06 7.7\n",
      "2021-07-21 8.02\n",
      "2021-11-01 8.206\n",
      "2020-11-26 8.30\n",
      "2018-09-28 8.7\n",
      "2021-09-10 9.5\n",
      "2020-07-30 9.61\n",
      "2020-04-05 13.77\n",
      "2020-09-26 14.80\n",
      "2019-11-27 15.94\n",
      "2018-05-21 18.65\n",
      "2018-02-15 27.62\n"
     ]
    }
   ],
   "source": [
    "dates = []\n",
    "fids = []\n",
    "\n",
    "for result in imagenet_results:\n",
    "    if result.metrics.get(\"FID\"):\n",
    "        print(result.evaluated_on, result.metrics[\"FID\"])\n",
    "        dates.append(result.evaluated_on)\n",
    "        fids.append(result.metrics[\"FID\"])\n"
   ]
  },
  {
   "cell_type": "code",
   "execution_count": 17,
   "id": "3c0df2a2",
   "metadata": {},
   "outputs": [
    {
     "data": {
      "text/html": [
       "<div>\n",
       "<style scoped>\n",
       "    .dataframe tbody tr th:only-of-type {\n",
       "        vertical-align: middle;\n",
       "    }\n",
       "\n",
       "    .dataframe tbody tr th {\n",
       "        vertical-align: top;\n",
       "    }\n",
       "\n",
       "    .dataframe thead th {\n",
       "        text-align: right;\n",
       "    }\n",
       "</style>\n",
       "<table border=\"1\" class=\"dataframe\">\n",
       "  <thead>\n",
       "    <tr style=\"text-align: right;\">\n",
       "      <th></th>\n",
       "      <th>fids</th>\n",
       "    </tr>\n",
       "    <tr>\n",
       "      <th>dates</th>\n",
       "      <th></th>\n",
       "    </tr>\n",
       "  </thead>\n",
       "  <tbody>\n",
       "    <tr>\n",
       "      <th>2018-02-15</th>\n",
       "      <td>27.620</td>\n",
       "    </tr>\n",
       "    <tr>\n",
       "      <th>2018-05-21</th>\n",
       "      <td>18.650</td>\n",
       "    </tr>\n",
       "    <tr>\n",
       "      <th>2018-09-28</th>\n",
       "      <td>5.700</td>\n",
       "    </tr>\n",
       "    <tr>\n",
       "      <th>2018-09-28</th>\n",
       "      <td>8.700</td>\n",
       "    </tr>\n",
       "    <tr>\n",
       "      <th>2019-03-06</th>\n",
       "      <td>7.700</td>\n",
       "    </tr>\n",
       "    <tr>\n",
       "      <th>2019-10-26</th>\n",
       "      <td>6.660</td>\n",
       "    </tr>\n",
       "    <tr>\n",
       "      <th>2019-11-27</th>\n",
       "      <td>15.940</td>\n",
       "    </tr>\n",
       "    <tr>\n",
       "      <th>2020-04-05</th>\n",
       "      <td>13.770</td>\n",
       "    </tr>\n",
       "    <tr>\n",
       "      <th>2020-07-30</th>\n",
       "      <td>9.610</td>\n",
       "    </tr>\n",
       "    <tr>\n",
       "      <th>2020-09-26</th>\n",
       "      <td>14.800</td>\n",
       "    </tr>\n",
       "    <tr>\n",
       "      <th>2020-11-26</th>\n",
       "      <td>6.530</td>\n",
       "    </tr>\n",
       "    <tr>\n",
       "      <th>2020-11-26</th>\n",
       "      <td>8.300</td>\n",
       "    </tr>\n",
       "    <tr>\n",
       "      <th>2021-05-11</th>\n",
       "      <td>2.970</td>\n",
       "    </tr>\n",
       "    <tr>\n",
       "      <th>2021-07-21</th>\n",
       "      <td>8.020</td>\n",
       "    </tr>\n",
       "    <tr>\n",
       "      <th>2021-09-10</th>\n",
       "      <td>9.500</td>\n",
       "    </tr>\n",
       "    <tr>\n",
       "      <th>2021-11-01</th>\n",
       "      <td>8.206</td>\n",
       "    </tr>\n",
       "    <tr>\n",
       "      <th>2022-03-07</th>\n",
       "      <td>2.680</td>\n",
       "    </tr>\n",
       "    <tr>\n",
       "      <th>2022-03-07</th>\n",
       "      <td>2.630</td>\n",
       "    </tr>\n",
       "  </tbody>\n",
       "</table>\n",
       "</div>"
      ],
      "text/plain": [
       "              fids\n",
       "dates             \n",
       "2018-02-15  27.620\n",
       "2018-05-21  18.650\n",
       "2018-09-28   5.700\n",
       "2018-09-28   8.700\n",
       "2019-03-06   7.700\n",
       "2019-10-26   6.660\n",
       "2019-11-27  15.940\n",
       "2020-04-05  13.770\n",
       "2020-07-30   9.610\n",
       "2020-09-26  14.800\n",
       "2020-11-26   6.530\n",
       "2020-11-26   8.300\n",
       "2021-05-11   2.970\n",
       "2021-07-21   8.020\n",
       "2021-09-10   9.500\n",
       "2021-11-01   8.206\n",
       "2022-03-07   2.680\n",
       "2022-03-07   2.630"
      ]
     },
     "execution_count": 17,
     "metadata": {},
     "output_type": "execute_result"
    }
   ],
   "source": [
    "\n",
    "imagenet_df = pd.DataFrame({\"dates\":dates, \"fids\":fids})\n",
    "imagenet_df[\"fids\"] = imagenet_df[\"fids\"].astype(float)\n",
    "imagenet_df = imagenet_df.sort_values(by=\"dates\")\n",
    "imagenet_df = imagenet_df.set_index(\"dates\")\n",
    "imagenet_df"
   ]
  },
  {
   "cell_type": "code",
   "execution_count": 28,
   "id": "8177d963",
   "metadata": {},
   "outputs": [
    {
     "data": {
      "image/png": "[encoded data removed]",
      "text/plain": [
       "<Figure size 720x432 with 1 Axes>"
      ]
     },
     "metadata": {
      "needs_background": "light"
     },
     "output_type": "display_data"
    }
   ],
   "source": [
    "fig, ax = plt.subplots()\n",
    "plt.gcf().set_size_inches(10, 6)\n",
    "ax.scatter(imagenet_df.index, imagenet_df.fids, label=\"Models with FID score measured\")\n",
    "plt.plot(imagenet_df.cummin(), color=\"orange\", label=\"Best model at timepoint\")\n",
    "plt.xticks(rotation = 45) \n",
    "ax.set_xlabel(\"Time\")\n",
    "ax.set_ylabel(\"FID score\")\n",
    "ax.set_title(\"Fréchet inception distance on ImageNet dataset  - conditional image generation\")\n",
    "ax.legend()\n",
    "\n",
    "plt.show()"
   ]
  },
  {
   "cell_type": "code",
   "execution_count": 19,
   "id": "72ce9d3e",
   "metadata": {},
   "outputs": [
    {
     "data": {
      "text/html": [
       "<div>\n",
       "<style scoped>\n",
       "    .dataframe tbody tr th:only-of-type {\n",
       "        vertical-align: middle;\n",
       "    }\n",
       "\n",
       "    .dataframe tbody tr th {\n",
       "        vertical-align: top;\n",
       "    }\n",
       "\n",
       "    .dataframe thead th {\n",
       "        text-align: right;\n",
       "    }\n",
       "</style>\n",
       "<table border=\"1\" class=\"dataframe\">\n",
       "  <thead>\n",
       "    <tr style=\"text-align: right;\">\n",
       "      <th></th>\n",
       "      <th>fids</th>\n",
       "    </tr>\n",
       "    <tr>\n",
       "      <th>dates</th>\n",
       "      <th></th>\n",
       "    </tr>\n",
       "  </thead>\n",
       "  <tbody>\n",
       "    <tr>\n",
       "      <th>2018-02-15</th>\n",
       "      <td>27.62</td>\n",
       "    </tr>\n",
       "    <tr>\n",
       "      <th>2018-05-21</th>\n",
       "      <td>18.65</td>\n",
       "    </tr>\n",
       "    <tr>\n",
       "      <th>2018-09-28</th>\n",
       "      <td>5.70</td>\n",
       "    </tr>\n",
       "    <tr>\n",
       "      <th>2021-05-11</th>\n",
       "      <td>2.97</td>\n",
       "    </tr>\n",
       "    <tr>\n",
       "      <th>2022-03-07</th>\n",
       "      <td>2.68</td>\n",
       "    </tr>\n",
       "    <tr>\n",
       "      <th>2022-03-07</th>\n",
       "      <td>2.63</td>\n",
       "    </tr>\n",
       "  </tbody>\n",
       "</table>\n",
       "</div>"
      ],
      "text/plain": [
       "             fids\n",
       "dates            \n",
       "2018-02-15  27.62\n",
       "2018-05-21  18.65\n",
       "2018-09-28   5.70\n",
       "2021-05-11   2.97\n",
       "2022-03-07   2.68\n",
       "2022-03-07   2.63"
      ]
     },
     "execution_count": 19,
     "metadata": {},
     "output_type": "execute_result"
    }
   ],
   "source": [
    "targets = imagenet_df.cummin().drop_duplicates()\n",
    "targets"
   ]
  },
  {
   "cell_type": "code",
   "execution_count": 20,
   "id": "f2e2cf77",
   "metadata": {},
   "outputs": [],
   "source": [
    "targets.iloc[4]=None\n",
    "targets.dropna(inplace=True)"
   ]
  },
  {
   "cell_type": "code",
   "execution_count": 21,
   "id": "ee2968ca",
   "metadata": {},
   "outputs": [
    {
     "data": {
      "text/html": [
       "<div>\n",
       "<style scoped>\n",
       "    .dataframe tbody tr th:only-of-type {\n",
       "        vertical-align: middle;\n",
       "    }\n",
       "\n",
       "    .dataframe tbody tr th {\n",
       "        vertical-align: top;\n",
       "    }\n",
       "\n",
       "    .dataframe thead th {\n",
       "        text-align: right;\n",
       "    }\n",
       "</style>\n",
       "<table border=\"1\" class=\"dataframe\">\n",
       "  <thead>\n",
       "    <tr style=\"text-align: right;\">\n",
       "      <th></th>\n",
       "      <th>fids</th>\n",
       "    </tr>\n",
       "    <tr>\n",
       "      <th>dates</th>\n",
       "      <th></th>\n",
       "    </tr>\n",
       "  </thead>\n",
       "  <tbody>\n",
       "    <tr>\n",
       "      <th>2018-02-15</th>\n",
       "      <td>27.62</td>\n",
       "    </tr>\n",
       "    <tr>\n",
       "      <th>2018-05-21</th>\n",
       "      <td>18.65</td>\n",
       "    </tr>\n",
       "    <tr>\n",
       "      <th>2018-09-28</th>\n",
       "      <td>5.70</td>\n",
       "    </tr>\n",
       "    <tr>\n",
       "      <th>2021-05-11</th>\n",
       "      <td>2.97</td>\n",
       "    </tr>\n",
       "    <tr>\n",
       "      <th>2022-03-07</th>\n",
       "      <td>2.63</td>\n",
       "    </tr>\n",
       "  </tbody>\n",
       "</table>\n",
       "</div>"
      ],
      "text/plain": [
       "             fids\n",
       "dates            \n",
       "2018-02-15  27.62\n",
       "2018-05-21  18.65\n",
       "2018-09-28   5.70\n",
       "2021-05-11   2.97\n",
       "2022-03-07   2.63"
      ]
     },
     "execution_count": 21,
     "metadata": {},
     "output_type": "execute_result"
    }
   ],
   "source": [
    "targets"
   ]
  },
  {
   "cell_type": "code",
   "execution_count": 22,
   "id": "49e4f42b",
   "metadata": {},
   "outputs": [
    {
     "data": {
      "text/plain": [
       "array([   1,   96,  226,  226,  385,  619,  651,  781,  897,  955, 1016,\n",
       "       1016, 1182, 1253, 1304, 1356, 1482, 1482])"
      ]
     },
     "execution_count": 22,
     "metadata": {},
     "output_type": "execute_result"
    }
   ],
   "source": [
    "import numpy as np\n",
    "\n",
    "basedate = pd.to_datetime(imagenet_df.index[0])\n",
    "\n",
    "full_times = pd.to_datetime(imagenet_df.index).to_series().apply(lambda x: (x - basedate).days).values +1\n",
    "full_times"
   ]
  },
  {
   "cell_type": "code",
   "execution_count": 23,
   "id": "863e9f87",
   "metadata": {},
   "outputs": [
    {
     "data": {
      "text/plain": [
       "array([   1,   96,  226, 1182, 1482])"
      ]
     },
     "execution_count": 23,
     "metadata": {},
     "output_type": "execute_result"
    }
   ],
   "source": [
    "basedate = pd.to_datetime(targets.index[0])\n",
    "\n",
    "times = pd.to_datetime(targets.index).to_series().apply(lambda x: (x - basedate).days).values +1\n",
    "times"
   ]
  },
  {
   "cell_type": "code",
   "execution_count": 24,
   "id": "701170b3",
   "metadata": {},
   "outputs": [
    {
     "data": {
      "text/plain": [
       "array([1482, 1847, 2212, 2577])"
      ]
     },
     "execution_count": 24,
     "metadata": {},
     "output_type": "execute_result"
    }
   ],
   "source": [
    "future = np.array([times[-1]+x*365 for x in range(4)])\n",
    "future"
   ]
  },
  {
   "cell_type": "code",
   "execution_count": 25,
   "id": "10acb391",
   "metadata": {},
   "outputs": [],
   "source": [
    "future_dates = []\n",
    "for i in range(4):\n",
    "    future_dates.append((pd.to_datetime(imagenet_df.index[-1])+ pd.to_timedelta(i*365, unit='d')).strftime(\"%Y-%m-%d\"))"
   ]
  },
  {
   "cell_type": "code",
   "execution_count": 30,
   "id": "01bc749a",
   "metadata": {},
   "outputs": [
    {
     "name": "stderr",
     "output_type": "stream",
     "text": [
      "/tmp/ipykernel_32922/3425849159.py:6: RuntimeWarning: overflow encountered in power\n",
      "  return A * (1-K)**t + C\n"
     ]
    },
    {
     "data": {
      "image/png": "[encoded data removed]",
      "text/plain": [
       "<Figure size 720x432 with 1 Axes>"
      ]
     },
     "metadata": {
      "needs_background": "light"
     },
     "output_type": "display_data"
    },
    {
     "name": "stdout",
     "output_type": "stream",
     "text": [
      "A: 26.143090833690238 K 0.006653577362310466 C 2.406840952038326\n"
     ]
    }
   ],
   "source": [
    "import scipy as sp\n",
    "import scipy.optimize\n",
    "\n",
    "\n",
    "def model_func(t, A, K, C):\n",
    "    return A * (1-K)**t + C\n",
    "\n",
    "def fit_exp_nonlinear(t, y):\n",
    "    opt_parms, parm_cov = sp.optimize.curve_fit(model_func, t, y, maxfev=100)\n",
    "    A, K, C = opt_parms\n",
    "    return A, K, C\n",
    "\n",
    "A, K, C = fit_exp_nonlinear(times, targets.fids.values)\n",
    "fit_y = model_func(times, A, K, C)\n",
    "\n",
    "future_y = model_func(future, A, K, C)\n",
    "\n",
    "\n",
    "fig, ax = plt.subplots()\n",
    "plt.gcf().set_size_inches(10, 6)\n",
    "plt.plot(times, fit_y, label=\"Fitted exponential decay model\")\n",
    "plt.scatter(full_times, imagenet_df.fids, label=\"Models with FID score measured\")\n",
    "plt.plot(future, future_y, label=\"Projections of exponential decay model\")\n",
    "plt.scatter(future, future_y)\n",
    "plt.xticks(ticks=list(times)+list(future[1:]), labels=list(targets.index)+future_dates[1:],rotation = 45) \n",
    "\n",
    "ax.set_xlabel(\"Time\")\n",
    "ax.set_ylabel(\"FID score\")\n",
    "\n",
    "plt.text(times[0]+50, targets.fids.values[0]-0.5, str(targets.fids.values[0])[:4], color=\"blue\")\n",
    "\n",
    "\n",
    "plt.text(times[-1]-50, targets.fids.values[-1]+0.7, str(targets.fids.values[-1])[:4], color=\"blue\")\n",
    "\n",
    "plt.text(future[-1]-50, future_y[-1]+0.7, str(future_y[-1])[:4], color=\"orange\")\n",
    "plt.title(\"Future projected FID based on exponential decay model  \\n\\\n",
    "Conditional image generation on ImageNet\")\n",
    "plt.legend()\n",
    "plt.show()\n",
    "print(\"A:\",A,\"K\",K,\"C\",C)\n",
    "#print(fit_y)"
   ]
  }
 ],
 "metadata": {
  "kernelspec": {
   "display_name": "Python 3 (ipykernel)",
   "language": "python",
   "name": "python3"
  },
  "language_info": {
   "codemirror_mode": {
    "name": "ipython",
    "version": 3
   },
   "file_extension": ".py",
   "mimetype": "text/x-python",
   "name": "python",
   "nbconvert_exporter": "python",
   "pygments_lexer": "ipython3",
   "version": "3.8.12"
  }
 },
 "nbformat": 4,
 "nbformat_minor": 5
}
