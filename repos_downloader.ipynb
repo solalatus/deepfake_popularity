{
 "cells": [
  {
   "cell_type": "code",
   "execution_count": 8,
   "id": "52eda335",
   "metadata": {},
   "outputs": [
    {
     "name": "stdout",
     "output_type": "stream",
     "text": [
      "Requirement already satisfied: PyGithub in /home/alatus/anaconda3/envs/10_days_AI/lib/python3.8/site-packages (1.55)\n",
      "Requirement already satisfied: pyjwt>=2.0 in /home/alatus/anaconda3/envs/10_days_AI/lib/python3.8/site-packages (from PyGithub) (2.1.0)\n",
      "Requirement already satisfied: pynacl>=1.4.0 in /home/alatus/anaconda3/envs/10_days_AI/lib/python3.8/site-packages (from PyGithub) (1.5.0)\n",
      "Requirement already satisfied: requests>=2.14.0 in /home/alatus/anaconda3/envs/10_days_AI/lib/python3.8/site-packages (from PyGithub) (2.26.0)\n",
      "Requirement already satisfied: deprecated in /home/alatus/anaconda3/envs/10_days_AI/lib/python3.8/site-packages (from PyGithub) (1.2.13)\n",
      "Requirement already satisfied: cffi>=1.4.1 in /home/alatus/anaconda3/envs/10_days_AI/lib/python3.8/site-packages (from pynacl>=1.4.0->PyGithub) (1.14.6)\n",
      "Requirement already satisfied: pycparser in /home/alatus/anaconda3/envs/10_days_AI/lib/python3.8/site-packages (from cffi>=1.4.1->pynacl>=1.4.0->PyGithub) (2.21)\n",
      "Requirement already satisfied: idna<4,>=2.5 in /home/alatus/anaconda3/envs/10_days_AI/lib/python3.8/site-packages (from requests>=2.14.0->PyGithub) (3.3)\n",
      "Requirement already satisfied: certifi>=2017.4.17 in /home/alatus/anaconda3/envs/10_days_AI/lib/python3.8/site-packages (from requests>=2.14.0->PyGithub) (2021.10.8)\n",
      "Requirement already satisfied: charset-normalizer~=2.0.0 in /home/alatus/anaconda3/envs/10_days_AI/lib/python3.8/site-packages (from requests>=2.14.0->PyGithub) (2.0.4)\n",
      "Requirement already satisfied: urllib3<1.27,>=1.21.1 in /home/alatus/anaconda3/envs/10_days_AI/lib/python3.8/site-packages (from requests>=2.14.0->PyGithub) (1.26.7)\n",
      "Requirement already satisfied: wrapt<2,>=1.10 in /home/alatus/anaconda3/envs/10_days_AI/lib/python3.8/site-packages (from deprecated->PyGithub) (1.13.3)\n",
      "Collecting tqdm\n",
      "  Downloading tqdm-4.64.1-py2.py3-none-any.whl (78 kB)\n",
      "\u001b[K     |████████████████████████████████| 78 kB 898 kB/s eta 0:00:01\n",
      "\u001b[?25hInstalling collected packages: tqdm\n",
      "Successfully installed tqdm-4.64.1\n"
     ]
    }
   ],
   "source": [
    "!pip install PyGithub\n",
    "!pip install tqdm"
   ]
  },
  {
   "cell_type": "code",
   "execution_count": 3,
   "id": "9126a80a",
   "metadata": {},
   "outputs": [],
   "source": [
    "from github import Github\n"
   ]
  },
  {
   "cell_type": "code",
   "execution_count": 1,
   "id": "71c43237",
   "metadata": {},
   "outputs": [],
   "source": [
    "with open(\"token.txt\",\"r\") as fil:\n",
    "    TOKEN=fil.readline()"
   ]
  },
  {
   "cell_type": "code",
   "execution_count": 135,
   "id": "604c1ca1",
   "metadata": {},
   "outputs": [
    {
     "name": "stdout",
     "output_type": "stream",
     "text": [
      "Total count: 1928\n",
      "Limit approaching, sleeping a minute...\n",
      "Total count: 19289\n",
      "Limit approaching, sleeping a minute...\n",
      "Actual count: 1019\r"
     ]
    }
   ],
   "source": [
    "import time\n",
    "\n",
    "repos = set()\n",
    "\n",
    "def search_filtered(github_object, repos=None, desc=True):\n",
    "    \n",
    "    if desc:\n",
    "        search_results = github_object.search_repositories(query='deepfake', sort='stars', order='desc')\n",
    "    else:\n",
    "        search_results = github_object.search_repositories(query='deepfake', sort='stars', order='asc')\n",
    "\n",
    "    search_results.get_page(0)\n",
    "    print(\"Total count:\", search_results.totalCount)\n",
    "\n",
    "    counter = 0\n",
    "    for result in search_results:\n",
    "        print(\"Actual count:\",counter, end='\\r')\n",
    "        repos.add(result.full_name)\n",
    "        #break\n",
    "        counter+=1\n",
    "        if counter % 800 == 0:\n",
    "            print(\"Limit approaching, sleeping a minute...\")\n",
    "            for i in range(60,0,-1):\n",
    "                print(i, end='\\r')\n",
    "                time.sleep(1)\n",
    "    return repos\n",
    "\n",
    "g = Github(TOKEN)\n",
    "\n",
    "repos = search_filtered(g, repos)\n",
    "\n",
    "g = Github(TOKEN)\n",
    "\n",
    "print()\n",
    "print(\"Running again with reverse order to circumvent max search limit...\")\n",
    "print(\"Waiting to circumvent timeout...\")\n",
    "for i in range(60,0,-1):\n",
    "    print(i, end='\\r')\n",
    "    time.sleep(1)\n",
    "repos = search_filtered(g, repos, desc=False)"
   ]
  },
  {
   "cell_type": "code",
   "execution_count": 138,
   "id": "a20f982c",
   "metadata": {},
   "outputs": [
    {
     "name": "stdout",
     "output_type": "stream",
     "text": [
      "Total number of optained repos: 1496\n"
     ]
    }
   ],
   "source": [
    "print(\"Total number of obtained repos:\",len(repos))"
   ]
  },
  {
   "cell_type": "code",
   "execution_count": 137,
   "id": "c097e1f9",
   "metadata": {},
   "outputs": [],
   "source": [
    "with open(\"repos.txt\", 'w') as fp:\n",
    "    for repo in repos:\n",
    "        fp.write(\"%s\\n\" % repo)"
   ]
  }
 ],
 "metadata": {
  "kernelspec": {
   "display_name": "Python 3 (ipykernel)",
   "language": "python",
   "name": "python3"
  },
  "language_info": {
   "codemirror_mode": {
    "name": "ipython",
    "version": 3
   },
   "file_extension": ".py",
   "mimetype": "text/x-python",
   "name": "python",
   "nbconvert_exporter": "python",
   "pygments_lexer": "ipython3",
   "version": "3.8.12"
  }
 },
 "nbformat": 4,
 "nbformat_minor": 5
}
